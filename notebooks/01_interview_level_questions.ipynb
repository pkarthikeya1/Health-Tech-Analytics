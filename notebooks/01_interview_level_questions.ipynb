{
 "cells": [
  {
   "cell_type": "code",
   "execution_count": 32,
   "metadata": {},
   "outputs": [],
   "source": [
    "import pandas as pd\n",
    "# from src.utils import calculate_campign_metrics"
   ]
  },
  {
   "cell_type": "code",
   "execution_count": 33,
   "metadata": {},
   "outputs": [],
   "source": [
    "df = pd.read_csv(r'C:\\Users\\karthikeya\\health_tech_analytics\\results\\signup_counts.csv')"
   ]
  },
  {
   "cell_type": "code",
   "execution_count": 34,
   "metadata": {},
   "outputs": [
    {
     "data": {
      "text/html": [
       "<div>\n",
       "<style scoped>\n",
       "    .dataframe tbody tr th:only-of-type {\n",
       "        vertical-align: middle;\n",
       "    }\n",
       "\n",
       "    .dataframe tbody tr th {\n",
       "        vertical-align: top;\n",
       "    }\n",
       "\n",
       "    .dataframe thead th {\n",
       "        text-align: right;\n",
       "    }\n",
       "</style>\n",
       "<table border=\"1\" class=\"dataframe\">\n",
       "  <thead>\n",
       "    <tr style=\"text-align: right;\">\n",
       "      <th></th>\n",
       "      <th>campaign_id</th>\n",
       "      <th>campaign_category</th>\n",
       "      <th>campaign_type</th>\n",
       "      <th>cost</th>\n",
       "      <th>platform</th>\n",
       "      <th>impressions</th>\n",
       "      <th>clicks</th>\n",
       "      <th>days_run</th>\n",
       "      <th>campaign_id_1</th>\n",
       "      <th>num_signups</th>\n",
       "    </tr>\n",
       "  </thead>\n",
       "  <tbody>\n",
       "    <tr>\n",
       "      <th>0</th>\n",
       "      <td>CAM001</td>\n",
       "      <td>Tailored Health Plans</td>\n",
       "      <td>Covid Awareness</td>\n",
       "      <td>1335.566784</td>\n",
       "      <td>SEO</td>\n",
       "      <td>291270</td>\n",
       "      <td>20510.0</td>\n",
       "      <td>45</td>\n",
       "      <td>CAM001</td>\n",
       "      <td>965.0</td>\n",
       "    </tr>\n",
       "    <tr>\n",
       "      <th>1</th>\n",
       "      <td>CAM002</td>\n",
       "      <td>Preventive Care News</td>\n",
       "      <td>Customer Testimonial</td>\n",
       "      <td>1624.442464</td>\n",
       "      <td>Email</td>\n",
       "      <td>428100</td>\n",
       "      <td>47330.0</td>\n",
       "      <td>48</td>\n",
       "      <td>CAM002</td>\n",
       "      <td>586.0</td>\n",
       "    </tr>\n",
       "    <tr>\n",
       "      <th>2</th>\n",
       "      <td>CAM003</td>\n",
       "      <td>Preventive Care News</td>\n",
       "      <td>Policy Information</td>\n",
       "      <td>1944.226008</td>\n",
       "      <td>Email</td>\n",
       "      <td>260280</td>\n",
       "      <td>36990.0</td>\n",
       "      <td>40</td>\n",
       "      <td>CAM003</td>\n",
       "      <td>46.0</td>\n",
       "    </tr>\n",
       "    <tr>\n",
       "      <th>3</th>\n",
       "      <td>CAM004</td>\n",
       "      <td>Compare Health Coverage</td>\n",
       "      <td>Customer Testimonial</td>\n",
       "      <td>1354.937186</td>\n",
       "      <td>SEO</td>\n",
       "      <td>100690</td>\n",
       "      <td>42440.0</td>\n",
       "      <td>36</td>\n",
       "      <td>CAM004</td>\n",
       "      <td>1546.0</td>\n",
       "    </tr>\n",
       "    <tr>\n",
       "      <th>4</th>\n",
       "      <td>CAM005</td>\n",
       "      <td>Golden Years Security</td>\n",
       "      <td>Offer Announcement</td>\n",
       "      <td>1519.167326</td>\n",
       "      <td>SEO</td>\n",
       "      <td>148170</td>\n",
       "      <td>2345.0</td>\n",
       "      <td>44</td>\n",
       "      <td>CAM005</td>\n",
       "      <td>1.0</td>\n",
       "    </tr>\n",
       "    <tr>\n",
       "      <th>5</th>\n",
       "      <td>CAM006</td>\n",
       "      <td>Compare Health Coverage</td>\n",
       "      <td>Product Promotion</td>\n",
       "      <td>1254.286130</td>\n",
       "      <td>SEO</td>\n",
       "      <td>100630</td>\n",
       "      <td>22080.0</td>\n",
       "      <td>44</td>\n",
       "      <td>CAM006</td>\n",
       "      <td>1273.0</td>\n",
       "    </tr>\n",
       "    <tr>\n",
       "      <th>6</th>\n",
       "      <td>CAM007</td>\n",
       "      <td>#HealthyLiving</td>\n",
       "      <td>Policy Information</td>\n",
       "      <td>1173.585931</td>\n",
       "      <td>Social Media</td>\n",
       "      <td>482520</td>\n",
       "      <td>45155.0</td>\n",
       "      <td>30</td>\n",
       "      <td>CAM007</td>\n",
       "      <td>2.0</td>\n",
       "    </tr>\n",
       "    <tr>\n",
       "      <th>7</th>\n",
       "      <td>CAM008</td>\n",
       "      <td>Preventive Care News</td>\n",
       "      <td>Policy Information</td>\n",
       "      <td>223.085599</td>\n",
       "      <td>Email</td>\n",
       "      <td>336700</td>\n",
       "      <td>42175.0</td>\n",
       "      <td>35</td>\n",
       "      <td>CAM008</td>\n",
       "      <td>11.0</td>\n",
       "    </tr>\n",
       "    <tr>\n",
       "      <th>8</th>\n",
       "      <td>CAM009</td>\n",
       "      <td>Tailored Health Plans</td>\n",
       "      <td>Health Awareness</td>\n",
       "      <td>394.641083</td>\n",
       "      <td>SEO</td>\n",
       "      <td>480790</td>\n",
       "      <td>34210.0</td>\n",
       "      <td>38</td>\n",
       "      <td>CAM009</td>\n",
       "      <td>114.0</td>\n",
       "    </tr>\n",
       "    <tr>\n",
       "      <th>9</th>\n",
       "      <td>CAM010</td>\n",
       "      <td>Affordable Plans</td>\n",
       "      <td>Covid Awareness</td>\n",
       "      <td>820.580377</td>\n",
       "      <td>SEO</td>\n",
       "      <td>221170</td>\n",
       "      <td>12460.0</td>\n",
       "      <td>27</td>\n",
       "      <td>CAM010</td>\n",
       "      <td>51.0</td>\n",
       "    </tr>\n",
       "    <tr>\n",
       "      <th>10</th>\n",
       "      <td>CAM011</td>\n",
       "      <td>Golden Years Security</td>\n",
       "      <td>Offer Announcement</td>\n",
       "      <td>1334.056787</td>\n",
       "      <td>SEO</td>\n",
       "      <td>200340</td>\n",
       "      <td>3634.0</td>\n",
       "      <td>25</td>\n",
       "      <td>CAM011</td>\n",
       "      <td>22.0</td>\n",
       "    </tr>\n",
       "    <tr>\n",
       "      <th>11</th>\n",
       "      <td>CAM012</td>\n",
       "      <td>#CoverageMatters</td>\n",
       "      <td>Product Promotion</td>\n",
       "      <td>244.008996</td>\n",
       "      <td>Social Media</td>\n",
       "      <td>72280</td>\n",
       "      <td>6010.0</td>\n",
       "      <td>27</td>\n",
       "      <td>CAM012</td>\n",
       "      <td>1.0</td>\n",
       "    </tr>\n",
       "    <tr>\n",
       "      <th>12</th>\n",
       "      <td>CAM013</td>\n",
       "      <td>#InsureYourHealth</td>\n",
       "      <td>Customer Testimonial</td>\n",
       "      <td>1134.316809</td>\n",
       "      <td>Social Media</td>\n",
       "      <td>289290</td>\n",
       "      <td>18240.0</td>\n",
       "      <td>23</td>\n",
       "      <td>CAM013</td>\n",
       "      <td>24.0</td>\n",
       "    </tr>\n",
       "    <tr>\n",
       "      <th>13</th>\n",
       "      <td>CAM014</td>\n",
       "      <td>Summer Wellness Tips</td>\n",
       "      <td>Policy Information</td>\n",
       "      <td>125.046745</td>\n",
       "      <td>Email</td>\n",
       "      <td>290300</td>\n",
       "      <td>44040.0</td>\n",
       "      <td>29</td>\n",
       "      <td>CAM014</td>\n",
       "      <td>161.0</td>\n",
       "    </tr>\n",
       "    <tr>\n",
       "      <th>14</th>\n",
       "      <td>CAM015</td>\n",
       "      <td>Summer Wellness Tips</td>\n",
       "      <td>Health Awareness</td>\n",
       "      <td>1555.577561</td>\n",
       "      <td>Email</td>\n",
       "      <td>215420</td>\n",
       "      <td>41970.0</td>\n",
       "      <td>24</td>\n",
       "      <td>CAM015</td>\n",
       "      <td>2.0</td>\n",
       "    </tr>\n",
       "    <tr>\n",
       "      <th>15</th>\n",
       "      <td>CAM016</td>\n",
       "      <td>Compare Health Coverage</td>\n",
       "      <td>Covid Awareness</td>\n",
       "      <td>1367.173425</td>\n",
       "      <td>SEO</td>\n",
       "      <td>295250</td>\n",
       "      <td>15760.0</td>\n",
       "      <td>18</td>\n",
       "      <td>CAM016</td>\n",
       "      <td>1.0</td>\n",
       "    </tr>\n",
       "    <tr>\n",
       "      <th>16</th>\n",
       "      <td>CAM017</td>\n",
       "      <td>Tailored Health Plans</td>\n",
       "      <td>Offer Announcement</td>\n",
       "      <td>1089.283035</td>\n",
       "      <td>SEO</td>\n",
       "      <td>451840</td>\n",
       "      <td>23370.0</td>\n",
       "      <td>25</td>\n",
       "      <td>CAM017</td>\n",
       "      <td>27.0</td>\n",
       "    </tr>\n",
       "    <tr>\n",
       "      <th>17</th>\n",
       "      <td>CAM018</td>\n",
       "      <td>Health For All</td>\n",
       "      <td>Health Awareness</td>\n",
       "      <td>1185.171031</td>\n",
       "      <td>Email</td>\n",
       "      <td>88220</td>\n",
       "      <td>43453.0</td>\n",
       "      <td>20</td>\n",
       "      <td>CAM018</td>\n",
       "      <td>3279.0</td>\n",
       "    </tr>\n",
       "    <tr>\n",
       "      <th>18</th>\n",
       "      <td>CAM019</td>\n",
       "      <td>#InsureYourHealth</td>\n",
       "      <td>Covid Awareness</td>\n",
       "      <td>1872.242670</td>\n",
       "      <td>Social Media</td>\n",
       "      <td>215500</td>\n",
       "      <td>24470.0</td>\n",
       "      <td>28</td>\n",
       "      <td>CAM019</td>\n",
       "      <td>46.0</td>\n",
       "    </tr>\n",
       "    <tr>\n",
       "      <th>19</th>\n",
       "      <td>CAM020</td>\n",
       "      <td>#HealthyLiving</td>\n",
       "      <td>Health Tips</td>\n",
       "      <td>1822.723467</td>\n",
       "      <td>Social Media</td>\n",
       "      <td>441280</td>\n",
       "      <td>30515.0</td>\n",
       "      <td>29</td>\n",
       "      <td>CAM020</td>\n",
       "      <td>971.0</td>\n",
       "    </tr>\n",
       "    <tr>\n",
       "      <th>20</th>\n",
       "      <td>CAM021</td>\n",
       "      <td>Family Coverage Plan</td>\n",
       "      <td>Customer Testimonial</td>\n",
       "      <td>1606.227668</td>\n",
       "      <td>SEO</td>\n",
       "      <td>449340</td>\n",
       "      <td>NaN</td>\n",
       "      <td>23</td>\n",
       "      <td>CAM021</td>\n",
       "      <td>42.0</td>\n",
       "    </tr>\n",
       "    <tr>\n",
       "      <th>21</th>\n",
       "      <td>CAM022</td>\n",
       "      <td>#InsureYourHealth</td>\n",
       "      <td>Product Promotion</td>\n",
       "      <td>738.830067</td>\n",
       "      <td>Social Media</td>\n",
       "      <td>380140</td>\n",
       "      <td>26000.0</td>\n",
       "      <td>19</td>\n",
       "      <td>CAM022</td>\n",
       "      <td>246.0</td>\n",
       "    </tr>\n",
       "    <tr>\n",
       "      <th>22</th>\n",
       "      <td>CAM023</td>\n",
       "      <td>#HealthyLiving</td>\n",
       "      <td>Offer Announcement</td>\n",
       "      <td>303.769053</td>\n",
       "      <td>Social Media</td>\n",
       "      <td>281960</td>\n",
       "      <td>38420.0</td>\n",
       "      <td>10</td>\n",
       "      <td>CAM023</td>\n",
       "      <td>11.0</td>\n",
       "    </tr>\n",
       "    <tr>\n",
       "      <th>23</th>\n",
       "      <td>CAM024</td>\n",
       "      <td>Benefit Updates</td>\n",
       "      <td>Product Promotion</td>\n",
       "      <td>710.720045</td>\n",
       "      <td>Email</td>\n",
       "      <td>88390</td>\n",
       "      <td>6360.0</td>\n",
       "      <td>23</td>\n",
       "      <td>CAM024</td>\n",
       "      <td>33.0</td>\n",
       "    </tr>\n",
       "    <tr>\n",
       "      <th>24</th>\n",
       "      <td>CAM025</td>\n",
       "      <td>Family Coverage Plan</td>\n",
       "      <td>Customer Testimonial</td>\n",
       "      <td>1528.728281</td>\n",
       "      <td>Social Media</td>\n",
       "      <td>204520</td>\n",
       "      <td>NaN</td>\n",
       "      <td>25</td>\n",
       "      <td>CAM025</td>\n",
       "      <td>31.0</td>\n",
       "    </tr>\n",
       "    <tr>\n",
       "      <th>25</th>\n",
       "      <td>CAM026</td>\n",
       "      <td>#CoverageMatters</td>\n",
       "      <td>Covid Awareness</td>\n",
       "      <td>1260.901406</td>\n",
       "      <td>Social Media</td>\n",
       "      <td>265110</td>\n",
       "      <td>38585.0</td>\n",
       "      <td>25</td>\n",
       "      <td>CAM026</td>\n",
       "      <td>1.0</td>\n",
       "    </tr>\n",
       "    <tr>\n",
       "      <th>26</th>\n",
       "      <td>CAM027</td>\n",
       "      <td>Benefit Updates</td>\n",
       "      <td>Policy Information</td>\n",
       "      <td>1440.586227</td>\n",
       "      <td>Email</td>\n",
       "      <td>155890</td>\n",
       "      <td>47785.0</td>\n",
       "      <td>20</td>\n",
       "      <td>CAM027</td>\n",
       "      <td>12.0</td>\n",
       "    </tr>\n",
       "    <tr>\n",
       "      <th>27</th>\n",
       "      <td>CAM028</td>\n",
       "      <td>Affordable Plans</td>\n",
       "      <td>Policy Information</td>\n",
       "      <td>300.126002</td>\n",
       "      <td>SEO</td>\n",
       "      <td>84850</td>\n",
       "      <td>27785.0</td>\n",
       "      <td>27</td>\n",
       "      <td>CAM028</td>\n",
       "      <td>12.0</td>\n",
       "    </tr>\n",
       "    <tr>\n",
       "      <th>28</th>\n",
       "      <td>CAM029</td>\n",
       "      <td>Tailored Health Plans</td>\n",
       "      <td>Health Tips</td>\n",
       "      <td>401.049088</td>\n",
       "      <td>SEO</td>\n",
       "      <td>136160</td>\n",
       "      <td>12425.0</td>\n",
       "      <td>20</td>\n",
       "      <td>CAM029</td>\n",
       "      <td>1.0</td>\n",
       "    </tr>\n",
       "    <tr>\n",
       "      <th>29</th>\n",
       "      <td>CAM030</td>\n",
       "      <td>#HealthyLiving</td>\n",
       "      <td>Policy Information</td>\n",
       "      <td>1362.207577</td>\n",
       "      <td>Social Media</td>\n",
       "      <td>110700</td>\n",
       "      <td>13040.0</td>\n",
       "      <td>23</td>\n",
       "      <td>CAM030</td>\n",
       "      <td>2743.0</td>\n",
       "    </tr>\n",
       "    <tr>\n",
       "      <th>30</th>\n",
       "      <td>CAM031</td>\n",
       "      <td>#CoverageMatters</td>\n",
       "      <td>Product Promotion</td>\n",
       "      <td>806.421044</td>\n",
       "      <td>Social Media</td>\n",
       "      <td>374710</td>\n",
       "      <td>29645.0</td>\n",
       "      <td>25</td>\n",
       "      <td>CAM031</td>\n",
       "      <td>3534.0</td>\n",
       "    </tr>\n",
       "    <tr>\n",
       "      <th>31</th>\n",
       "      <td>CAM032</td>\n",
       "      <td>Family Coverage Plan</td>\n",
       "      <td>Product Promotion</td>\n",
       "      <td>801.456917</td>\n",
       "      <td>TV</td>\n",
       "      <td>452680</td>\n",
       "      <td>NaN</td>\n",
       "      <td>27</td>\n",
       "      <td>CAM032</td>\n",
       "      <td>228.0</td>\n",
       "    </tr>\n",
       "    <tr>\n",
       "      <th>32</th>\n",
       "      <td>CAM033</td>\n",
       "      <td>Health For All</td>\n",
       "      <td>Product Promotion</td>\n",
       "      <td>846.052987</td>\n",
       "      <td>TV</td>\n",
       "      <td>32272</td>\n",
       "      <td>0.0</td>\n",
       "      <td>27</td>\n",
       "      <td>CAM033</td>\n",
       "      <td>266.0</td>\n",
       "    </tr>\n",
       "    <tr>\n",
       "      <th>33</th>\n",
       "      <td>CAM034</td>\n",
       "      <td>Compare Health Coverage</td>\n",
       "      <td>Policy Information</td>\n",
       "      <td>1612.285770</td>\n",
       "      <td>SEO</td>\n",
       "      <td>49659</td>\n",
       "      <td>4296.0</td>\n",
       "      <td>19</td>\n",
       "      <td>NaN</td>\n",
       "      <td>NaN</td>\n",
       "    </tr>\n",
       "    <tr>\n",
       "      <th>34</th>\n",
       "      <td>CAM035</td>\n",
       "      <td>Compare Health Coverage</td>\n",
       "      <td>Customer Testimonial</td>\n",
       "      <td>1428.202582</td>\n",
       "      <td>SEO</td>\n",
       "      <td>39736</td>\n",
       "      <td>1720.0</td>\n",
       "      <td>19</td>\n",
       "      <td>NaN</td>\n",
       "      <td>NaN</td>\n",
       "    </tr>\n",
       "    <tr>\n",
       "      <th>35</th>\n",
       "      <td>CAM036</td>\n",
       "      <td>Golden Years Security</td>\n",
       "      <td>Covid Awareness</td>\n",
       "      <td>301.467866</td>\n",
       "      <td>TV</td>\n",
       "      <td>25492</td>\n",
       "      <td>0.0</td>\n",
       "      <td>13</td>\n",
       "      <td>NaN</td>\n",
       "      <td>NaN</td>\n",
       "    </tr>\n",
       "    <tr>\n",
       "      <th>36</th>\n",
       "      <td>CAM037</td>\n",
       "      <td>Compare Health Coverage</td>\n",
       "      <td>Health Tips</td>\n",
       "      <td>754.278902</td>\n",
       "      <td>SEO</td>\n",
       "      <td>15970</td>\n",
       "      <td>1749.0</td>\n",
       "      <td>13</td>\n",
       "      <td>NaN</td>\n",
       "      <td>NaN</td>\n",
       "    </tr>\n",
       "    <tr>\n",
       "      <th>37</th>\n",
       "      <td>CAM038</td>\n",
       "      <td>Summer Wellness Tips</td>\n",
       "      <td>Policy Information</td>\n",
       "      <td>1380.281030</td>\n",
       "      <td>Email</td>\n",
       "      <td>24985</td>\n",
       "      <td>4094.0</td>\n",
       "      <td>15</td>\n",
       "      <td>NaN</td>\n",
       "      <td>NaN</td>\n",
       "    </tr>\n",
       "    <tr>\n",
       "      <th>38</th>\n",
       "      <td>CAM039</td>\n",
       "      <td>Tailored Health Plans</td>\n",
       "      <td>Covid Awareness</td>\n",
       "      <td>1954.645480</td>\n",
       "      <td>SEO</td>\n",
       "      <td>38799</td>\n",
       "      <td>2055.0</td>\n",
       "      <td>15</td>\n",
       "      <td>NaN</td>\n",
       "      <td>NaN</td>\n",
       "    </tr>\n",
       "    <tr>\n",
       "      <th>39</th>\n",
       "      <td>CAM040</td>\n",
       "      <td>Summer Wellness Tips</td>\n",
       "      <td>Covid Awareness</td>\n",
       "      <td>1833.281138</td>\n",
       "      <td>Email</td>\n",
       "      <td>19761</td>\n",
       "      <td>4962.5</td>\n",
       "      <td>18</td>\n",
       "      <td>NaN</td>\n",
       "      <td>NaN</td>\n",
       "    </tr>\n",
       "    <tr>\n",
       "      <th>40</th>\n",
       "      <td>CAM041</td>\n",
       "      <td>Golden Years Security</td>\n",
       "      <td>Covid Awareness</td>\n",
       "      <td>571.719463</td>\n",
       "      <td>TV</td>\n",
       "      <td>35448</td>\n",
       "      <td>0.0</td>\n",
       "      <td>11</td>\n",
       "      <td>NaN</td>\n",
       "      <td>NaN</td>\n",
       "    </tr>\n",
       "    <tr>\n",
       "      <th>41</th>\n",
       "      <td>CAM042</td>\n",
       "      <td>#InsureYourHealth</td>\n",
       "      <td>Offer Announcement</td>\n",
       "      <td>225.462663</td>\n",
       "      <td>Social Media</td>\n",
       "      <td>45711</td>\n",
       "      <td>1339.5</td>\n",
       "      <td>11</td>\n",
       "      <td>NaN</td>\n",
       "      <td>NaN</td>\n",
       "    </tr>\n",
       "    <tr>\n",
       "      <th>42</th>\n",
       "      <td>CAM043</td>\n",
       "      <td>#InsureYourHealth</td>\n",
       "      <td>Product Promotion</td>\n",
       "      <td>1189.200451</td>\n",
       "      <td>Social Media</td>\n",
       "      <td>6083</td>\n",
       "      <td>3440.0</td>\n",
       "      <td>17</td>\n",
       "      <td>NaN</td>\n",
       "      <td>NaN</td>\n",
       "    </tr>\n",
       "    <tr>\n",
       "      <th>43</th>\n",
       "      <td>CAM044</td>\n",
       "      <td>Compare Health Coverage</td>\n",
       "      <td>Covid Awareness</td>\n",
       "      <td>871.875628</td>\n",
       "      <td>SEO</td>\n",
       "      <td>46515</td>\n",
       "      <td>2141.0</td>\n",
       "      <td>11</td>\n",
       "      <td>NaN</td>\n",
       "      <td>NaN</td>\n",
       "    </tr>\n",
       "    <tr>\n",
       "      <th>44</th>\n",
       "      <td>CAM045</td>\n",
       "      <td>Affordable Plans</td>\n",
       "      <td>Covid Awareness</td>\n",
       "      <td>448.441110</td>\n",
       "      <td>SEO</td>\n",
       "      <td>21487</td>\n",
       "      <td>1348.5</td>\n",
       "      <td>18</td>\n",
       "      <td>NaN</td>\n",
       "      <td>NaN</td>\n",
       "    </tr>\n",
       "    <tr>\n",
       "      <th>45</th>\n",
       "      <td>CAM046</td>\n",
       "      <td>Preventive Care News</td>\n",
       "      <td>Covid Awareness</td>\n",
       "      <td>1338.129684</td>\n",
       "      <td>Email</td>\n",
       "      <td>39003</td>\n",
       "      <td>3564.5</td>\n",
       "      <td>20</td>\n",
       "      <td>NaN</td>\n",
       "      <td>NaN</td>\n",
       "    </tr>\n",
       "    <tr>\n",
       "      <th>46</th>\n",
       "      <td>CAM047</td>\n",
       "      <td>#HealthyLiving</td>\n",
       "      <td>Health Tips</td>\n",
       "      <td>404.666776</td>\n",
       "      <td>Social Media</td>\n",
       "      <td>49541</td>\n",
       "      <td>2342.0</td>\n",
       "      <td>10</td>\n",
       "      <td>NaN</td>\n",
       "      <td>NaN</td>\n",
       "    </tr>\n",
       "    <tr>\n",
       "      <th>47</th>\n",
       "      <td>CAM048</td>\n",
       "      <td>Preventive Care News</td>\n",
       "      <td>Product Promotion</td>\n",
       "      <td>767.814707</td>\n",
       "      <td>Email</td>\n",
       "      <td>10255</td>\n",
       "      <td>4287.0</td>\n",
       "      <td>10</td>\n",
       "      <td>NaN</td>\n",
       "      <td>NaN</td>\n",
       "    </tr>\n",
       "    <tr>\n",
       "      <th>48</th>\n",
       "      <td>CAM049</td>\n",
       "      <td>#HealthyLiving</td>\n",
       "      <td>Offer Announcement</td>\n",
       "      <td>1609.678559</td>\n",
       "      <td>Social Media</td>\n",
       "      <td>6447</td>\n",
       "      <td>2595.5</td>\n",
       "      <td>12</td>\n",
       "      <td>NaN</td>\n",
       "      <td>NaN</td>\n",
       "    </tr>\n",
       "    <tr>\n",
       "      <th>49</th>\n",
       "      <td>CAM050</td>\n",
       "      <td>Compare Health Coverage</td>\n",
       "      <td>Product Promotion</td>\n",
       "      <td>1400.168346</td>\n",
       "      <td>SEO</td>\n",
       "      <td>16260</td>\n",
       "      <td>3163.5</td>\n",
       "      <td>15</td>\n",
       "      <td>NaN</td>\n",
       "      <td>NaN</td>\n",
       "    </tr>\n",
       "    <tr>\n",
       "      <th>50</th>\n",
       "      <td>CAM051</td>\n",
       "      <td>Health For All</td>\n",
       "      <td>Policy Information</td>\n",
       "      <td>1253.532835</td>\n",
       "      <td>TV</td>\n",
       "      <td>20437</td>\n",
       "      <td>0.0</td>\n",
       "      <td>11</td>\n",
       "      <td>NaN</td>\n",
       "      <td>NaN</td>\n",
       "    </tr>\n",
       "    <tr>\n",
       "      <th>51</th>\n",
       "      <td>CAM052</td>\n",
       "      <td>Summer Wellness Tips</td>\n",
       "      <td>Product Promotion</td>\n",
       "      <td>1868.570846</td>\n",
       "      <td>Email</td>\n",
       "      <td>15644</td>\n",
       "      <td>4065.0</td>\n",
       "      <td>11</td>\n",
       "      <td>NaN</td>\n",
       "      <td>NaN</td>\n",
       "    </tr>\n",
       "    <tr>\n",
       "      <th>52</th>\n",
       "      <td>CAM053</td>\n",
       "      <td>Golden Years Security</td>\n",
       "      <td>Product Promotion</td>\n",
       "      <td>338.275359</td>\n",
       "      <td>TV</td>\n",
       "      <td>13480</td>\n",
       "      <td>0.0</td>\n",
       "      <td>12</td>\n",
       "      <td>NaN</td>\n",
       "      <td>NaN</td>\n",
       "    </tr>\n",
       "    <tr>\n",
       "      <th>53</th>\n",
       "      <td>CAM054</td>\n",
       "      <td>#InsureYourHealth</td>\n",
       "      <td>Health Tips</td>\n",
       "      <td>1412.829225</td>\n",
       "      <td>Social Media</td>\n",
       "      <td>33520</td>\n",
       "      <td>1050.5</td>\n",
       "      <td>19</td>\n",
       "      <td>NaN</td>\n",
       "      <td>NaN</td>\n",
       "    </tr>\n",
       "    <tr>\n",
       "      <th>54</th>\n",
       "      <td>CAM055</td>\n",
       "      <td>Summer Wellness Tips</td>\n",
       "      <td>Health Awareness</td>\n",
       "      <td>322.922808</td>\n",
       "      <td>Email</td>\n",
       "      <td>6900</td>\n",
       "      <td>4536.0</td>\n",
       "      <td>12</td>\n",
       "      <td>NaN</td>\n",
       "      <td>NaN</td>\n",
       "    </tr>\n",
       "    <tr>\n",
       "      <th>55</th>\n",
       "      <td>CAM056</td>\n",
       "      <td>Preventive Care News</td>\n",
       "      <td>Health Tips</td>\n",
       "      <td>359.111694</td>\n",
       "      <td>Email</td>\n",
       "      <td>42630</td>\n",
       "      <td>2316.5</td>\n",
       "      <td>16</td>\n",
       "      <td>NaN</td>\n",
       "      <td>NaN</td>\n",
       "    </tr>\n",
       "    <tr>\n",
       "      <th>56</th>\n",
       "      <td>CAM057</td>\n",
       "      <td>Health For All</td>\n",
       "      <td>Health Awareness</td>\n",
       "      <td>1062.209448</td>\n",
       "      <td>TV</td>\n",
       "      <td>29630</td>\n",
       "      <td>0.0</td>\n",
       "      <td>17</td>\n",
       "      <td>NaN</td>\n",
       "      <td>NaN</td>\n",
       "    </tr>\n",
       "  </tbody>\n",
       "</table>\n",
       "</div>"
      ],
      "text/plain": [
       "   campaign_id        campaign_category         campaign_type         cost  \\\n",
       "0       CAM001    Tailored Health Plans       Covid Awareness  1335.566784   \n",
       "1       CAM002     Preventive Care News  Customer Testimonial  1624.442464   \n",
       "2       CAM003     Preventive Care News    Policy Information  1944.226008   \n",
       "3       CAM004  Compare Health Coverage  Customer Testimonial  1354.937186   \n",
       "4       CAM005    Golden Years Security    Offer Announcement  1519.167326   \n",
       "5       CAM006  Compare Health Coverage     Product Promotion  1254.286130   \n",
       "6       CAM007           #HealthyLiving    Policy Information  1173.585931   \n",
       "7       CAM008     Preventive Care News    Policy Information   223.085599   \n",
       "8       CAM009    Tailored Health Plans      Health Awareness   394.641083   \n",
       "9       CAM010         Affordable Plans       Covid Awareness   820.580377   \n",
       "10      CAM011    Golden Years Security    Offer Announcement  1334.056787   \n",
       "11      CAM012         #CoverageMatters     Product Promotion   244.008996   \n",
       "12      CAM013        #InsureYourHealth  Customer Testimonial  1134.316809   \n",
       "13      CAM014     Summer Wellness Tips    Policy Information   125.046745   \n",
       "14      CAM015     Summer Wellness Tips      Health Awareness  1555.577561   \n",
       "15      CAM016  Compare Health Coverage       Covid Awareness  1367.173425   \n",
       "16      CAM017    Tailored Health Plans    Offer Announcement  1089.283035   \n",
       "17      CAM018           Health For All      Health Awareness  1185.171031   \n",
       "18      CAM019        #InsureYourHealth       Covid Awareness  1872.242670   \n",
       "19      CAM020           #HealthyLiving           Health Tips  1822.723467   \n",
       "20      CAM021     Family Coverage Plan  Customer Testimonial  1606.227668   \n",
       "21      CAM022        #InsureYourHealth     Product Promotion   738.830067   \n",
       "22      CAM023           #HealthyLiving    Offer Announcement   303.769053   \n",
       "23      CAM024          Benefit Updates     Product Promotion   710.720045   \n",
       "24      CAM025     Family Coverage Plan  Customer Testimonial  1528.728281   \n",
       "25      CAM026         #CoverageMatters       Covid Awareness  1260.901406   \n",
       "26      CAM027          Benefit Updates    Policy Information  1440.586227   \n",
       "27      CAM028         Affordable Plans    Policy Information   300.126002   \n",
       "28      CAM029    Tailored Health Plans           Health Tips   401.049088   \n",
       "29      CAM030           #HealthyLiving    Policy Information  1362.207577   \n",
       "30      CAM031         #CoverageMatters     Product Promotion   806.421044   \n",
       "31      CAM032     Family Coverage Plan     Product Promotion   801.456917   \n",
       "32      CAM033           Health For All     Product Promotion   846.052987   \n",
       "33      CAM034  Compare Health Coverage    Policy Information  1612.285770   \n",
       "34      CAM035  Compare Health Coverage  Customer Testimonial  1428.202582   \n",
       "35      CAM036    Golden Years Security       Covid Awareness   301.467866   \n",
       "36      CAM037  Compare Health Coverage           Health Tips   754.278902   \n",
       "37      CAM038     Summer Wellness Tips    Policy Information  1380.281030   \n",
       "38      CAM039    Tailored Health Plans       Covid Awareness  1954.645480   \n",
       "39      CAM040     Summer Wellness Tips       Covid Awareness  1833.281138   \n",
       "40      CAM041    Golden Years Security       Covid Awareness   571.719463   \n",
       "41      CAM042        #InsureYourHealth    Offer Announcement   225.462663   \n",
       "42      CAM043        #InsureYourHealth     Product Promotion  1189.200451   \n",
       "43      CAM044  Compare Health Coverage       Covid Awareness   871.875628   \n",
       "44      CAM045         Affordable Plans       Covid Awareness   448.441110   \n",
       "45      CAM046     Preventive Care News       Covid Awareness  1338.129684   \n",
       "46      CAM047           #HealthyLiving           Health Tips   404.666776   \n",
       "47      CAM048     Preventive Care News     Product Promotion   767.814707   \n",
       "48      CAM049           #HealthyLiving    Offer Announcement  1609.678559   \n",
       "49      CAM050  Compare Health Coverage     Product Promotion  1400.168346   \n",
       "50      CAM051           Health For All    Policy Information  1253.532835   \n",
       "51      CAM052     Summer Wellness Tips     Product Promotion  1868.570846   \n",
       "52      CAM053    Golden Years Security     Product Promotion   338.275359   \n",
       "53      CAM054        #InsureYourHealth           Health Tips  1412.829225   \n",
       "54      CAM055     Summer Wellness Tips      Health Awareness   322.922808   \n",
       "55      CAM056     Preventive Care News           Health Tips   359.111694   \n",
       "56      CAM057           Health For All      Health Awareness  1062.209448   \n",
       "\n",
       "        platform  impressions   clicks  days_run campaign_id_1  num_signups  \n",
       "0            SEO       291270  20510.0        45        CAM001        965.0  \n",
       "1          Email       428100  47330.0        48        CAM002        586.0  \n",
       "2          Email       260280  36990.0        40        CAM003         46.0  \n",
       "3            SEO       100690  42440.0        36        CAM004       1546.0  \n",
       "4            SEO       148170   2345.0        44        CAM005          1.0  \n",
       "5            SEO       100630  22080.0        44        CAM006       1273.0  \n",
       "6   Social Media       482520  45155.0        30        CAM007          2.0  \n",
       "7          Email       336700  42175.0        35        CAM008         11.0  \n",
       "8            SEO       480790  34210.0        38        CAM009        114.0  \n",
       "9            SEO       221170  12460.0        27        CAM010         51.0  \n",
       "10           SEO       200340   3634.0        25        CAM011         22.0  \n",
       "11  Social Media        72280   6010.0        27        CAM012          1.0  \n",
       "12  Social Media       289290  18240.0        23        CAM013         24.0  \n",
       "13         Email       290300  44040.0        29        CAM014        161.0  \n",
       "14         Email       215420  41970.0        24        CAM015          2.0  \n",
       "15           SEO       295250  15760.0        18        CAM016          1.0  \n",
       "16           SEO       451840  23370.0        25        CAM017         27.0  \n",
       "17         Email        88220  43453.0        20        CAM018       3279.0  \n",
       "18  Social Media       215500  24470.0        28        CAM019         46.0  \n",
       "19  Social Media       441280  30515.0        29        CAM020        971.0  \n",
       "20           SEO       449340      NaN        23        CAM021         42.0  \n",
       "21  Social Media       380140  26000.0        19        CAM022        246.0  \n",
       "22  Social Media       281960  38420.0        10        CAM023         11.0  \n",
       "23         Email        88390   6360.0        23        CAM024         33.0  \n",
       "24  Social Media       204520      NaN        25        CAM025         31.0  \n",
       "25  Social Media       265110  38585.0        25        CAM026          1.0  \n",
       "26         Email       155890  47785.0        20        CAM027         12.0  \n",
       "27           SEO        84850  27785.0        27        CAM028         12.0  \n",
       "28           SEO       136160  12425.0        20        CAM029          1.0  \n",
       "29  Social Media       110700  13040.0        23        CAM030       2743.0  \n",
       "30  Social Media       374710  29645.0        25        CAM031       3534.0  \n",
       "31            TV       452680      NaN        27        CAM032        228.0  \n",
       "32            TV        32272      0.0        27        CAM033        266.0  \n",
       "33           SEO        49659   4296.0        19           NaN          NaN  \n",
       "34           SEO        39736   1720.0        19           NaN          NaN  \n",
       "35            TV        25492      0.0        13           NaN          NaN  \n",
       "36           SEO        15970   1749.0        13           NaN          NaN  \n",
       "37         Email        24985   4094.0        15           NaN          NaN  \n",
       "38           SEO        38799   2055.0        15           NaN          NaN  \n",
       "39         Email        19761   4962.5        18           NaN          NaN  \n",
       "40            TV        35448      0.0        11           NaN          NaN  \n",
       "41  Social Media        45711   1339.5        11           NaN          NaN  \n",
       "42  Social Media         6083   3440.0        17           NaN          NaN  \n",
       "43           SEO        46515   2141.0        11           NaN          NaN  \n",
       "44           SEO        21487   1348.5        18           NaN          NaN  \n",
       "45         Email        39003   3564.5        20           NaN          NaN  \n",
       "46  Social Media        49541   2342.0        10           NaN          NaN  \n",
       "47         Email        10255   4287.0        10           NaN          NaN  \n",
       "48  Social Media         6447   2595.5        12           NaN          NaN  \n",
       "49           SEO        16260   3163.5        15           NaN          NaN  \n",
       "50            TV        20437      0.0        11           NaN          NaN  \n",
       "51         Email        15644   4065.0        11           NaN          NaN  \n",
       "52            TV        13480      0.0        12           NaN          NaN  \n",
       "53  Social Media        33520   1050.5        19           NaN          NaN  \n",
       "54         Email         6900   4536.0        12           NaN          NaN  \n",
       "55         Email        42630   2316.5        16           NaN          NaN  \n",
       "56            TV        29630      0.0        17           NaN          NaN  "
      ]
     },
     "execution_count": 34,
     "metadata": {},
     "output_type": "execute_result"
    }
   ],
   "source": [
    "df"
   ]
  },
  {
   "cell_type": "code",
   "execution_count": 35,
   "metadata": {},
   "outputs": [],
   "source": [
    "def calculate_campign_metrics(df : pd.DataFrame)->pd.DataFrame:\n",
    "    df['cost_per_impression'] = df['cost']/df['impressions']\n",
    "    df['cost_per_click'] = df['cost']/df['clicks']\n",
    "    df['customer_acqisition_cost'] = df['cost']/df['num_signups']\n",
    "    df['click_through_rate'] = (df[\"clicks\"]/df[\"impressions\"])*100\n",
    "    df['signup_rate'] = (df['num_signups']/ df['impressions'])*100\n",
    "\n",
    "    return df"
   ]
  },
  {
   "cell_type": "code",
   "execution_count": 36,
   "metadata": {},
   "outputs": [
    {
     "data": {
      "text/plain": [
       "Index(['cost', 'impressions', 'clicks', 'days_run', 'num_signups'], dtype='object')"
      ]
     },
     "execution_count": 36,
     "metadata": {},
     "output_type": "execute_result"
    }
   ],
   "source": [
    "df.select_dtypes(exclude=\"object\").columns"
   ]
  },
  {
   "cell_type": "code",
   "execution_count": 37,
   "metadata": {},
   "outputs": [],
   "source": [
    "columns = ['cost', 'impressions', 'clicks', 'num_signups']"
   ]
  },
  {
   "cell_type": "code",
   "execution_count": null,
   "metadata": {},
   "outputs": [],
   "source": []
  },
  {
   "cell_type": "code",
   "execution_count": 38,
   "metadata": {},
   "outputs": [],
   "source": [
    "df.sort_values(by=\"num_signups\",ascending=False).head(10)\n",
    "df.drop(columns=['campaign_id_1'],inplace=True)"
   ]
  },
  {
   "cell_type": "markdown",
   "metadata": {},
   "source": [
    "## we have highest signup rate on E-mail platform with Health Awareness being the type of campaign, followed by social media with policy information and SEO with product info"
   ]
  },
  {
   "cell_type": "code",
   "execution_count": 39,
   "metadata": {},
   "outputs": [
    {
     "data": {
      "text/html": [
       "<div>\n",
       "<style scoped>\n",
       "    .dataframe tbody tr th:only-of-type {\n",
       "        vertical-align: middle;\n",
       "    }\n",
       "\n",
       "    .dataframe tbody tr th {\n",
       "        vertical-align: top;\n",
       "    }\n",
       "\n",
       "    .dataframe thead th {\n",
       "        text-align: right;\n",
       "    }\n",
       "</style>\n",
       "<table border=\"1\" class=\"dataframe\">\n",
       "  <thead>\n",
       "    <tr style=\"text-align: right;\">\n",
       "      <th></th>\n",
       "      <th></th>\n",
       "      <th>cost</th>\n",
       "      <th>impressions</th>\n",
       "      <th>clicks</th>\n",
       "      <th>num_signups</th>\n",
       "    </tr>\n",
       "    <tr>\n",
       "      <th>platform</th>\n",
       "      <th>campaign_category</th>\n",
       "      <th></th>\n",
       "      <th></th>\n",
       "      <th></th>\n",
       "      <th></th>\n",
       "    </tr>\n",
       "  </thead>\n",
       "  <tbody>\n",
       "    <tr>\n",
       "      <th rowspan=\"2\" valign=\"top\">Social Media</th>\n",
       "      <th>#HealthyLiving</th>\n",
       "      <td>6676.631363</td>\n",
       "      <td>1372448</td>\n",
       "      <td>132067.5</td>\n",
       "      <td>3727.0</td>\n",
       "    </tr>\n",
       "    <tr>\n",
       "      <th>#CoverageMatters</th>\n",
       "      <td>2311.331446</td>\n",
       "      <td>712100</td>\n",
       "      <td>74240.0</td>\n",
       "      <td>3536.0</td>\n",
       "    </tr>\n",
       "    <tr>\n",
       "      <th>Email</th>\n",
       "      <th>Health For All</th>\n",
       "      <td>1185.171031</td>\n",
       "      <td>88220</td>\n",
       "      <td>43453.0</td>\n",
       "      <td>3279.0</td>\n",
       "    </tr>\n",
       "    <tr>\n",
       "      <th rowspan=\"2\" valign=\"top\">SEO</th>\n",
       "      <th>Compare Health Coverage</th>\n",
       "      <td>10043.207969</td>\n",
       "      <td>664710</td>\n",
       "      <td>93349.5</td>\n",
       "      <td>2820.0</td>\n",
       "    </tr>\n",
       "    <tr>\n",
       "      <th>Tailored Health Plans</th>\n",
       "      <td>5175.185470</td>\n",
       "      <td>1398859</td>\n",
       "      <td>92570.0</td>\n",
       "      <td>1107.0</td>\n",
       "    </tr>\n",
       "    <tr>\n",
       "      <th>Email</th>\n",
       "      <th>Preventive Care News</th>\n",
       "      <td>6256.810157</td>\n",
       "      <td>1116968</td>\n",
       "      <td>136663.0</td>\n",
       "      <td>643.0</td>\n",
       "    </tr>\n",
       "    <tr>\n",
       "      <th>Social Media</th>\n",
       "      <th>#InsureYourHealth</th>\n",
       "      <td>6572.881885</td>\n",
       "      <td>970244</td>\n",
       "      <td>74540.0</td>\n",
       "      <td>316.0</td>\n",
       "    </tr>\n",
       "    <tr>\n",
       "      <th rowspan=\"2\" valign=\"top\">TV</th>\n",
       "      <th>Health For All</th>\n",
       "      <td>3161.795270</td>\n",
       "      <td>82339</td>\n",
       "      <td>0.0</td>\n",
       "      <td>266.0</td>\n",
       "    </tr>\n",
       "    <tr>\n",
       "      <th>Family Coverage Plan</th>\n",
       "      <td>801.456917</td>\n",
       "      <td>452680</td>\n",
       "      <td>0.0</td>\n",
       "      <td>228.0</td>\n",
       "    </tr>\n",
       "    <tr>\n",
       "      <th>Email</th>\n",
       "      <th>Summer Wellness Tips</th>\n",
       "      <td>7085.680129</td>\n",
       "      <td>573010</td>\n",
       "      <td>103667.5</td>\n",
       "      <td>163.0</td>\n",
       "    </tr>\n",
       "    <tr>\n",
       "      <th>SEO</th>\n",
       "      <th>Affordable Plans</th>\n",
       "      <td>1569.147489</td>\n",
       "      <td>327507</td>\n",
       "      <td>41593.5</td>\n",
       "      <td>63.0</td>\n",
       "    </tr>\n",
       "    <tr>\n",
       "      <th>Email</th>\n",
       "      <th>Benefit Updates</th>\n",
       "      <td>2151.306272</td>\n",
       "      <td>244280</td>\n",
       "      <td>54145.0</td>\n",
       "      <td>45.0</td>\n",
       "    </tr>\n",
       "    <tr>\n",
       "      <th>SEO</th>\n",
       "      <th>Family Coverage Plan</th>\n",
       "      <td>1606.227668</td>\n",
       "      <td>449340</td>\n",
       "      <td>0.0</td>\n",
       "      <td>42.0</td>\n",
       "    </tr>\n",
       "    <tr>\n",
       "      <th>Social Media</th>\n",
       "      <th>Family Coverage Plan</th>\n",
       "      <td>1528.728281</td>\n",
       "      <td>204520</td>\n",
       "      <td>0.0</td>\n",
       "      <td>31.0</td>\n",
       "    </tr>\n",
       "    <tr>\n",
       "      <th>SEO</th>\n",
       "      <th>Golden Years Security</th>\n",
       "      <td>2853.224113</td>\n",
       "      <td>348510</td>\n",
       "      <td>5979.0</td>\n",
       "      <td>23.0</td>\n",
       "    </tr>\n",
       "    <tr>\n",
       "      <th>TV</th>\n",
       "      <th>Golden Years Security</th>\n",
       "      <td>1211.462688</td>\n",
       "      <td>74420</td>\n",
       "      <td>0.0</td>\n",
       "      <td>0.0</td>\n",
       "    </tr>\n",
       "  </tbody>\n",
       "</table>\n",
       "</div>"
      ],
      "text/plain": [
       "                                              cost  impressions    clicks  \\\n",
       "platform     campaign_category                                              \n",
       "Social Media #HealthyLiving            6676.631363      1372448  132067.5   \n",
       "             #CoverageMatters          2311.331446       712100   74240.0   \n",
       "Email        Health For All            1185.171031        88220   43453.0   \n",
       "SEO          Compare Health Coverage  10043.207969       664710   93349.5   \n",
       "             Tailored Health Plans     5175.185470      1398859   92570.0   \n",
       "Email        Preventive Care News      6256.810157      1116968  136663.0   \n",
       "Social Media #InsureYourHealth         6572.881885       970244   74540.0   \n",
       "TV           Health For All            3161.795270        82339       0.0   \n",
       "             Family Coverage Plan       801.456917       452680       0.0   \n",
       "Email        Summer Wellness Tips      7085.680129       573010  103667.5   \n",
       "SEO          Affordable Plans          1569.147489       327507   41593.5   \n",
       "Email        Benefit Updates           2151.306272       244280   54145.0   \n",
       "SEO          Family Coverage Plan      1606.227668       449340       0.0   \n",
       "Social Media Family Coverage Plan      1528.728281       204520       0.0   \n",
       "SEO          Golden Years Security     2853.224113       348510    5979.0   \n",
       "TV           Golden Years Security     1211.462688        74420       0.0   \n",
       "\n",
       "                                      num_signups  \n",
       "platform     campaign_category                     \n",
       "Social Media #HealthyLiving                3727.0  \n",
       "             #CoverageMatters              3536.0  \n",
       "Email        Health For All                3279.0  \n",
       "SEO          Compare Health Coverage       2820.0  \n",
       "             Tailored Health Plans         1107.0  \n",
       "Email        Preventive Care News           643.0  \n",
       "Social Media #InsureYourHealth              316.0  \n",
       "TV           Health For All                 266.0  \n",
       "             Family Coverage Plan           228.0  \n",
       "Email        Summer Wellness Tips           163.0  \n",
       "SEO          Affordable Plans                63.0  \n",
       "Email        Benefit Updates                 45.0  \n",
       "SEO          Family Coverage Plan            42.0  \n",
       "Social Media Family Coverage Plan            31.0  \n",
       "SEO          Golden Years Security           23.0  \n",
       "TV           Golden Years Security            0.0  "
      ]
     },
     "execution_count": 39,
     "metadata": {},
     "output_type": "execute_result"
    }
   ],
   "source": [
    "df.groupby(['platform','campaign_category'])[['cost','impressions' ,'clicks','num_signups']].sum().sort_values(by=\"num_signups\",ascending=False)"
   ]
  },
  {
   "cell_type": "code",
   "execution_count": 40,
   "metadata": {},
   "outputs": [],
   "source": [
    "import plotly.express as px\n",
    "# import plotly.graph_objects as go"
   ]
  },
  {
   "cell_type": "code",
   "execution_count": 41,
   "metadata": {},
   "outputs": [
    {
     "data": {
      "application/vnd.plotly.v1+json": {
       "config": {
        "plotlyServerURL": "https://plot.ly"
       },
       "data": [
        {
         "branchvalues": "total",
         "domain": {
          "x": [
           0,
           1
          ],
          "y": [
           0,
           1
          ]
         },
         "hovertemplate": "labels=%{label}<br>num_signups=%{value}<br>parent=%{parent}<br>id=%{id}<extra></extra>",
         "ids": [
          "Email/Covid Awareness",
          "SEO/Covid Awareness",
          "Social Media/Covid Awareness",
          "TV/Covid Awareness",
          "Email/Customer Testimonial",
          "SEO/Customer Testimonial",
          "Social Media/Customer Testimonial",
          "Email/Health Awareness",
          "SEO/Health Awareness",
          "TV/Health Awareness",
          "Email/Health Tips",
          "SEO/Health Tips",
          "Social Media/Health Tips",
          "SEO/Offer Announcement",
          "Social Media/Offer Announcement",
          "Email/Policy Information",
          "SEO/Policy Information",
          "Social Media/Policy Information",
          "TV/Policy Information",
          "Email/Product Promotion",
          "SEO/Product Promotion",
          "Social Media/Product Promotion",
          "TV/Product Promotion",
          "Email",
          "SEO",
          "Social Media",
          "TV"
         ],
         "labels": [
          "Covid Awareness",
          "Covid Awareness",
          "Covid Awareness",
          "Covid Awareness",
          "Customer Testimonial",
          "Customer Testimonial",
          "Customer Testimonial",
          "Health Awareness",
          "Health Awareness",
          "Health Awareness",
          "Health Tips",
          "Health Tips",
          "Health Tips",
          "Offer Announcement",
          "Offer Announcement",
          "Policy Information",
          "Policy Information",
          "Policy Information",
          "Policy Information",
          "Product Promotion",
          "Product Promotion",
          "Product Promotion",
          "Product Promotion",
          "Email",
          "SEO",
          "Social Media",
          "TV"
         ],
         "name": "",
         "parents": [
          "Email",
          "SEO",
          "Social Media",
          "TV",
          "Email",
          "SEO",
          "Social Media",
          "Email",
          "SEO",
          "TV",
          "Email",
          "SEO",
          "Social Media",
          "SEO",
          "Social Media",
          "Email",
          "SEO",
          "Social Media",
          "TV",
          "Email",
          "SEO",
          "Social Media",
          "TV",
          "",
          "",
          "",
          ""
         ],
         "type": "sunburst",
         "values": [
          0,
          1017,
          47,
          0,
          586,
          1588,
          55,
          3281,
          114,
          0,
          0,
          1,
          971,
          50,
          11,
          230,
          12,
          2745,
          0,
          33,
          1273,
          3781,
          494,
          4130,
          4055,
          7610,
          494
         ]
        }
       ],
       "layout": {
        "legend": {
         "tracegroupgap": 0
        },
        "template": {
         "data": {
          "bar": [
           {
            "error_x": {
             "color": "#2a3f5f"
            },
            "error_y": {
             "color": "#2a3f5f"
            },
            "marker": {
             "line": {
              "color": "#E5ECF6",
              "width": 0.5
             },
             "pattern": {
              "fillmode": "overlay",
              "size": 10,
              "solidity": 0.2
             }
            },
            "type": "bar"
           }
          ],
          "barpolar": [
           {
            "marker": {
             "line": {
              "color": "#E5ECF6",
              "width": 0.5
             },
             "pattern": {
              "fillmode": "overlay",
              "size": 10,
              "solidity": 0.2
             }
            },
            "type": "barpolar"
           }
          ],
          "carpet": [
           {
            "aaxis": {
             "endlinecolor": "#2a3f5f",
             "gridcolor": "white",
             "linecolor": "white",
             "minorgridcolor": "white",
             "startlinecolor": "#2a3f5f"
            },
            "baxis": {
             "endlinecolor": "#2a3f5f",
             "gridcolor": "white",
             "linecolor": "white",
             "minorgridcolor": "white",
             "startlinecolor": "#2a3f5f"
            },
            "type": "carpet"
           }
          ],
          "choropleth": [
           {
            "colorbar": {
             "outlinewidth": 0,
             "ticks": ""
            },
            "type": "choropleth"
           }
          ],
          "contour": [
           {
            "colorbar": {
             "outlinewidth": 0,
             "ticks": ""
            },
            "colorscale": [
             [
              0,
              "#0d0887"
             ],
             [
              0.1111111111111111,
              "#46039f"
             ],
             [
              0.2222222222222222,
              "#7201a8"
             ],
             [
              0.3333333333333333,
              "#9c179e"
             ],
             [
              0.4444444444444444,
              "#bd3786"
             ],
             [
              0.5555555555555556,
              "#d8576b"
             ],
             [
              0.6666666666666666,
              "#ed7953"
             ],
             [
              0.7777777777777778,
              "#fb9f3a"
             ],
             [
              0.8888888888888888,
              "#fdca26"
             ],
             [
              1,
              "#f0f921"
             ]
            ],
            "type": "contour"
           }
          ],
          "contourcarpet": [
           {
            "colorbar": {
             "outlinewidth": 0,
             "ticks": ""
            },
            "type": "contourcarpet"
           }
          ],
          "heatmap": [
           {
            "colorbar": {
             "outlinewidth": 0,
             "ticks": ""
            },
            "colorscale": [
             [
              0,
              "#0d0887"
             ],
             [
              0.1111111111111111,
              "#46039f"
             ],
             [
              0.2222222222222222,
              "#7201a8"
             ],
             [
              0.3333333333333333,
              "#9c179e"
             ],
             [
              0.4444444444444444,
              "#bd3786"
             ],
             [
              0.5555555555555556,
              "#d8576b"
             ],
             [
              0.6666666666666666,
              "#ed7953"
             ],
             [
              0.7777777777777778,
              "#fb9f3a"
             ],
             [
              0.8888888888888888,
              "#fdca26"
             ],
             [
              1,
              "#f0f921"
             ]
            ],
            "type": "heatmap"
           }
          ],
          "heatmapgl": [
           {
            "colorbar": {
             "outlinewidth": 0,
             "ticks": ""
            },
            "colorscale": [
             [
              0,
              "#0d0887"
             ],
             [
              0.1111111111111111,
              "#46039f"
             ],
             [
              0.2222222222222222,
              "#7201a8"
             ],
             [
              0.3333333333333333,
              "#9c179e"
             ],
             [
              0.4444444444444444,
              "#bd3786"
             ],
             [
              0.5555555555555556,
              "#d8576b"
             ],
             [
              0.6666666666666666,
              "#ed7953"
             ],
             [
              0.7777777777777778,
              "#fb9f3a"
             ],
             [
              0.8888888888888888,
              "#fdca26"
             ],
             [
              1,
              "#f0f921"
             ]
            ],
            "type": "heatmapgl"
           }
          ],
          "histogram": [
           {
            "marker": {
             "pattern": {
              "fillmode": "overlay",
              "size": 10,
              "solidity": 0.2
             }
            },
            "type": "histogram"
           }
          ],
          "histogram2d": [
           {
            "colorbar": {
             "outlinewidth": 0,
             "ticks": ""
            },
            "colorscale": [
             [
              0,
              "#0d0887"
             ],
             [
              0.1111111111111111,
              "#46039f"
             ],
             [
              0.2222222222222222,
              "#7201a8"
             ],
             [
              0.3333333333333333,
              "#9c179e"
             ],
             [
              0.4444444444444444,
              "#bd3786"
             ],
             [
              0.5555555555555556,
              "#d8576b"
             ],
             [
              0.6666666666666666,
              "#ed7953"
             ],
             [
              0.7777777777777778,
              "#fb9f3a"
             ],
             [
              0.8888888888888888,
              "#fdca26"
             ],
             [
              1,
              "#f0f921"
             ]
            ],
            "type": "histogram2d"
           }
          ],
          "histogram2dcontour": [
           {
            "colorbar": {
             "outlinewidth": 0,
             "ticks": ""
            },
            "colorscale": [
             [
              0,
              "#0d0887"
             ],
             [
              0.1111111111111111,
              "#46039f"
             ],
             [
              0.2222222222222222,
              "#7201a8"
             ],
             [
              0.3333333333333333,
              "#9c179e"
             ],
             [
              0.4444444444444444,
              "#bd3786"
             ],
             [
              0.5555555555555556,
              "#d8576b"
             ],
             [
              0.6666666666666666,
              "#ed7953"
             ],
             [
              0.7777777777777778,
              "#fb9f3a"
             ],
             [
              0.8888888888888888,
              "#fdca26"
             ],
             [
              1,
              "#f0f921"
             ]
            ],
            "type": "histogram2dcontour"
           }
          ],
          "mesh3d": [
           {
            "colorbar": {
             "outlinewidth": 0,
             "ticks": ""
            },
            "type": "mesh3d"
           }
          ],
          "parcoords": [
           {
            "line": {
             "colorbar": {
              "outlinewidth": 0,
              "ticks": ""
             }
            },
            "type": "parcoords"
           }
          ],
          "pie": [
           {
            "automargin": true,
            "type": "pie"
           }
          ],
          "scatter": [
           {
            "fillpattern": {
             "fillmode": "overlay",
             "size": 10,
             "solidity": 0.2
            },
            "type": "scatter"
           }
          ],
          "scatter3d": [
           {
            "line": {
             "colorbar": {
              "outlinewidth": 0,
              "ticks": ""
             }
            },
            "marker": {
             "colorbar": {
              "outlinewidth": 0,
              "ticks": ""
             }
            },
            "type": "scatter3d"
           }
          ],
          "scattercarpet": [
           {
            "marker": {
             "colorbar": {
              "outlinewidth": 0,
              "ticks": ""
             }
            },
            "type": "scattercarpet"
           }
          ],
          "scattergeo": [
           {
            "marker": {
             "colorbar": {
              "outlinewidth": 0,
              "ticks": ""
             }
            },
            "type": "scattergeo"
           }
          ],
          "scattergl": [
           {
            "marker": {
             "colorbar": {
              "outlinewidth": 0,
              "ticks": ""
             }
            },
            "type": "scattergl"
           }
          ],
          "scattermapbox": [
           {
            "marker": {
             "colorbar": {
              "outlinewidth": 0,
              "ticks": ""
             }
            },
            "type": "scattermapbox"
           }
          ],
          "scatterpolar": [
           {
            "marker": {
             "colorbar": {
              "outlinewidth": 0,
              "ticks": ""
             }
            },
            "type": "scatterpolar"
           }
          ],
          "scatterpolargl": [
           {
            "marker": {
             "colorbar": {
              "outlinewidth": 0,
              "ticks": ""
             }
            },
            "type": "scatterpolargl"
           }
          ],
          "scatterternary": [
           {
            "marker": {
             "colorbar": {
              "outlinewidth": 0,
              "ticks": ""
             }
            },
            "type": "scatterternary"
           }
          ],
          "surface": [
           {
            "colorbar": {
             "outlinewidth": 0,
             "ticks": ""
            },
            "colorscale": [
             [
              0,
              "#0d0887"
             ],
             [
              0.1111111111111111,
              "#46039f"
             ],
             [
              0.2222222222222222,
              "#7201a8"
             ],
             [
              0.3333333333333333,
              "#9c179e"
             ],
             [
              0.4444444444444444,
              "#bd3786"
             ],
             [
              0.5555555555555556,
              "#d8576b"
             ],
             [
              0.6666666666666666,
              "#ed7953"
             ],
             [
              0.7777777777777778,
              "#fb9f3a"
             ],
             [
              0.8888888888888888,
              "#fdca26"
             ],
             [
              1,
              "#f0f921"
             ]
            ],
            "type": "surface"
           }
          ],
          "table": [
           {
            "cells": {
             "fill": {
              "color": "#EBF0F8"
             },
             "line": {
              "color": "white"
             }
            },
            "header": {
             "fill": {
              "color": "#C8D4E3"
             },
             "line": {
              "color": "white"
             }
            },
            "type": "table"
           }
          ]
         },
         "layout": {
          "annotationdefaults": {
           "arrowcolor": "#2a3f5f",
           "arrowhead": 0,
           "arrowwidth": 1
          },
          "autotypenumbers": "strict",
          "coloraxis": {
           "colorbar": {
            "outlinewidth": 0,
            "ticks": ""
           }
          },
          "colorscale": {
           "diverging": [
            [
             0,
             "#8e0152"
            ],
            [
             0.1,
             "#c51b7d"
            ],
            [
             0.2,
             "#de77ae"
            ],
            [
             0.3,
             "#f1b6da"
            ],
            [
             0.4,
             "#fde0ef"
            ],
            [
             0.5,
             "#f7f7f7"
            ],
            [
             0.6,
             "#e6f5d0"
            ],
            [
             0.7,
             "#b8e186"
            ],
            [
             0.8,
             "#7fbc41"
            ],
            [
             0.9,
             "#4d9221"
            ],
            [
             1,
             "#276419"
            ]
           ],
           "sequential": [
            [
             0,
             "#0d0887"
            ],
            [
             0.1111111111111111,
             "#46039f"
            ],
            [
             0.2222222222222222,
             "#7201a8"
            ],
            [
             0.3333333333333333,
             "#9c179e"
            ],
            [
             0.4444444444444444,
             "#bd3786"
            ],
            [
             0.5555555555555556,
             "#d8576b"
            ],
            [
             0.6666666666666666,
             "#ed7953"
            ],
            [
             0.7777777777777778,
             "#fb9f3a"
            ],
            [
             0.8888888888888888,
             "#fdca26"
            ],
            [
             1,
             "#f0f921"
            ]
           ],
           "sequentialminus": [
            [
             0,
             "#0d0887"
            ],
            [
             0.1111111111111111,
             "#46039f"
            ],
            [
             0.2222222222222222,
             "#7201a8"
            ],
            [
             0.3333333333333333,
             "#9c179e"
            ],
            [
             0.4444444444444444,
             "#bd3786"
            ],
            [
             0.5555555555555556,
             "#d8576b"
            ],
            [
             0.6666666666666666,
             "#ed7953"
            ],
            [
             0.7777777777777778,
             "#fb9f3a"
            ],
            [
             0.8888888888888888,
             "#fdca26"
            ],
            [
             1,
             "#f0f921"
            ]
           ]
          },
          "colorway": [
           "#636efa",
           "#EF553B",
           "#00cc96",
           "#ab63fa",
           "#FFA15A",
           "#19d3f3",
           "#FF6692",
           "#B6E880",
           "#FF97FF",
           "#FECB52"
          ],
          "font": {
           "color": "#2a3f5f"
          },
          "geo": {
           "bgcolor": "white",
           "lakecolor": "white",
           "landcolor": "#E5ECF6",
           "showlakes": true,
           "showland": true,
           "subunitcolor": "white"
          },
          "hoverlabel": {
           "align": "left"
          },
          "hovermode": "closest",
          "mapbox": {
           "style": "light"
          },
          "paper_bgcolor": "white",
          "plot_bgcolor": "#E5ECF6",
          "polar": {
           "angularaxis": {
            "gridcolor": "white",
            "linecolor": "white",
            "ticks": ""
           },
           "bgcolor": "#E5ECF6",
           "radialaxis": {
            "gridcolor": "white",
            "linecolor": "white",
            "ticks": ""
           }
          },
          "scene": {
           "xaxis": {
            "backgroundcolor": "#E5ECF6",
            "gridcolor": "white",
            "gridwidth": 2,
            "linecolor": "white",
            "showbackground": true,
            "ticks": "",
            "zerolinecolor": "white"
           },
           "yaxis": {
            "backgroundcolor": "#E5ECF6",
            "gridcolor": "white",
            "gridwidth": 2,
            "linecolor": "white",
            "showbackground": true,
            "ticks": "",
            "zerolinecolor": "white"
           },
           "zaxis": {
            "backgroundcolor": "#E5ECF6",
            "gridcolor": "white",
            "gridwidth": 2,
            "linecolor": "white",
            "showbackground": true,
            "ticks": "",
            "zerolinecolor": "white"
           }
          },
          "shapedefaults": {
           "line": {
            "color": "#2a3f5f"
           }
          },
          "ternary": {
           "aaxis": {
            "gridcolor": "white",
            "linecolor": "white",
            "ticks": ""
           },
           "baxis": {
            "gridcolor": "white",
            "linecolor": "white",
            "ticks": ""
           },
           "bgcolor": "#E5ECF6",
           "caxis": {
            "gridcolor": "white",
            "linecolor": "white",
            "ticks": ""
           }
          },
          "title": {
           "x": 0.05
          },
          "xaxis": {
           "automargin": true,
           "gridcolor": "white",
           "linecolor": "white",
           "ticks": "",
           "title": {
            "standoff": 15
           },
           "zerolinecolor": "white",
           "zerolinewidth": 2
          },
          "yaxis": {
           "automargin": true,
           "gridcolor": "white",
           "linecolor": "white",
           "ticks": "",
           "title": {
            "standoff": 15
           },
           "zerolinecolor": "white",
           "zerolinewidth": 2
          }
         }
        },
        "title": {
         "text": "campaign signup rates 360"
        }
       }
      }
     },
     "metadata": {},
     "output_type": "display_data"
    }
   ],
   "source": [
    "df_sunburst = df.groupby(['platform','campaign_type'])[columns].sum().sort_values(by=\"num_signups\",ascending=False).reset_index()  # Replace with your actual data\n",
    "\n",
    "# Choose the value column to represent size (e.g., cost_sum)\n",
    "fig = px.sunburst(\n",
    "    df_sunburst,\n",
    "    path=[\"platform\", \"campaign_type\"],  # Hierarchy levels\n",
    "    values=\"num_signups\",                     # Column for size (replace with your metric)\n",
    "    title=\"campaign signup rates 360\"\n",
    "    # color=\"cost\",                   # Optional: Column for color-coding metrics (replace with actual column name)\n",
    "    # color_discrete_sequence=px.colors.qualitative.Plotly  # Optional: Color palette\n",
    ")\n",
    "fig.show()\n",
    "fig.write_image(\"C:/Users/karthikeya/health_tech_analytics/plots/campaign signup rates 360 categorised by campaign type.png\")\n",
    "fig.write_html(\"C:/Users/karthikeya/health_tech_analytics/plots/campaign signup rates 360 categorised by campaign type.html\")"
   ]
  },
  {
   "cell_type": "code",
   "execution_count": 42,
   "metadata": {},
   "outputs": [
    {
     "data": {
      "application/vnd.plotly.v1+json": {
       "config": {
        "plotlyServerURL": "https://plot.ly"
       },
       "data": [
        {
         "domain": {
          "x": [
           0,
           1
          ],
          "y": [
           0,
           1
          ]
         },
         "hovertemplate": "platform=%{label}<br>num_signups=%{value}<extra></extra>",
         "labels": [
          "SEO",
          "Email",
          "Email",
          "SEO",
          "SEO",
          "SEO",
          "Social Media",
          "Email",
          "SEO",
          "SEO",
          "SEO",
          "Social Media",
          "Social Media",
          "Email",
          "Email",
          "SEO",
          "SEO",
          "Email",
          "Social Media",
          "Social Media",
          "SEO",
          "Social Media",
          "Social Media",
          "Email",
          "Social Media",
          "Social Media",
          "Email",
          "SEO",
          "SEO",
          "Social Media",
          "Social Media",
          "TV",
          "TV",
          "SEO",
          "SEO",
          "TV",
          "SEO",
          "Email",
          "SEO",
          "Email",
          "TV",
          "Social Media",
          "Social Media",
          "SEO",
          "SEO",
          "Email",
          "Social Media",
          "Email",
          "Social Media",
          "SEO",
          "TV",
          "Email",
          "TV",
          "Social Media",
          "Email",
          "Email",
          "TV"
         ],
         "legendgroup": "",
         "name": "",
         "showlegend": true,
         "type": "pie",
         "values": [
          965,
          586,
          46,
          1546,
          1,
          1273,
          2,
          11,
          114,
          51,
          22,
          1,
          24,
          161,
          2,
          1,
          27,
          3279,
          46,
          971,
          42,
          246,
          11,
          33,
          31,
          1,
          12,
          12,
          1,
          2743,
          3534,
          228,
          266,
          null,
          null,
          null,
          null,
          null,
          null,
          null,
          null,
          null,
          null,
          null,
          null,
          null,
          null,
          null,
          null,
          null,
          null,
          null,
          null,
          null,
          null,
          null,
          null
         ]
        }
       ],
       "layout": {
        "legend": {
         "tracegroupgap": 0
        },
        "template": {
         "data": {
          "bar": [
           {
            "error_x": {
             "color": "#2a3f5f"
            },
            "error_y": {
             "color": "#2a3f5f"
            },
            "marker": {
             "line": {
              "color": "#E5ECF6",
              "width": 0.5
             },
             "pattern": {
              "fillmode": "overlay",
              "size": 10,
              "solidity": 0.2
             }
            },
            "type": "bar"
           }
          ],
          "barpolar": [
           {
            "marker": {
             "line": {
              "color": "#E5ECF6",
              "width": 0.5
             },
             "pattern": {
              "fillmode": "overlay",
              "size": 10,
              "solidity": 0.2
             }
            },
            "type": "barpolar"
           }
          ],
          "carpet": [
           {
            "aaxis": {
             "endlinecolor": "#2a3f5f",
             "gridcolor": "white",
             "linecolor": "white",
             "minorgridcolor": "white",
             "startlinecolor": "#2a3f5f"
            },
            "baxis": {
             "endlinecolor": "#2a3f5f",
             "gridcolor": "white",
             "linecolor": "white",
             "minorgridcolor": "white",
             "startlinecolor": "#2a3f5f"
            },
            "type": "carpet"
           }
          ],
          "choropleth": [
           {
            "colorbar": {
             "outlinewidth": 0,
             "ticks": ""
            },
            "type": "choropleth"
           }
          ],
          "contour": [
           {
            "colorbar": {
             "outlinewidth": 0,
             "ticks": ""
            },
            "colorscale": [
             [
              0,
              "#0d0887"
             ],
             [
              0.1111111111111111,
              "#46039f"
             ],
             [
              0.2222222222222222,
              "#7201a8"
             ],
             [
              0.3333333333333333,
              "#9c179e"
             ],
             [
              0.4444444444444444,
              "#bd3786"
             ],
             [
              0.5555555555555556,
              "#d8576b"
             ],
             [
              0.6666666666666666,
              "#ed7953"
             ],
             [
              0.7777777777777778,
              "#fb9f3a"
             ],
             [
              0.8888888888888888,
              "#fdca26"
             ],
             [
              1,
              "#f0f921"
             ]
            ],
            "type": "contour"
           }
          ],
          "contourcarpet": [
           {
            "colorbar": {
             "outlinewidth": 0,
             "ticks": ""
            },
            "type": "contourcarpet"
           }
          ],
          "heatmap": [
           {
            "colorbar": {
             "outlinewidth": 0,
             "ticks": ""
            },
            "colorscale": [
             [
              0,
              "#0d0887"
             ],
             [
              0.1111111111111111,
              "#46039f"
             ],
             [
              0.2222222222222222,
              "#7201a8"
             ],
             [
              0.3333333333333333,
              "#9c179e"
             ],
             [
              0.4444444444444444,
              "#bd3786"
             ],
             [
              0.5555555555555556,
              "#d8576b"
             ],
             [
              0.6666666666666666,
              "#ed7953"
             ],
             [
              0.7777777777777778,
              "#fb9f3a"
             ],
             [
              0.8888888888888888,
              "#fdca26"
             ],
             [
              1,
              "#f0f921"
             ]
            ],
            "type": "heatmap"
           }
          ],
          "heatmapgl": [
           {
            "colorbar": {
             "outlinewidth": 0,
             "ticks": ""
            },
            "colorscale": [
             [
              0,
              "#0d0887"
             ],
             [
              0.1111111111111111,
              "#46039f"
             ],
             [
              0.2222222222222222,
              "#7201a8"
             ],
             [
              0.3333333333333333,
              "#9c179e"
             ],
             [
              0.4444444444444444,
              "#bd3786"
             ],
             [
              0.5555555555555556,
              "#d8576b"
             ],
             [
              0.6666666666666666,
              "#ed7953"
             ],
             [
              0.7777777777777778,
              "#fb9f3a"
             ],
             [
              0.8888888888888888,
              "#fdca26"
             ],
             [
              1,
              "#f0f921"
             ]
            ],
            "type": "heatmapgl"
           }
          ],
          "histogram": [
           {
            "marker": {
             "pattern": {
              "fillmode": "overlay",
              "size": 10,
              "solidity": 0.2
             }
            },
            "type": "histogram"
           }
          ],
          "histogram2d": [
           {
            "colorbar": {
             "outlinewidth": 0,
             "ticks": ""
            },
            "colorscale": [
             [
              0,
              "#0d0887"
             ],
             [
              0.1111111111111111,
              "#46039f"
             ],
             [
              0.2222222222222222,
              "#7201a8"
             ],
             [
              0.3333333333333333,
              "#9c179e"
             ],
             [
              0.4444444444444444,
              "#bd3786"
             ],
             [
              0.5555555555555556,
              "#d8576b"
             ],
             [
              0.6666666666666666,
              "#ed7953"
             ],
             [
              0.7777777777777778,
              "#fb9f3a"
             ],
             [
              0.8888888888888888,
              "#fdca26"
             ],
             [
              1,
              "#f0f921"
             ]
            ],
            "type": "histogram2d"
           }
          ],
          "histogram2dcontour": [
           {
            "colorbar": {
             "outlinewidth": 0,
             "ticks": ""
            },
            "colorscale": [
             [
              0,
              "#0d0887"
             ],
             [
              0.1111111111111111,
              "#46039f"
             ],
             [
              0.2222222222222222,
              "#7201a8"
             ],
             [
              0.3333333333333333,
              "#9c179e"
             ],
             [
              0.4444444444444444,
              "#bd3786"
             ],
             [
              0.5555555555555556,
              "#d8576b"
             ],
             [
              0.6666666666666666,
              "#ed7953"
             ],
             [
              0.7777777777777778,
              "#fb9f3a"
             ],
             [
              0.8888888888888888,
              "#fdca26"
             ],
             [
              1,
              "#f0f921"
             ]
            ],
            "type": "histogram2dcontour"
           }
          ],
          "mesh3d": [
           {
            "colorbar": {
             "outlinewidth": 0,
             "ticks": ""
            },
            "type": "mesh3d"
           }
          ],
          "parcoords": [
           {
            "line": {
             "colorbar": {
              "outlinewidth": 0,
              "ticks": ""
             }
            },
            "type": "parcoords"
           }
          ],
          "pie": [
           {
            "automargin": true,
            "type": "pie"
           }
          ],
          "scatter": [
           {
            "fillpattern": {
             "fillmode": "overlay",
             "size": 10,
             "solidity": 0.2
            },
            "type": "scatter"
           }
          ],
          "scatter3d": [
           {
            "line": {
             "colorbar": {
              "outlinewidth": 0,
              "ticks": ""
             }
            },
            "marker": {
             "colorbar": {
              "outlinewidth": 0,
              "ticks": ""
             }
            },
            "type": "scatter3d"
           }
          ],
          "scattercarpet": [
           {
            "marker": {
             "colorbar": {
              "outlinewidth": 0,
              "ticks": ""
             }
            },
            "type": "scattercarpet"
           }
          ],
          "scattergeo": [
           {
            "marker": {
             "colorbar": {
              "outlinewidth": 0,
              "ticks": ""
             }
            },
            "type": "scattergeo"
           }
          ],
          "scattergl": [
           {
            "marker": {
             "colorbar": {
              "outlinewidth": 0,
              "ticks": ""
             }
            },
            "type": "scattergl"
           }
          ],
          "scattermapbox": [
           {
            "marker": {
             "colorbar": {
              "outlinewidth": 0,
              "ticks": ""
             }
            },
            "type": "scattermapbox"
           }
          ],
          "scatterpolar": [
           {
            "marker": {
             "colorbar": {
              "outlinewidth": 0,
              "ticks": ""
             }
            },
            "type": "scatterpolar"
           }
          ],
          "scatterpolargl": [
           {
            "marker": {
             "colorbar": {
              "outlinewidth": 0,
              "ticks": ""
             }
            },
            "type": "scatterpolargl"
           }
          ],
          "scatterternary": [
           {
            "marker": {
             "colorbar": {
              "outlinewidth": 0,
              "ticks": ""
             }
            },
            "type": "scatterternary"
           }
          ],
          "surface": [
           {
            "colorbar": {
             "outlinewidth": 0,
             "ticks": ""
            },
            "colorscale": [
             [
              0,
              "#0d0887"
             ],
             [
              0.1111111111111111,
              "#46039f"
             ],
             [
              0.2222222222222222,
              "#7201a8"
             ],
             [
              0.3333333333333333,
              "#9c179e"
             ],
             [
              0.4444444444444444,
              "#bd3786"
             ],
             [
              0.5555555555555556,
              "#d8576b"
             ],
             [
              0.6666666666666666,
              "#ed7953"
             ],
             [
              0.7777777777777778,
              "#fb9f3a"
             ],
             [
              0.8888888888888888,
              "#fdca26"
             ],
             [
              1,
              "#f0f921"
             ]
            ],
            "type": "surface"
           }
          ],
          "table": [
           {
            "cells": {
             "fill": {
              "color": "#EBF0F8"
             },
             "line": {
              "color": "white"
             }
            },
            "header": {
             "fill": {
              "color": "#C8D4E3"
             },
             "line": {
              "color": "white"
             }
            },
            "type": "table"
           }
          ]
         },
         "layout": {
          "annotationdefaults": {
           "arrowcolor": "#2a3f5f",
           "arrowhead": 0,
           "arrowwidth": 1
          },
          "autotypenumbers": "strict",
          "coloraxis": {
           "colorbar": {
            "outlinewidth": 0,
            "ticks": ""
           }
          },
          "colorscale": {
           "diverging": [
            [
             0,
             "#8e0152"
            ],
            [
             0.1,
             "#c51b7d"
            ],
            [
             0.2,
             "#de77ae"
            ],
            [
             0.3,
             "#f1b6da"
            ],
            [
             0.4,
             "#fde0ef"
            ],
            [
             0.5,
             "#f7f7f7"
            ],
            [
             0.6,
             "#e6f5d0"
            ],
            [
             0.7,
             "#b8e186"
            ],
            [
             0.8,
             "#7fbc41"
            ],
            [
             0.9,
             "#4d9221"
            ],
            [
             1,
             "#276419"
            ]
           ],
           "sequential": [
            [
             0,
             "#0d0887"
            ],
            [
             0.1111111111111111,
             "#46039f"
            ],
            [
             0.2222222222222222,
             "#7201a8"
            ],
            [
             0.3333333333333333,
             "#9c179e"
            ],
            [
             0.4444444444444444,
             "#bd3786"
            ],
            [
             0.5555555555555556,
             "#d8576b"
            ],
            [
             0.6666666666666666,
             "#ed7953"
            ],
            [
             0.7777777777777778,
             "#fb9f3a"
            ],
            [
             0.8888888888888888,
             "#fdca26"
            ],
            [
             1,
             "#f0f921"
            ]
           ],
           "sequentialminus": [
            [
             0,
             "#0d0887"
            ],
            [
             0.1111111111111111,
             "#46039f"
            ],
            [
             0.2222222222222222,
             "#7201a8"
            ],
            [
             0.3333333333333333,
             "#9c179e"
            ],
            [
             0.4444444444444444,
             "#bd3786"
            ],
            [
             0.5555555555555556,
             "#d8576b"
            ],
            [
             0.6666666666666666,
             "#ed7953"
            ],
            [
             0.7777777777777778,
             "#fb9f3a"
            ],
            [
             0.8888888888888888,
             "#fdca26"
            ],
            [
             1,
             "#f0f921"
            ]
           ]
          },
          "colorway": [
           "#636efa",
           "#EF553B",
           "#00cc96",
           "#ab63fa",
           "#FFA15A",
           "#19d3f3",
           "#FF6692",
           "#B6E880",
           "#FF97FF",
           "#FECB52"
          ],
          "font": {
           "color": "#2a3f5f"
          },
          "geo": {
           "bgcolor": "white",
           "lakecolor": "white",
           "landcolor": "#E5ECF6",
           "showlakes": true,
           "showland": true,
           "subunitcolor": "white"
          },
          "hoverlabel": {
           "align": "left"
          },
          "hovermode": "closest",
          "mapbox": {
           "style": "light"
          },
          "paper_bgcolor": "white",
          "plot_bgcolor": "#E5ECF6",
          "polar": {
           "angularaxis": {
            "gridcolor": "white",
            "linecolor": "white",
            "ticks": ""
           },
           "bgcolor": "#E5ECF6",
           "radialaxis": {
            "gridcolor": "white",
            "linecolor": "white",
            "ticks": ""
           }
          },
          "scene": {
           "xaxis": {
            "backgroundcolor": "#E5ECF6",
            "gridcolor": "white",
            "gridwidth": 2,
            "linecolor": "white",
            "showbackground": true,
            "ticks": "",
            "zerolinecolor": "white"
           },
           "yaxis": {
            "backgroundcolor": "#E5ECF6",
            "gridcolor": "white",
            "gridwidth": 2,
            "linecolor": "white",
            "showbackground": true,
            "ticks": "",
            "zerolinecolor": "white"
           },
           "zaxis": {
            "backgroundcolor": "#E5ECF6",
            "gridcolor": "white",
            "gridwidth": 2,
            "linecolor": "white",
            "showbackground": true,
            "ticks": "",
            "zerolinecolor": "white"
           }
          },
          "shapedefaults": {
           "line": {
            "color": "#2a3f5f"
           }
          },
          "ternary": {
           "aaxis": {
            "gridcolor": "white",
            "linecolor": "white",
            "ticks": ""
           },
           "baxis": {
            "gridcolor": "white",
            "linecolor": "white",
            "ticks": ""
           },
           "bgcolor": "#E5ECF6",
           "caxis": {
            "gridcolor": "white",
            "linecolor": "white",
            "ticks": ""
           }
          },
          "title": {
           "x": 0.05
          },
          "xaxis": {
           "automargin": true,
           "gridcolor": "white",
           "linecolor": "white",
           "ticks": "",
           "title": {
            "standoff": 15
           },
           "zerolinecolor": "white",
           "zerolinewidth": 2
          },
          "yaxis": {
           "automargin": true,
           "gridcolor": "white",
           "linecolor": "white",
           "ticks": "",
           "title": {
            "standoff": 15
           },
           "zerolinecolor": "white",
           "zerolinewidth": 2
          }
         }
        },
        "title": {
         "text": "signup rates by platform category"
        }
       }
      }
     },
     "metadata": {},
     "output_type": "display_data"
    }
   ],
   "source": [
    "fig  = px.pie(\n",
    "    df,\n",
    "    names=\"platform\",\n",
    "    values=\"num_signups\",\n",
    "    title=\"signup rates by platform category\"\n",
    ")\n",
    "fig.show()\n",
    "# fig.write_image(\"C:/Users/karthikeya/health_tech_analytics/signup rates by platform category.png\")\n",
    "# fig.write_html(\"C:/Users/karthikeya/health_tech_analytics/signup rates by platform category.html\")"
   ]
  },
  {
   "cell_type": "code",
   "execution_count": 43,
   "metadata": {},
   "outputs": [
    {
     "data": {
      "text/html": [
       "<div>\n",
       "<style scoped>\n",
       "    .dataframe tbody tr th:only-of-type {\n",
       "        vertical-align: middle;\n",
       "    }\n",
       "\n",
       "    .dataframe tbody tr th {\n",
       "        vertical-align: top;\n",
       "    }\n",
       "\n",
       "    .dataframe thead th {\n",
       "        text-align: right;\n",
       "    }\n",
       "</style>\n",
       "<table border=\"1\" class=\"dataframe\">\n",
       "  <thead>\n",
       "    <tr style=\"text-align: right;\">\n",
       "      <th></th>\n",
       "      <th>cost</th>\n",
       "      <th>impressions</th>\n",
       "      <th>clicks</th>\n",
       "      <th>num_signups</th>\n",
       "      <th>cost_per_impression</th>\n",
       "      <th>cost_per_click</th>\n",
       "      <th>customer_acqisition_cost</th>\n",
       "      <th>click_through_rate</th>\n",
       "      <th>signup_rate</th>\n",
       "    </tr>\n",
       "    <tr>\n",
       "      <th>platform</th>\n",
       "      <th></th>\n",
       "      <th></th>\n",
       "      <th></th>\n",
       "      <th></th>\n",
       "      <th></th>\n",
       "      <th></th>\n",
       "      <th></th>\n",
       "      <th></th>\n",
       "      <th></th>\n",
       "    </tr>\n",
       "  </thead>\n",
       "  <tbody>\n",
       "    <tr>\n",
       "      <th>Social Media</th>\n",
       "      <td>17089.572975</td>\n",
       "      <td>3259312</td>\n",
       "      <td>280847.5</td>\n",
       "      <td>7610.0</td>\n",
       "      <td>0.005243</td>\n",
       "      <td>0.060850</td>\n",
       "      <td>2.245673</td>\n",
       "      <td>8.616772</td>\n",
       "      <td>0.233485</td>\n",
       "    </tr>\n",
       "    <tr>\n",
       "      <th>Email</th>\n",
       "      <td>16678.967588</td>\n",
       "      <td>2022478</td>\n",
       "      <td>337928.5</td>\n",
       "      <td>4130.0</td>\n",
       "      <td>0.008247</td>\n",
       "      <td>0.049356</td>\n",
       "      <td>4.038491</td>\n",
       "      <td>16.708637</td>\n",
       "      <td>0.204205</td>\n",
       "    </tr>\n",
       "    <tr>\n",
       "      <th>SEO</th>\n",
       "      <td>21246.992710</td>\n",
       "      <td>3188926</td>\n",
       "      <td>233492.0</td>\n",
       "      <td>4055.0</td>\n",
       "      <td>0.006663</td>\n",
       "      <td>0.090997</td>\n",
       "      <td>5.239702</td>\n",
       "      <td>7.321964</td>\n",
       "      <td>0.127159</td>\n",
       "    </tr>\n",
       "    <tr>\n",
       "      <th>TV</th>\n",
       "      <td>5174.714875</td>\n",
       "      <td>609439</td>\n",
       "      <td>0.0</td>\n",
       "      <td>494.0</td>\n",
       "      <td>0.008491</td>\n",
       "      <td>inf</td>\n",
       "      <td>10.475131</td>\n",
       "      <td>0.000000</td>\n",
       "      <td>0.081058</td>\n",
       "    </tr>\n",
       "  </tbody>\n",
       "</table>\n",
       "</div>"
      ],
      "text/plain": [
       "                      cost  impressions    clicks  num_signups  \\\n",
       "platform                                                         \n",
       "Social Media  17089.572975      3259312  280847.5       7610.0   \n",
       "Email         16678.967588      2022478  337928.5       4130.0   \n",
       "SEO           21246.992710      3188926  233492.0       4055.0   \n",
       "TV             5174.714875       609439       0.0        494.0   \n",
       "\n",
       "              cost_per_impression  cost_per_click  customer_acqisition_cost  \\\n",
       "platform                                                                      \n",
       "Social Media             0.005243        0.060850                  2.245673   \n",
       "Email                    0.008247        0.049356                  4.038491   \n",
       "SEO                      0.006663        0.090997                  5.239702   \n",
       "TV                       0.008491             inf                 10.475131   \n",
       "\n",
       "              click_through_rate  signup_rate  \n",
       "platform                                       \n",
       "Social Media            8.616772     0.233485  \n",
       "Email                  16.708637     0.204205  \n",
       "SEO                     7.321964     0.127159  \n",
       "TV                      0.000000     0.081058  "
      ]
     },
     "execution_count": 43,
     "metadata": {},
     "output_type": "execute_result"
    }
   ],
   "source": [
    "df_platform=df.groupby(['platform'])[columns].sum().sort_values(by=\"num_signups\",ascending=False)\n",
    "df_platform= calculate_campign_metrics(df_platform)\n",
    "df_platform"
   ]
  },
  {
   "cell_type": "code",
   "execution_count": 44,
   "metadata": {},
   "outputs": [
    {
     "data": {
      "text/html": [
       "<div>\n",
       "<style scoped>\n",
       "    .dataframe tbody tr th:only-of-type {\n",
       "        vertical-align: middle;\n",
       "    }\n",
       "\n",
       "    .dataframe tbody tr th {\n",
       "        vertical-align: top;\n",
       "    }\n",
       "\n",
       "    .dataframe thead th {\n",
       "        text-align: right;\n",
       "    }\n",
       "</style>\n",
       "<table border=\"1\" class=\"dataframe\">\n",
       "  <thead>\n",
       "    <tr style=\"text-align: right;\">\n",
       "      <th></th>\n",
       "      <th>cost</th>\n",
       "      <th>impressions</th>\n",
       "      <th>clicks</th>\n",
       "      <th>num_signups</th>\n",
       "      <th>cost_per_impression</th>\n",
       "      <th>cost_per_click</th>\n",
       "      <th>customer_acqisition_cost</th>\n",
       "      <th>click_through_rate</th>\n",
       "      <th>signup_rate</th>\n",
       "    </tr>\n",
       "    <tr>\n",
       "      <th>campaign_type</th>\n",
       "      <th></th>\n",
       "      <th></th>\n",
       "      <th></th>\n",
       "      <th></th>\n",
       "      <th></th>\n",
       "      <th></th>\n",
       "      <th></th>\n",
       "      <th></th>\n",
       "      <th></th>\n",
       "    </tr>\n",
       "  </thead>\n",
       "  <tbody>\n",
       "    <tr>\n",
       "      <th>Product Promotion</th>\n",
       "      <td>10965.805894</td>\n",
       "      <td>1562824</td>\n",
       "      <td>105050.5</td>\n",
       "      <td>5581.0</td>\n",
       "      <td>0.007017</td>\n",
       "      <td>0.104386</td>\n",
       "      <td>1.964846</td>\n",
       "      <td>6.721838</td>\n",
       "      <td>0.357110</td>\n",
       "    </tr>\n",
       "    <tr>\n",
       "      <th>Health Awareness</th>\n",
       "      <td>4520.521931</td>\n",
       "      <td>820960</td>\n",
       "      <td>124169.0</td>\n",
       "      <td>3395.0</td>\n",
       "      <td>0.005506</td>\n",
       "      <td>0.036406</td>\n",
       "      <td>1.331523</td>\n",
       "      <td>15.124854</td>\n",
       "      <td>0.413540</td>\n",
       "    </tr>\n",
       "    <tr>\n",
       "      <th>Policy Information</th>\n",
       "      <td>10814.963725</td>\n",
       "      <td>1816321</td>\n",
       "      <td>265360.0</td>\n",
       "      <td>2987.0</td>\n",
       "      <td>0.005954</td>\n",
       "      <td>0.040756</td>\n",
       "      <td>3.620678</td>\n",
       "      <td>14.609752</td>\n",
       "      <td>0.164453</td>\n",
       "    </tr>\n",
       "    <tr>\n",
       "      <th>Customer Testimonial</th>\n",
       "      <td>8676.854990</td>\n",
       "      <td>1511676</td>\n",
       "      <td>109730.0</td>\n",
       "      <td>2229.0</td>\n",
       "      <td>0.005740</td>\n",
       "      <td>0.079075</td>\n",
       "      <td>3.892712</td>\n",
       "      <td>7.258831</td>\n",
       "      <td>0.147452</td>\n",
       "    </tr>\n",
       "    <tr>\n",
       "      <th>Covid Awareness</th>\n",
       "      <td>13976.025031</td>\n",
       "      <td>1514805</td>\n",
       "      <td>125856.5</td>\n",
       "      <td>1064.0</td>\n",
       "      <td>0.009226</td>\n",
       "      <td>0.111047</td>\n",
       "      <td>13.135362</td>\n",
       "      <td>8.308429</td>\n",
       "      <td>0.070240</td>\n",
       "    </tr>\n",
       "    <tr>\n",
       "      <th>Health Tips</th>\n",
       "      <td>5154.659153</td>\n",
       "      <td>719101</td>\n",
       "      <td>50398.0</td>\n",
       "      <td>972.0</td>\n",
       "      <td>0.007168</td>\n",
       "      <td>0.102279</td>\n",
       "      <td>5.303147</td>\n",
       "      <td>7.008473</td>\n",
       "      <td>0.135169</td>\n",
       "    </tr>\n",
       "    <tr>\n",
       "      <th>Offer Announcement</th>\n",
       "      <td>6081.417424</td>\n",
       "      <td>1134468</td>\n",
       "      <td>71704.0</td>\n",
       "      <td>61.0</td>\n",
       "      <td>0.005361</td>\n",
       "      <td>0.084813</td>\n",
       "      <td>99.695368</td>\n",
       "      <td>6.320496</td>\n",
       "      <td>0.005377</td>\n",
       "    </tr>\n",
       "  </tbody>\n",
       "</table>\n",
       "</div>"
      ],
      "text/plain": [
       "                              cost  impressions    clicks  num_signups  \\\n",
       "campaign_type                                                            \n",
       "Product Promotion     10965.805894      1562824  105050.5       5581.0   \n",
       "Health Awareness       4520.521931       820960  124169.0       3395.0   \n",
       "Policy Information    10814.963725      1816321  265360.0       2987.0   \n",
       "Customer Testimonial   8676.854990      1511676  109730.0       2229.0   \n",
       "Covid Awareness       13976.025031      1514805  125856.5       1064.0   \n",
       "Health Tips            5154.659153       719101   50398.0        972.0   \n",
       "Offer Announcement     6081.417424      1134468   71704.0         61.0   \n",
       "\n",
       "                      cost_per_impression  cost_per_click  \\\n",
       "campaign_type                                               \n",
       "Product Promotion                0.007017        0.104386   \n",
       "Health Awareness                 0.005506        0.036406   \n",
       "Policy Information               0.005954        0.040756   \n",
       "Customer Testimonial             0.005740        0.079075   \n",
       "Covid Awareness                  0.009226        0.111047   \n",
       "Health Tips                      0.007168        0.102279   \n",
       "Offer Announcement               0.005361        0.084813   \n",
       "\n",
       "                      customer_acqisition_cost  click_through_rate  \\\n",
       "campaign_type                                                        \n",
       "Product Promotion                     1.964846            6.721838   \n",
       "Health Awareness                      1.331523           15.124854   \n",
       "Policy Information                    3.620678           14.609752   \n",
       "Customer Testimonial                  3.892712            7.258831   \n",
       "Covid Awareness                      13.135362            8.308429   \n",
       "Health Tips                           5.303147            7.008473   \n",
       "Offer Announcement                   99.695368            6.320496   \n",
       "\n",
       "                      signup_rate  \n",
       "campaign_type                      \n",
       "Product Promotion        0.357110  \n",
       "Health Awareness         0.413540  \n",
       "Policy Information       0.164453  \n",
       "Customer Testimonial     0.147452  \n",
       "Covid Awareness          0.070240  \n",
       "Health Tips              0.135169  \n",
       "Offer Announcement       0.005377  "
      ]
     },
     "execution_count": 44,
     "metadata": {},
     "output_type": "execute_result"
    }
   ],
   "source": [
    "df_campaign_type=df.groupby(['campaign_type'])[columns].sum().sort_values(by=\"num_signups\",ascending=False)\n",
    "df_campaign_type=calculate_campign_metrics(df_campaign_type)\n",
    "df_campaign_type"
   ]
  },
  {
   "cell_type": "code",
   "execution_count": 45,
   "metadata": {},
   "outputs": [
    {
     "data": {
      "text/html": [
       "<div>\n",
       "<style scoped>\n",
       "    .dataframe tbody tr th:only-of-type {\n",
       "        vertical-align: middle;\n",
       "    }\n",
       "\n",
       "    .dataframe tbody tr th {\n",
       "        vertical-align: top;\n",
       "    }\n",
       "\n",
       "    .dataframe thead th {\n",
       "        text-align: right;\n",
       "    }\n",
       "</style>\n",
       "<table border=\"1\" class=\"dataframe\">\n",
       "  <thead>\n",
       "    <tr style=\"text-align: right;\">\n",
       "      <th></th>\n",
       "      <th>cost</th>\n",
       "      <th>impressions</th>\n",
       "      <th>clicks</th>\n",
       "      <th>num_signups</th>\n",
       "      <th>cost_per_impression</th>\n",
       "      <th>cost_per_click</th>\n",
       "      <th>customer_acqisition_cost</th>\n",
       "      <th>click_through_rate</th>\n",
       "      <th>signup_rate</th>\n",
       "    </tr>\n",
       "    <tr>\n",
       "      <th>campaign_category</th>\n",
       "      <th></th>\n",
       "      <th></th>\n",
       "      <th></th>\n",
       "      <th></th>\n",
       "      <th></th>\n",
       "      <th></th>\n",
       "      <th></th>\n",
       "      <th></th>\n",
       "      <th></th>\n",
       "    </tr>\n",
       "  </thead>\n",
       "  <tbody>\n",
       "    <tr>\n",
       "      <th>#HealthyLiving</th>\n",
       "      <td>6676.631363</td>\n",
       "      <td>1372448</td>\n",
       "      <td>132067.5</td>\n",
       "      <td>3727.0</td>\n",
       "      <td>0.004865</td>\n",
       "      <td>0.050555</td>\n",
       "      <td>1.791422</td>\n",
       "      <td>9.622769</td>\n",
       "      <td>0.271559</td>\n",
       "    </tr>\n",
       "    <tr>\n",
       "      <th>Health For All</th>\n",
       "      <td>4346.966301</td>\n",
       "      <td>170559</td>\n",
       "      <td>43453.0</td>\n",
       "      <td>3545.0</td>\n",
       "      <td>0.025487</td>\n",
       "      <td>0.100038</td>\n",
       "      <td>1.226225</td>\n",
       "      <td>25.476814</td>\n",
       "      <td>2.078460</td>\n",
       "    </tr>\n",
       "    <tr>\n",
       "      <th>#CoverageMatters</th>\n",
       "      <td>2311.331446</td>\n",
       "      <td>712100</td>\n",
       "      <td>74240.0</td>\n",
       "      <td>3536.0</td>\n",
       "      <td>0.003246</td>\n",
       "      <td>0.031133</td>\n",
       "      <td>0.653657</td>\n",
       "      <td>10.425502</td>\n",
       "      <td>0.496559</td>\n",
       "    </tr>\n",
       "    <tr>\n",
       "      <th>Compare Health Coverage</th>\n",
       "      <td>10043.207969</td>\n",
       "      <td>664710</td>\n",
       "      <td>93349.5</td>\n",
       "      <td>2820.0</td>\n",
       "      <td>0.015109</td>\n",
       "      <td>0.107587</td>\n",
       "      <td>3.561421</td>\n",
       "      <td>14.043643</td>\n",
       "      <td>0.424245</td>\n",
       "    </tr>\n",
       "    <tr>\n",
       "      <th>Tailored Health Plans</th>\n",
       "      <td>5175.185470</td>\n",
       "      <td>1398859</td>\n",
       "      <td>92570.0</td>\n",
       "      <td>1107.0</td>\n",
       "      <td>0.003700</td>\n",
       "      <td>0.055906</td>\n",
       "      <td>4.674964</td>\n",
       "      <td>6.617536</td>\n",
       "      <td>0.079136</td>\n",
       "    </tr>\n",
       "    <tr>\n",
       "      <th>Preventive Care News</th>\n",
       "      <td>6256.810157</td>\n",
       "      <td>1116968</td>\n",
       "      <td>136663.0</td>\n",
       "      <td>643.0</td>\n",
       "      <td>0.005602</td>\n",
       "      <td>0.045783</td>\n",
       "      <td>9.730653</td>\n",
       "      <td>12.235176</td>\n",
       "      <td>0.057567</td>\n",
       "    </tr>\n",
       "    <tr>\n",
       "      <th>#InsureYourHealth</th>\n",
       "      <td>6572.881885</td>\n",
       "      <td>970244</td>\n",
       "      <td>74540.0</td>\n",
       "      <td>316.0</td>\n",
       "      <td>0.006774</td>\n",
       "      <td>0.088179</td>\n",
       "      <td>20.800259</td>\n",
       "      <td>7.682604</td>\n",
       "      <td>0.032569</td>\n",
       "    </tr>\n",
       "    <tr>\n",
       "      <th>Family Coverage Plan</th>\n",
       "      <td>3936.412866</td>\n",
       "      <td>1106540</td>\n",
       "      <td>0.0</td>\n",
       "      <td>301.0</td>\n",
       "      <td>0.003557</td>\n",
       "      <td>inf</td>\n",
       "      <td>13.077784</td>\n",
       "      <td>0.000000</td>\n",
       "      <td>0.027202</td>\n",
       "    </tr>\n",
       "    <tr>\n",
       "      <th>Summer Wellness Tips</th>\n",
       "      <td>7085.680129</td>\n",
       "      <td>573010</td>\n",
       "      <td>103667.5</td>\n",
       "      <td>163.0</td>\n",
       "      <td>0.012366</td>\n",
       "      <td>0.068350</td>\n",
       "      <td>43.470430</td>\n",
       "      <td>18.091744</td>\n",
       "      <td>0.028446</td>\n",
       "    </tr>\n",
       "    <tr>\n",
       "      <th>Affordable Plans</th>\n",
       "      <td>1569.147489</td>\n",
       "      <td>327507</td>\n",
       "      <td>41593.5</td>\n",
       "      <td>63.0</td>\n",
       "      <td>0.004791</td>\n",
       "      <td>0.037726</td>\n",
       "      <td>24.907103</td>\n",
       "      <td>12.700034</td>\n",
       "      <td>0.019236</td>\n",
       "    </tr>\n",
       "    <tr>\n",
       "      <th>Benefit Updates</th>\n",
       "      <td>2151.306272</td>\n",
       "      <td>244280</td>\n",
       "      <td>54145.0</td>\n",
       "      <td>45.0</td>\n",
       "      <td>0.008807</td>\n",
       "      <td>0.039732</td>\n",
       "      <td>47.806806</td>\n",
       "      <td>22.165138</td>\n",
       "      <td>0.018421</td>\n",
       "    </tr>\n",
       "    <tr>\n",
       "      <th>Golden Years Security</th>\n",
       "      <td>4064.686801</td>\n",
       "      <td>422930</td>\n",
       "      <td>5979.0</td>\n",
       "      <td>23.0</td>\n",
       "      <td>0.009611</td>\n",
       "      <td>0.679827</td>\n",
       "      <td>176.725513</td>\n",
       "      <td>1.413709</td>\n",
       "      <td>0.005438</td>\n",
       "    </tr>\n",
       "  </tbody>\n",
       "</table>\n",
       "</div>"
      ],
      "text/plain": [
       "                                 cost  impressions    clicks  num_signups  \\\n",
       "campaign_category                                                           \n",
       "#HealthyLiving            6676.631363      1372448  132067.5       3727.0   \n",
       "Health For All            4346.966301       170559   43453.0       3545.0   \n",
       "#CoverageMatters          2311.331446       712100   74240.0       3536.0   \n",
       "Compare Health Coverage  10043.207969       664710   93349.5       2820.0   \n",
       "Tailored Health Plans     5175.185470      1398859   92570.0       1107.0   \n",
       "Preventive Care News      6256.810157      1116968  136663.0        643.0   \n",
       "#InsureYourHealth         6572.881885       970244   74540.0        316.0   \n",
       "Family Coverage Plan      3936.412866      1106540       0.0        301.0   \n",
       "Summer Wellness Tips      7085.680129       573010  103667.5        163.0   \n",
       "Affordable Plans          1569.147489       327507   41593.5         63.0   \n",
       "Benefit Updates           2151.306272       244280   54145.0         45.0   \n",
       "Golden Years Security     4064.686801       422930    5979.0         23.0   \n",
       "\n",
       "                         cost_per_impression  cost_per_click  \\\n",
       "campaign_category                                              \n",
       "#HealthyLiving                      0.004865        0.050555   \n",
       "Health For All                      0.025487        0.100038   \n",
       "#CoverageMatters                    0.003246        0.031133   \n",
       "Compare Health Coverage             0.015109        0.107587   \n",
       "Tailored Health Plans               0.003700        0.055906   \n",
       "Preventive Care News                0.005602        0.045783   \n",
       "#InsureYourHealth                   0.006774        0.088179   \n",
       "Family Coverage Plan                0.003557             inf   \n",
       "Summer Wellness Tips                0.012366        0.068350   \n",
       "Affordable Plans                    0.004791        0.037726   \n",
       "Benefit Updates                     0.008807        0.039732   \n",
       "Golden Years Security               0.009611        0.679827   \n",
       "\n",
       "                         customer_acqisition_cost  click_through_rate  \\\n",
       "campaign_category                                                       \n",
       "#HealthyLiving                           1.791422            9.622769   \n",
       "Health For All                           1.226225           25.476814   \n",
       "#CoverageMatters                         0.653657           10.425502   \n",
       "Compare Health Coverage                  3.561421           14.043643   \n",
       "Tailored Health Plans                    4.674964            6.617536   \n",
       "Preventive Care News                     9.730653           12.235176   \n",
       "#InsureYourHealth                       20.800259            7.682604   \n",
       "Family Coverage Plan                    13.077784            0.000000   \n",
       "Summer Wellness Tips                    43.470430           18.091744   \n",
       "Affordable Plans                        24.907103           12.700034   \n",
       "Benefit Updates                         47.806806           22.165138   \n",
       "Golden Years Security                  176.725513            1.413709   \n",
       "\n",
       "                         signup_rate  \n",
       "campaign_category                     \n",
       "#HealthyLiving              0.271559  \n",
       "Health For All              2.078460  \n",
       "#CoverageMatters            0.496559  \n",
       "Compare Health Coverage     0.424245  \n",
       "Tailored Health Plans       0.079136  \n",
       "Preventive Care News        0.057567  \n",
       "#InsureYourHealth           0.032569  \n",
       "Family Coverage Plan        0.027202  \n",
       "Summer Wellness Tips        0.028446  \n",
       "Affordable Plans            0.019236  \n",
       "Benefit Updates             0.018421  \n",
       "Golden Years Security       0.005438  "
      ]
     },
     "execution_count": 45,
     "metadata": {},
     "output_type": "execute_result"
    }
   ],
   "source": [
    "df_campaign_category=df.groupby(['campaign_category'])[columns].sum().sort_values(by=\"num_signups\",ascending=False)\n",
    "df_campaign_category = calculate_campign_metrics(df_campaign_category)\n",
    "df_campaign_category"
   ]
  },
  {
   "cell_type": "code",
   "execution_count": 46,
   "metadata": {},
   "outputs": [
    {
     "data": {
      "text/html": [
       "<div>\n",
       "<style scoped>\n",
       "    .dataframe tbody tr th:only-of-type {\n",
       "        vertical-align: middle;\n",
       "    }\n",
       "\n",
       "    .dataframe tbody tr th {\n",
       "        vertical-align: top;\n",
       "    }\n",
       "\n",
       "    .dataframe thead th {\n",
       "        text-align: right;\n",
       "    }\n",
       "</style>\n",
       "<table border=\"1\" class=\"dataframe\">\n",
       "  <thead>\n",
       "    <tr style=\"text-align: right;\">\n",
       "      <th></th>\n",
       "      <th></th>\n",
       "      <th>cost</th>\n",
       "      <th>impressions</th>\n",
       "      <th>clicks</th>\n",
       "      <th>num_signups</th>\n",
       "      <th>cost_per_impression</th>\n",
       "      <th>cost_per_click</th>\n",
       "      <th>customer_acqisition_cost</th>\n",
       "      <th>click_through_rate</th>\n",
       "      <th>signup_rate</th>\n",
       "    </tr>\n",
       "    <tr>\n",
       "      <th>campaign_type</th>\n",
       "      <th>campaign_category</th>\n",
       "      <th></th>\n",
       "      <th></th>\n",
       "      <th></th>\n",
       "      <th></th>\n",
       "      <th></th>\n",
       "      <th></th>\n",
       "      <th></th>\n",
       "      <th></th>\n",
       "      <th></th>\n",
       "    </tr>\n",
       "  </thead>\n",
       "  <tbody>\n",
       "    <tr>\n",
       "      <th>Product Promotion</th>\n",
       "      <th>#CoverageMatters</th>\n",
       "      <td>1050.430040</td>\n",
       "      <td>446990</td>\n",
       "      <td>35655.0</td>\n",
       "      <td>3535.0</td>\n",
       "      <td>0.002350</td>\n",
       "      <td>0.029461</td>\n",
       "      <td>0.297151</td>\n",
       "      <td>7.976689</td>\n",
       "      <td>0.790845</td>\n",
       "    </tr>\n",
       "    <tr>\n",
       "      <th>Health Awareness</th>\n",
       "      <th>Health For All</th>\n",
       "      <td>2247.380479</td>\n",
       "      <td>117850</td>\n",
       "      <td>43453.0</td>\n",
       "      <td>3279.0</td>\n",
       "      <td>0.019070</td>\n",
       "      <td>0.051720</td>\n",
       "      <td>0.685386</td>\n",
       "      <td>36.871447</td>\n",
       "      <td>2.782350</td>\n",
       "    </tr>\n",
       "    <tr>\n",
       "      <th>Policy Information</th>\n",
       "      <th>#HealthyLiving</th>\n",
       "      <td>2535.793508</td>\n",
       "      <td>593220</td>\n",
       "      <td>58195.0</td>\n",
       "      <td>2745.0</td>\n",
       "      <td>0.004275</td>\n",
       "      <td>0.043574</td>\n",
       "      <td>0.923786</td>\n",
       "      <td>9.810020</td>\n",
       "      <td>0.462729</td>\n",
       "    </tr>\n",
       "    <tr>\n",
       "      <th>Customer Testimonial</th>\n",
       "      <th>Compare Health Coverage</th>\n",
       "      <td>2783.139768</td>\n",
       "      <td>140426</td>\n",
       "      <td>44160.0</td>\n",
       "      <td>1546.0</td>\n",
       "      <td>0.019819</td>\n",
       "      <td>0.063024</td>\n",
       "      <td>1.800220</td>\n",
       "      <td>31.447168</td>\n",
       "      <td>1.100936</td>\n",
       "    </tr>\n",
       "    <tr>\n",
       "      <th>Product Promotion</th>\n",
       "      <th>Compare Health Coverage</th>\n",
       "      <td>2654.454476</td>\n",
       "      <td>116890</td>\n",
       "      <td>25243.5</td>\n",
       "      <td>1273.0</td>\n",
       "      <td>0.022709</td>\n",
       "      <td>0.105154</td>\n",
       "      <td>2.085196</td>\n",
       "      <td>21.595945</td>\n",
       "      <td>1.089058</td>\n",
       "    </tr>\n",
       "    <tr>\n",
       "      <th>Health Tips</th>\n",
       "      <th>#HealthyLiving</th>\n",
       "      <td>2227.390243</td>\n",
       "      <td>490821</td>\n",
       "      <td>32857.0</td>\n",
       "      <td>971.0</td>\n",
       "      <td>0.004538</td>\n",
       "      <td>0.067790</td>\n",
       "      <td>2.293914</td>\n",
       "      <td>6.694294</td>\n",
       "      <td>0.197832</td>\n",
       "    </tr>\n",
       "    <tr>\n",
       "      <th>Covid Awareness</th>\n",
       "      <th>Tailored Health Plans</th>\n",
       "      <td>3290.212264</td>\n",
       "      <td>330069</td>\n",
       "      <td>22565.0</td>\n",
       "      <td>965.0</td>\n",
       "      <td>0.009968</td>\n",
       "      <td>0.145810</td>\n",
       "      <td>3.409546</td>\n",
       "      <td>6.836449</td>\n",
       "      <td>0.292363</td>\n",
       "    </tr>\n",
       "    <tr>\n",
       "      <th>Customer Testimonial</th>\n",
       "      <th>Preventive Care News</th>\n",
       "      <td>1624.442464</td>\n",
       "      <td>428100</td>\n",
       "      <td>47330.0</td>\n",
       "      <td>586.0</td>\n",
       "      <td>0.003795</td>\n",
       "      <td>0.034322</td>\n",
       "      <td>2.772086</td>\n",
       "      <td>11.055828</td>\n",
       "      <td>0.136884</td>\n",
       "    </tr>\n",
       "    <tr>\n",
       "      <th rowspan=\"3\" valign=\"top\">Product Promotion</th>\n",
       "      <th>Health For All</th>\n",
       "      <td>846.052987</td>\n",
       "      <td>32272</td>\n",
       "      <td>0.0</td>\n",
       "      <td>266.0</td>\n",
       "      <td>0.026216</td>\n",
       "      <td>inf</td>\n",
       "      <td>3.180650</td>\n",
       "      <td>0.000000</td>\n",
       "      <td>0.824244</td>\n",
       "    </tr>\n",
       "    <tr>\n",
       "      <th>#InsureYourHealth</th>\n",
       "      <td>1928.030518</td>\n",
       "      <td>386223</td>\n",
       "      <td>29440.0</td>\n",
       "      <td>246.0</td>\n",
       "      <td>0.004992</td>\n",
       "      <td>0.065490</td>\n",
       "      <td>7.837522</td>\n",
       "      <td>7.622539</td>\n",
       "      <td>0.063694</td>\n",
       "    </tr>\n",
       "    <tr>\n",
       "      <th>Family Coverage Plan</th>\n",
       "      <td>801.456917</td>\n",
       "      <td>452680</td>\n",
       "      <td>0.0</td>\n",
       "      <td>228.0</td>\n",
       "      <td>0.001770</td>\n",
       "      <td>inf</td>\n",
       "      <td>3.515162</td>\n",
       "      <td>0.000000</td>\n",
       "      <td>0.050367</td>\n",
       "    </tr>\n",
       "    <tr>\n",
       "      <th>Policy Information</th>\n",
       "      <th>Summer Wellness Tips</th>\n",
       "      <td>1505.327775</td>\n",
       "      <td>315285</td>\n",
       "      <td>48134.0</td>\n",
       "      <td>161.0</td>\n",
       "      <td>0.004774</td>\n",
       "      <td>0.031274</td>\n",
       "      <td>9.349862</td>\n",
       "      <td>15.266822</td>\n",
       "      <td>0.051065</td>\n",
       "    </tr>\n",
       "    <tr>\n",
       "      <th>Health Awareness</th>\n",
       "      <th>Tailored Health Plans</th>\n",
       "      <td>394.641083</td>\n",
       "      <td>480790</td>\n",
       "      <td>34210.0</td>\n",
       "      <td>114.0</td>\n",
       "      <td>0.000821</td>\n",
       "      <td>0.011536</td>\n",
       "      <td>3.461764</td>\n",
       "      <td>7.115373</td>\n",
       "      <td>0.023711</td>\n",
       "    </tr>\n",
       "    <tr>\n",
       "      <th>Customer Testimonial</th>\n",
       "      <th>Family Coverage Plan</th>\n",
       "      <td>3134.955949</td>\n",
       "      <td>653860</td>\n",
       "      <td>0.0</td>\n",
       "      <td>73.0</td>\n",
       "      <td>0.004795</td>\n",
       "      <td>inf</td>\n",
       "      <td>42.944602</td>\n",
       "      <td>0.000000</td>\n",
       "      <td>0.011164</td>\n",
       "    </tr>\n",
       "    <tr>\n",
       "      <th>Policy Information</th>\n",
       "      <th>Preventive Care News</th>\n",
       "      <td>2167.311607</td>\n",
       "      <td>596980</td>\n",
       "      <td>79165.0</td>\n",
       "      <td>57.0</td>\n",
       "      <td>0.003630</td>\n",
       "      <td>0.027377</td>\n",
       "      <td>38.023011</td>\n",
       "      <td>13.260913</td>\n",
       "      <td>0.009548</td>\n",
       "    </tr>\n",
       "    <tr>\n",
       "      <th rowspan=\"2\" valign=\"top\">Covid Awareness</th>\n",
       "      <th>Affordable Plans</th>\n",
       "      <td>1269.021487</td>\n",
       "      <td>242657</td>\n",
       "      <td>13808.5</td>\n",
       "      <td>51.0</td>\n",
       "      <td>0.005230</td>\n",
       "      <td>0.091901</td>\n",
       "      <td>24.882774</td>\n",
       "      <td>5.690543</td>\n",
       "      <td>0.021017</td>\n",
       "    </tr>\n",
       "    <tr>\n",
       "      <th>#InsureYourHealth</th>\n",
       "      <td>1872.242670</td>\n",
       "      <td>215500</td>\n",
       "      <td>24470.0</td>\n",
       "      <td>46.0</td>\n",
       "      <td>0.008688</td>\n",
       "      <td>0.076512</td>\n",
       "      <td>40.700928</td>\n",
       "      <td>11.354988</td>\n",
       "      <td>0.021346</td>\n",
       "    </tr>\n",
       "    <tr>\n",
       "      <th>Product Promotion</th>\n",
       "      <th>Benefit Updates</th>\n",
       "      <td>710.720045</td>\n",
       "      <td>88390</td>\n",
       "      <td>6360.0</td>\n",
       "      <td>33.0</td>\n",
       "      <td>0.008041</td>\n",
       "      <td>0.111748</td>\n",
       "      <td>21.536971</td>\n",
       "      <td>7.195384</td>\n",
       "      <td>0.037335</td>\n",
       "    </tr>\n",
       "    <tr>\n",
       "      <th>Offer Announcement</th>\n",
       "      <th>Tailored Health Plans</th>\n",
       "      <td>1089.283035</td>\n",
       "      <td>451840</td>\n",
       "      <td>23370.0</td>\n",
       "      <td>27.0</td>\n",
       "      <td>0.002411</td>\n",
       "      <td>0.046610</td>\n",
       "      <td>40.343816</td>\n",
       "      <td>5.172185</td>\n",
       "      <td>0.005976</td>\n",
       "    </tr>\n",
       "    <tr>\n",
       "      <th>Customer Testimonial</th>\n",
       "      <th>#InsureYourHealth</th>\n",
       "      <td>1134.316809</td>\n",
       "      <td>289290</td>\n",
       "      <td>18240.0</td>\n",
       "      <td>24.0</td>\n",
       "      <td>0.003921</td>\n",
       "      <td>0.062188</td>\n",
       "      <td>47.263200</td>\n",
       "      <td>6.305092</td>\n",
       "      <td>0.008296</td>\n",
       "    </tr>\n",
       "    <tr>\n",
       "      <th>Offer Announcement</th>\n",
       "      <th>Golden Years Security</th>\n",
       "      <td>2853.224113</td>\n",
       "      <td>348510</td>\n",
       "      <td>5979.0</td>\n",
       "      <td>23.0</td>\n",
       "      <td>0.008187</td>\n",
       "      <td>0.477208</td>\n",
       "      <td>124.053222</td>\n",
       "      <td>1.715589</td>\n",
       "      <td>0.006600</td>\n",
       "    </tr>\n",
       "    <tr>\n",
       "      <th rowspan=\"2\" valign=\"top\">Policy Information</th>\n",
       "      <th>Benefit Updates</th>\n",
       "      <td>1440.586227</td>\n",
       "      <td>155890</td>\n",
       "      <td>47785.0</td>\n",
       "      <td>12.0</td>\n",
       "      <td>0.009241</td>\n",
       "      <td>0.030147</td>\n",
       "      <td>120.048852</td>\n",
       "      <td>30.653025</td>\n",
       "      <td>0.007698</td>\n",
       "    </tr>\n",
       "    <tr>\n",
       "      <th>Affordable Plans</th>\n",
       "      <td>300.126002</td>\n",
       "      <td>84850</td>\n",
       "      <td>27785.0</td>\n",
       "      <td>12.0</td>\n",
       "      <td>0.003537</td>\n",
       "      <td>0.010802</td>\n",
       "      <td>25.010500</td>\n",
       "      <td>32.746022</td>\n",
       "      <td>0.014143</td>\n",
       "    </tr>\n",
       "    <tr>\n",
       "      <th>Offer Announcement</th>\n",
       "      <th>#HealthyLiving</th>\n",
       "      <td>1913.447612</td>\n",
       "      <td>288407</td>\n",
       "      <td>41015.5</td>\n",
       "      <td>11.0</td>\n",
       "      <td>0.006635</td>\n",
       "      <td>0.046652</td>\n",
       "      <td>173.949783</td>\n",
       "      <td>14.221395</td>\n",
       "      <td>0.003814</td>\n",
       "    </tr>\n",
       "    <tr>\n",
       "      <th>Health Awareness</th>\n",
       "      <th>Summer Wellness Tips</th>\n",
       "      <td>1878.500369</td>\n",
       "      <td>222320</td>\n",
       "      <td>46506.0</td>\n",
       "      <td>2.0</td>\n",
       "      <td>0.008450</td>\n",
       "      <td>0.040393</td>\n",
       "      <td>939.250185</td>\n",
       "      <td>20.918496</td>\n",
       "      <td>0.000900</td>\n",
       "    </tr>\n",
       "    <tr>\n",
       "      <th>Covid Awareness</th>\n",
       "      <th>#CoverageMatters</th>\n",
       "      <td>1260.901406</td>\n",
       "      <td>265110</td>\n",
       "      <td>38585.0</td>\n",
       "      <td>1.0</td>\n",
       "      <td>0.004756</td>\n",
       "      <td>0.032679</td>\n",
       "      <td>1260.901406</td>\n",
       "      <td>14.554336</td>\n",
       "      <td>0.000377</td>\n",
       "    </tr>\n",
       "    <tr>\n",
       "      <th>Health Tips</th>\n",
       "      <th>Tailored Health Plans</th>\n",
       "      <td>401.049088</td>\n",
       "      <td>136160</td>\n",
       "      <td>12425.0</td>\n",
       "      <td>1.0</td>\n",
       "      <td>0.002945</td>\n",
       "      <td>0.032278</td>\n",
       "      <td>401.049088</td>\n",
       "      <td>9.125294</td>\n",
       "      <td>0.000734</td>\n",
       "    </tr>\n",
       "    <tr>\n",
       "      <th rowspan=\"4\" valign=\"top\">Covid Awareness</th>\n",
       "      <th>Compare Health Coverage</th>\n",
       "      <td>2239.049053</td>\n",
       "      <td>341765</td>\n",
       "      <td>17901.0</td>\n",
       "      <td>1.0</td>\n",
       "      <td>0.006551</td>\n",
       "      <td>0.125080</td>\n",
       "      <td>2239.049053</td>\n",
       "      <td>5.237810</td>\n",
       "      <td>0.000293</td>\n",
       "    </tr>\n",
       "    <tr>\n",
       "      <th>Summer Wellness Tips</th>\n",
       "      <td>1833.281138</td>\n",
       "      <td>19761</td>\n",
       "      <td>4962.5</td>\n",
       "      <td>0.0</td>\n",
       "      <td>0.092773</td>\n",
       "      <td>0.369427</td>\n",
       "      <td>inf</td>\n",
       "      <td>25.112596</td>\n",
       "      <td>0.000000</td>\n",
       "    </tr>\n",
       "    <tr>\n",
       "      <th>Preventive Care News</th>\n",
       "      <td>1338.129684</td>\n",
       "      <td>39003</td>\n",
       "      <td>3564.5</td>\n",
       "      <td>0.0</td>\n",
       "      <td>0.034308</td>\n",
       "      <td>0.375405</td>\n",
       "      <td>inf</td>\n",
       "      <td>9.139041</td>\n",
       "      <td>0.000000</td>\n",
       "    </tr>\n",
       "    <tr>\n",
       "      <th>Golden Years Security</th>\n",
       "      <td>873.187329</td>\n",
       "      <td>60940</td>\n",
       "      <td>0.0</td>\n",
       "      <td>0.0</td>\n",
       "      <td>0.014329</td>\n",
       "      <td>inf</td>\n",
       "      <td>inf</td>\n",
       "      <td>0.000000</td>\n",
       "      <td>0.000000</td>\n",
       "    </tr>\n",
       "    <tr>\n",
       "      <th>Health Tips</th>\n",
       "      <th>Preventive Care News</th>\n",
       "      <td>359.111694</td>\n",
       "      <td>42630</td>\n",
       "      <td>2316.5</td>\n",
       "      <td>0.0</td>\n",
       "      <td>0.008424</td>\n",
       "      <td>0.155023</td>\n",
       "      <td>inf</td>\n",
       "      <td>5.433967</td>\n",
       "      <td>0.000000</td>\n",
       "    </tr>\n",
       "    <tr>\n",
       "      <th>Offer Announcement</th>\n",
       "      <th>#InsureYourHealth</th>\n",
       "      <td>225.462663</td>\n",
       "      <td>45711</td>\n",
       "      <td>1339.5</td>\n",
       "      <td>0.0</td>\n",
       "      <td>0.004932</td>\n",
       "      <td>0.168319</td>\n",
       "      <td>inf</td>\n",
       "      <td>2.930367</td>\n",
       "      <td>0.000000</td>\n",
       "    </tr>\n",
       "    <tr>\n",
       "      <th rowspan=\"2\" valign=\"top\">Health Tips</th>\n",
       "      <th>#InsureYourHealth</th>\n",
       "      <td>1412.829225</td>\n",
       "      <td>33520</td>\n",
       "      <td>1050.5</td>\n",
       "      <td>0.0</td>\n",
       "      <td>0.042149</td>\n",
       "      <td>1.344911</td>\n",
       "      <td>inf</td>\n",
       "      <td>3.133950</td>\n",
       "      <td>0.000000</td>\n",
       "    </tr>\n",
       "    <tr>\n",
       "      <th>Compare Health Coverage</th>\n",
       "      <td>754.278902</td>\n",
       "      <td>15970</td>\n",
       "      <td>1749.0</td>\n",
       "      <td>0.0</td>\n",
       "      <td>0.047231</td>\n",
       "      <td>0.431263</td>\n",
       "      <td>inf</td>\n",
       "      <td>10.951785</td>\n",
       "      <td>0.000000</td>\n",
       "    </tr>\n",
       "    <tr>\n",
       "      <th rowspan=\"2\" valign=\"top\">Policy Information</th>\n",
       "      <th>Compare Health Coverage</th>\n",
       "      <td>1612.285770</td>\n",
       "      <td>49659</td>\n",
       "      <td>4296.0</td>\n",
       "      <td>0.0</td>\n",
       "      <td>0.032467</td>\n",
       "      <td>0.375299</td>\n",
       "      <td>inf</td>\n",
       "      <td>8.651000</td>\n",
       "      <td>0.000000</td>\n",
       "    </tr>\n",
       "    <tr>\n",
       "      <th>Health For All</th>\n",
       "      <td>1253.532835</td>\n",
       "      <td>20437</td>\n",
       "      <td>0.0</td>\n",
       "      <td>0.0</td>\n",
       "      <td>0.061336</td>\n",
       "      <td>inf</td>\n",
       "      <td>inf</td>\n",
       "      <td>0.000000</td>\n",
       "      <td>0.000000</td>\n",
       "    </tr>\n",
       "    <tr>\n",
       "      <th rowspan=\"3\" valign=\"top\">Product Promotion</th>\n",
       "      <th>Golden Years Security</th>\n",
       "      <td>338.275359</td>\n",
       "      <td>13480</td>\n",
       "      <td>0.0</td>\n",
       "      <td>0.0</td>\n",
       "      <td>0.025095</td>\n",
       "      <td>inf</td>\n",
       "      <td>inf</td>\n",
       "      <td>0.000000</td>\n",
       "      <td>0.000000</td>\n",
       "    </tr>\n",
       "    <tr>\n",
       "      <th>Preventive Care News</th>\n",
       "      <td>767.814707</td>\n",
       "      <td>10255</td>\n",
       "      <td>4287.0</td>\n",
       "      <td>0.0</td>\n",
       "      <td>0.074872</td>\n",
       "      <td>0.179103</td>\n",
       "      <td>inf</td>\n",
       "      <td>41.803998</td>\n",
       "      <td>0.000000</td>\n",
       "    </tr>\n",
       "    <tr>\n",
       "      <th>Summer Wellness Tips</th>\n",
       "      <td>1868.570846</td>\n",
       "      <td>15644</td>\n",
       "      <td>4065.0</td>\n",
       "      <td>0.0</td>\n",
       "      <td>0.119443</td>\n",
       "      <td>0.459673</td>\n",
       "      <td>inf</td>\n",
       "      <td>25.984403</td>\n",
       "      <td>0.000000</td>\n",
       "    </tr>\n",
       "  </tbody>\n",
       "</table>\n",
       "</div>"
      ],
      "text/plain": [
       "                                                     cost  impressions  \\\n",
       "campaign_type        campaign_category                                   \n",
       "Product Promotion    #CoverageMatters         1050.430040       446990   \n",
       "Health Awareness     Health For All           2247.380479       117850   \n",
       "Policy Information   #HealthyLiving           2535.793508       593220   \n",
       "Customer Testimonial Compare Health Coverage  2783.139768       140426   \n",
       "Product Promotion    Compare Health Coverage  2654.454476       116890   \n",
       "Health Tips          #HealthyLiving           2227.390243       490821   \n",
       "Covid Awareness      Tailored Health Plans    3290.212264       330069   \n",
       "Customer Testimonial Preventive Care News     1624.442464       428100   \n",
       "Product Promotion    Health For All            846.052987        32272   \n",
       "                     #InsureYourHealth        1928.030518       386223   \n",
       "                     Family Coverage Plan      801.456917       452680   \n",
       "Policy Information   Summer Wellness Tips     1505.327775       315285   \n",
       "Health Awareness     Tailored Health Plans     394.641083       480790   \n",
       "Customer Testimonial Family Coverage Plan     3134.955949       653860   \n",
       "Policy Information   Preventive Care News     2167.311607       596980   \n",
       "Covid Awareness      Affordable Plans         1269.021487       242657   \n",
       "                     #InsureYourHealth        1872.242670       215500   \n",
       "Product Promotion    Benefit Updates           710.720045        88390   \n",
       "Offer Announcement   Tailored Health Plans    1089.283035       451840   \n",
       "Customer Testimonial #InsureYourHealth        1134.316809       289290   \n",
       "Offer Announcement   Golden Years Security    2853.224113       348510   \n",
       "Policy Information   Benefit Updates          1440.586227       155890   \n",
       "                     Affordable Plans          300.126002        84850   \n",
       "Offer Announcement   #HealthyLiving           1913.447612       288407   \n",
       "Health Awareness     Summer Wellness Tips     1878.500369       222320   \n",
       "Covid Awareness      #CoverageMatters         1260.901406       265110   \n",
       "Health Tips          Tailored Health Plans     401.049088       136160   \n",
       "Covid Awareness      Compare Health Coverage  2239.049053       341765   \n",
       "                     Summer Wellness Tips     1833.281138        19761   \n",
       "                     Preventive Care News     1338.129684        39003   \n",
       "                     Golden Years Security     873.187329        60940   \n",
       "Health Tips          Preventive Care News      359.111694        42630   \n",
       "Offer Announcement   #InsureYourHealth         225.462663        45711   \n",
       "Health Tips          #InsureYourHealth        1412.829225        33520   \n",
       "                     Compare Health Coverage   754.278902        15970   \n",
       "Policy Information   Compare Health Coverage  1612.285770        49659   \n",
       "                     Health For All           1253.532835        20437   \n",
       "Product Promotion    Golden Years Security     338.275359        13480   \n",
       "                     Preventive Care News      767.814707        10255   \n",
       "                     Summer Wellness Tips     1868.570846        15644   \n",
       "\n",
       "                                               clicks  num_signups  \\\n",
       "campaign_type        campaign_category                               \n",
       "Product Promotion    #CoverageMatters         35655.0       3535.0   \n",
       "Health Awareness     Health For All           43453.0       3279.0   \n",
       "Policy Information   #HealthyLiving           58195.0       2745.0   \n",
       "Customer Testimonial Compare Health Coverage  44160.0       1546.0   \n",
       "Product Promotion    Compare Health Coverage  25243.5       1273.0   \n",
       "Health Tips          #HealthyLiving           32857.0        971.0   \n",
       "Covid Awareness      Tailored Health Plans    22565.0        965.0   \n",
       "Customer Testimonial Preventive Care News     47330.0        586.0   \n",
       "Product Promotion    Health For All               0.0        266.0   \n",
       "                     #InsureYourHealth        29440.0        246.0   \n",
       "                     Family Coverage Plan         0.0        228.0   \n",
       "Policy Information   Summer Wellness Tips     48134.0        161.0   \n",
       "Health Awareness     Tailored Health Plans    34210.0        114.0   \n",
       "Customer Testimonial Family Coverage Plan         0.0         73.0   \n",
       "Policy Information   Preventive Care News     79165.0         57.0   \n",
       "Covid Awareness      Affordable Plans         13808.5         51.0   \n",
       "                     #InsureYourHealth        24470.0         46.0   \n",
       "Product Promotion    Benefit Updates           6360.0         33.0   \n",
       "Offer Announcement   Tailored Health Plans    23370.0         27.0   \n",
       "Customer Testimonial #InsureYourHealth        18240.0         24.0   \n",
       "Offer Announcement   Golden Years Security     5979.0         23.0   \n",
       "Policy Information   Benefit Updates          47785.0         12.0   \n",
       "                     Affordable Plans         27785.0         12.0   \n",
       "Offer Announcement   #HealthyLiving           41015.5         11.0   \n",
       "Health Awareness     Summer Wellness Tips     46506.0          2.0   \n",
       "Covid Awareness      #CoverageMatters         38585.0          1.0   \n",
       "Health Tips          Tailored Health Plans    12425.0          1.0   \n",
       "Covid Awareness      Compare Health Coverage  17901.0          1.0   \n",
       "                     Summer Wellness Tips      4962.5          0.0   \n",
       "                     Preventive Care News      3564.5          0.0   \n",
       "                     Golden Years Security        0.0          0.0   \n",
       "Health Tips          Preventive Care News      2316.5          0.0   \n",
       "Offer Announcement   #InsureYourHealth         1339.5          0.0   \n",
       "Health Tips          #InsureYourHealth         1050.5          0.0   \n",
       "                     Compare Health Coverage   1749.0          0.0   \n",
       "Policy Information   Compare Health Coverage   4296.0          0.0   \n",
       "                     Health For All               0.0          0.0   \n",
       "Product Promotion    Golden Years Security        0.0          0.0   \n",
       "                     Preventive Care News      4287.0          0.0   \n",
       "                     Summer Wellness Tips      4065.0          0.0   \n",
       "\n",
       "                                              cost_per_impression  \\\n",
       "campaign_type        campaign_category                              \n",
       "Product Promotion    #CoverageMatters                    0.002350   \n",
       "Health Awareness     Health For All                      0.019070   \n",
       "Policy Information   #HealthyLiving                      0.004275   \n",
       "Customer Testimonial Compare Health Coverage             0.019819   \n",
       "Product Promotion    Compare Health Coverage             0.022709   \n",
       "Health Tips          #HealthyLiving                      0.004538   \n",
       "Covid Awareness      Tailored Health Plans               0.009968   \n",
       "Customer Testimonial Preventive Care News                0.003795   \n",
       "Product Promotion    Health For All                      0.026216   \n",
       "                     #InsureYourHealth                   0.004992   \n",
       "                     Family Coverage Plan                0.001770   \n",
       "Policy Information   Summer Wellness Tips                0.004774   \n",
       "Health Awareness     Tailored Health Plans               0.000821   \n",
       "Customer Testimonial Family Coverage Plan                0.004795   \n",
       "Policy Information   Preventive Care News                0.003630   \n",
       "Covid Awareness      Affordable Plans                    0.005230   \n",
       "                     #InsureYourHealth                   0.008688   \n",
       "Product Promotion    Benefit Updates                     0.008041   \n",
       "Offer Announcement   Tailored Health Plans               0.002411   \n",
       "Customer Testimonial #InsureYourHealth                   0.003921   \n",
       "Offer Announcement   Golden Years Security               0.008187   \n",
       "Policy Information   Benefit Updates                     0.009241   \n",
       "                     Affordable Plans                    0.003537   \n",
       "Offer Announcement   #HealthyLiving                      0.006635   \n",
       "Health Awareness     Summer Wellness Tips                0.008450   \n",
       "Covid Awareness      #CoverageMatters                    0.004756   \n",
       "Health Tips          Tailored Health Plans               0.002945   \n",
       "Covid Awareness      Compare Health Coverage             0.006551   \n",
       "                     Summer Wellness Tips                0.092773   \n",
       "                     Preventive Care News                0.034308   \n",
       "                     Golden Years Security               0.014329   \n",
       "Health Tips          Preventive Care News                0.008424   \n",
       "Offer Announcement   #InsureYourHealth                   0.004932   \n",
       "Health Tips          #InsureYourHealth                   0.042149   \n",
       "                     Compare Health Coverage             0.047231   \n",
       "Policy Information   Compare Health Coverage             0.032467   \n",
       "                     Health For All                      0.061336   \n",
       "Product Promotion    Golden Years Security               0.025095   \n",
       "                     Preventive Care News                0.074872   \n",
       "                     Summer Wellness Tips                0.119443   \n",
       "\n",
       "                                              cost_per_click  \\\n",
       "campaign_type        campaign_category                         \n",
       "Product Promotion    #CoverageMatters               0.029461   \n",
       "Health Awareness     Health For All                 0.051720   \n",
       "Policy Information   #HealthyLiving                 0.043574   \n",
       "Customer Testimonial Compare Health Coverage        0.063024   \n",
       "Product Promotion    Compare Health Coverage        0.105154   \n",
       "Health Tips          #HealthyLiving                 0.067790   \n",
       "Covid Awareness      Tailored Health Plans          0.145810   \n",
       "Customer Testimonial Preventive Care News           0.034322   \n",
       "Product Promotion    Health For All                      inf   \n",
       "                     #InsureYourHealth              0.065490   \n",
       "                     Family Coverage Plan                inf   \n",
       "Policy Information   Summer Wellness Tips           0.031274   \n",
       "Health Awareness     Tailored Health Plans          0.011536   \n",
       "Customer Testimonial Family Coverage Plan                inf   \n",
       "Policy Information   Preventive Care News           0.027377   \n",
       "Covid Awareness      Affordable Plans               0.091901   \n",
       "                     #InsureYourHealth              0.076512   \n",
       "Product Promotion    Benefit Updates                0.111748   \n",
       "Offer Announcement   Tailored Health Plans          0.046610   \n",
       "Customer Testimonial #InsureYourHealth              0.062188   \n",
       "Offer Announcement   Golden Years Security          0.477208   \n",
       "Policy Information   Benefit Updates                0.030147   \n",
       "                     Affordable Plans               0.010802   \n",
       "Offer Announcement   #HealthyLiving                 0.046652   \n",
       "Health Awareness     Summer Wellness Tips           0.040393   \n",
       "Covid Awareness      #CoverageMatters               0.032679   \n",
       "Health Tips          Tailored Health Plans          0.032278   \n",
       "Covid Awareness      Compare Health Coverage        0.125080   \n",
       "                     Summer Wellness Tips           0.369427   \n",
       "                     Preventive Care News           0.375405   \n",
       "                     Golden Years Security               inf   \n",
       "Health Tips          Preventive Care News           0.155023   \n",
       "Offer Announcement   #InsureYourHealth              0.168319   \n",
       "Health Tips          #InsureYourHealth              1.344911   \n",
       "                     Compare Health Coverage        0.431263   \n",
       "Policy Information   Compare Health Coverage        0.375299   \n",
       "                     Health For All                      inf   \n",
       "Product Promotion    Golden Years Security               inf   \n",
       "                     Preventive Care News           0.179103   \n",
       "                     Summer Wellness Tips           0.459673   \n",
       "\n",
       "                                              customer_acqisition_cost  \\\n",
       "campaign_type        campaign_category                                   \n",
       "Product Promotion    #CoverageMatters                         0.297151   \n",
       "Health Awareness     Health For All                           0.685386   \n",
       "Policy Information   #HealthyLiving                           0.923786   \n",
       "Customer Testimonial Compare Health Coverage                  1.800220   \n",
       "Product Promotion    Compare Health Coverage                  2.085196   \n",
       "Health Tips          #HealthyLiving                           2.293914   \n",
       "Covid Awareness      Tailored Health Plans                    3.409546   \n",
       "Customer Testimonial Preventive Care News                     2.772086   \n",
       "Product Promotion    Health For All                           3.180650   \n",
       "                     #InsureYourHealth                        7.837522   \n",
       "                     Family Coverage Plan                     3.515162   \n",
       "Policy Information   Summer Wellness Tips                     9.349862   \n",
       "Health Awareness     Tailored Health Plans                    3.461764   \n",
       "Customer Testimonial Family Coverage Plan                    42.944602   \n",
       "Policy Information   Preventive Care News                    38.023011   \n",
       "Covid Awareness      Affordable Plans                        24.882774   \n",
       "                     #InsureYourHealth                       40.700928   \n",
       "Product Promotion    Benefit Updates                         21.536971   \n",
       "Offer Announcement   Tailored Health Plans                   40.343816   \n",
       "Customer Testimonial #InsureYourHealth                       47.263200   \n",
       "Offer Announcement   Golden Years Security                  124.053222   \n",
       "Policy Information   Benefit Updates                        120.048852   \n",
       "                     Affordable Plans                        25.010500   \n",
       "Offer Announcement   #HealthyLiving                         173.949783   \n",
       "Health Awareness     Summer Wellness Tips                   939.250185   \n",
       "Covid Awareness      #CoverageMatters                      1260.901406   \n",
       "Health Tips          Tailored Health Plans                  401.049088   \n",
       "Covid Awareness      Compare Health Coverage               2239.049053   \n",
       "                     Summer Wellness Tips                          inf   \n",
       "                     Preventive Care News                          inf   \n",
       "                     Golden Years Security                         inf   \n",
       "Health Tips          Preventive Care News                          inf   \n",
       "Offer Announcement   #InsureYourHealth                             inf   \n",
       "Health Tips          #InsureYourHealth                             inf   \n",
       "                     Compare Health Coverage                       inf   \n",
       "Policy Information   Compare Health Coverage                       inf   \n",
       "                     Health For All                                inf   \n",
       "Product Promotion    Golden Years Security                         inf   \n",
       "                     Preventive Care News                          inf   \n",
       "                     Summer Wellness Tips                          inf   \n",
       "\n",
       "                                              click_through_rate  signup_rate  \n",
       "campaign_type        campaign_category                                         \n",
       "Product Promotion    #CoverageMatters                   7.976689     0.790845  \n",
       "Health Awareness     Health For All                    36.871447     2.782350  \n",
       "Policy Information   #HealthyLiving                     9.810020     0.462729  \n",
       "Customer Testimonial Compare Health Coverage           31.447168     1.100936  \n",
       "Product Promotion    Compare Health Coverage           21.595945     1.089058  \n",
       "Health Tips          #HealthyLiving                     6.694294     0.197832  \n",
       "Covid Awareness      Tailored Health Plans              6.836449     0.292363  \n",
       "Customer Testimonial Preventive Care News              11.055828     0.136884  \n",
       "Product Promotion    Health For All                     0.000000     0.824244  \n",
       "                     #InsureYourHealth                  7.622539     0.063694  \n",
       "                     Family Coverage Plan               0.000000     0.050367  \n",
       "Policy Information   Summer Wellness Tips              15.266822     0.051065  \n",
       "Health Awareness     Tailored Health Plans              7.115373     0.023711  \n",
       "Customer Testimonial Family Coverage Plan               0.000000     0.011164  \n",
       "Policy Information   Preventive Care News              13.260913     0.009548  \n",
       "Covid Awareness      Affordable Plans                   5.690543     0.021017  \n",
       "                     #InsureYourHealth                 11.354988     0.021346  \n",
       "Product Promotion    Benefit Updates                    7.195384     0.037335  \n",
       "Offer Announcement   Tailored Health Plans              5.172185     0.005976  \n",
       "Customer Testimonial #InsureYourHealth                  6.305092     0.008296  \n",
       "Offer Announcement   Golden Years Security              1.715589     0.006600  \n",
       "Policy Information   Benefit Updates                   30.653025     0.007698  \n",
       "                     Affordable Plans                  32.746022     0.014143  \n",
       "Offer Announcement   #HealthyLiving                    14.221395     0.003814  \n",
       "Health Awareness     Summer Wellness Tips              20.918496     0.000900  \n",
       "Covid Awareness      #CoverageMatters                  14.554336     0.000377  \n",
       "Health Tips          Tailored Health Plans              9.125294     0.000734  \n",
       "Covid Awareness      Compare Health Coverage            5.237810     0.000293  \n",
       "                     Summer Wellness Tips              25.112596     0.000000  \n",
       "                     Preventive Care News               9.139041     0.000000  \n",
       "                     Golden Years Security              0.000000     0.000000  \n",
       "Health Tips          Preventive Care News               5.433967     0.000000  \n",
       "Offer Announcement   #InsureYourHealth                  2.930367     0.000000  \n",
       "Health Tips          #InsureYourHealth                  3.133950     0.000000  \n",
       "                     Compare Health Coverage           10.951785     0.000000  \n",
       "Policy Information   Compare Health Coverage            8.651000     0.000000  \n",
       "                     Health For All                     0.000000     0.000000  \n",
       "Product Promotion    Golden Years Security              0.000000     0.000000  \n",
       "                     Preventive Care News              41.803998     0.000000  \n",
       "                     Summer Wellness Tips              25.984403     0.000000  "
      ]
     },
     "execution_count": 46,
     "metadata": {},
     "output_type": "execute_result"
    }
   ],
   "source": [
    "df_campaign_type_cat=df.groupby(['campaign_type','campaign_category'])[columns].sum().sort_values(by=\"num_signups\",ascending=False)\n",
    "df_campaign_type_cat=calculate_campign_metrics(df_campaign_type_cat)\n",
    "df_campaign_type_cat"
   ]
  },
  {
   "cell_type": "code",
   "execution_count": 47,
   "metadata": {},
   "outputs": [
    {
     "data": {
      "text/html": [
       "<div>\n",
       "<style scoped>\n",
       "    .dataframe tbody tr th:only-of-type {\n",
       "        vertical-align: middle;\n",
       "    }\n",
       "\n",
       "    .dataframe tbody tr th {\n",
       "        vertical-align: top;\n",
       "    }\n",
       "\n",
       "    .dataframe thead th {\n",
       "        text-align: right;\n",
       "    }\n",
       "</style>\n",
       "<table border=\"1\" class=\"dataframe\">\n",
       "  <thead>\n",
       "    <tr style=\"text-align: right;\">\n",
       "      <th></th>\n",
       "      <th></th>\n",
       "      <th>cost</th>\n",
       "      <th>impressions</th>\n",
       "      <th>clicks</th>\n",
       "      <th>days_run</th>\n",
       "      <th>num_signups</th>\n",
       "      <th>cost_per_impression</th>\n",
       "      <th>cost_per_click</th>\n",
       "      <th>customer_acqisition_cost</th>\n",
       "      <th>click_through_rate</th>\n",
       "      <th>signup_rate</th>\n",
       "    </tr>\n",
       "    <tr>\n",
       "      <th>platform</th>\n",
       "      <th>campaign_type</th>\n",
       "      <th></th>\n",
       "      <th></th>\n",
       "      <th></th>\n",
       "      <th></th>\n",
       "      <th></th>\n",
       "      <th></th>\n",
       "      <th></th>\n",
       "      <th></th>\n",
       "      <th></th>\n",
       "      <th></th>\n",
       "    </tr>\n",
       "  </thead>\n",
       "  <tbody>\n",
       "    <tr>\n",
       "      <th>Social Media</th>\n",
       "      <th>Product Promotion</th>\n",
       "      <td>2978.460558</td>\n",
       "      <td>833213</td>\n",
       "      <td>65095.0</td>\n",
       "      <td>88</td>\n",
       "      <td>3781.0</td>\n",
       "      <td>0.003575</td>\n",
       "      <td>0.045756</td>\n",
       "      <td>0.787744</td>\n",
       "      <td>7.812528</td>\n",
       "      <td>0.453786</td>\n",
       "    </tr>\n",
       "    <tr>\n",
       "      <th>Email</th>\n",
       "      <th>Health Awareness</th>\n",
       "      <td>3063.671400</td>\n",
       "      <td>310540</td>\n",
       "      <td>89959.0</td>\n",
       "      <td>56</td>\n",
       "      <td>3281.0</td>\n",
       "      <td>0.009866</td>\n",
       "      <td>0.034056</td>\n",
       "      <td>0.933761</td>\n",
       "      <td>28.968571</td>\n",
       "      <td>1.056547</td>\n",
       "    </tr>\n",
       "    <tr>\n",
       "      <th>Social Media</th>\n",
       "      <th>Policy Information</th>\n",
       "      <td>2535.793508</td>\n",
       "      <td>593220</td>\n",
       "      <td>58195.0</td>\n",
       "      <td>53</td>\n",
       "      <td>2745.0</td>\n",
       "      <td>0.004275</td>\n",
       "      <td>0.043574</td>\n",
       "      <td>0.923786</td>\n",
       "      <td>9.810020</td>\n",
       "      <td>0.462729</td>\n",
       "    </tr>\n",
       "    <tr>\n",
       "      <th rowspan=\"3\" valign=\"top\">SEO</th>\n",
       "      <th>Customer Testimonial</th>\n",
       "      <td>4389.367436</td>\n",
       "      <td>589766</td>\n",
       "      <td>44160.0</td>\n",
       "      <td>78</td>\n",
       "      <td>1588.0</td>\n",
       "      <td>0.007443</td>\n",
       "      <td>0.099397</td>\n",
       "      <td>2.764085</td>\n",
       "      <td>7.487715</td>\n",
       "      <td>0.269259</td>\n",
       "    </tr>\n",
       "    <tr>\n",
       "      <th>Product Promotion</th>\n",
       "      <td>2654.454476</td>\n",
       "      <td>116890</td>\n",
       "      <td>25243.5</td>\n",
       "      <td>59</td>\n",
       "      <td>1273.0</td>\n",
       "      <td>0.022709</td>\n",
       "      <td>0.105154</td>\n",
       "      <td>2.085196</td>\n",
       "      <td>21.595945</td>\n",
       "      <td>1.089058</td>\n",
       "    </tr>\n",
       "    <tr>\n",
       "      <th>Covid Awareness</th>\n",
       "      <td>6798.282804</td>\n",
       "      <td>914491</td>\n",
       "      <td>54274.5</td>\n",
       "      <td>134</td>\n",
       "      <td>1017.0</td>\n",
       "      <td>0.007434</td>\n",
       "      <td>0.125257</td>\n",
       "      <td>6.684644</td>\n",
       "      <td>5.934941</td>\n",
       "      <td>0.111209</td>\n",
       "    </tr>\n",
       "    <tr>\n",
       "      <th>Social Media</th>\n",
       "      <th>Health Tips</th>\n",
       "      <td>3640.219468</td>\n",
       "      <td>524341</td>\n",
       "      <td>33907.5</td>\n",
       "      <td>58</td>\n",
       "      <td>971.0</td>\n",
       "      <td>0.006942</td>\n",
       "      <td>0.107357</td>\n",
       "      <td>3.748939</td>\n",
       "      <td>6.466689</td>\n",
       "      <td>0.185185</td>\n",
       "    </tr>\n",
       "    <tr>\n",
       "      <th>Email</th>\n",
       "      <th>Customer Testimonial</th>\n",
       "      <td>1624.442464</td>\n",
       "      <td>428100</td>\n",
       "      <td>47330.0</td>\n",
       "      <td>48</td>\n",
       "      <td>586.0</td>\n",
       "      <td>0.003795</td>\n",
       "      <td>0.034322</td>\n",
       "      <td>2.772086</td>\n",
       "      <td>11.055828</td>\n",
       "      <td>0.136884</td>\n",
       "    </tr>\n",
       "    <tr>\n",
       "      <th>TV</th>\n",
       "      <th>Product Promotion</th>\n",
       "      <td>1985.785262</td>\n",
       "      <td>498432</td>\n",
       "      <td>0.0</td>\n",
       "      <td>66</td>\n",
       "      <td>494.0</td>\n",
       "      <td>0.003984</td>\n",
       "      <td>inf</td>\n",
       "      <td>4.019808</td>\n",
       "      <td>0.000000</td>\n",
       "      <td>0.099111</td>\n",
       "    </tr>\n",
       "    <tr>\n",
       "      <th>Email</th>\n",
       "      <th>Policy Information</th>\n",
       "      <td>5113.225610</td>\n",
       "      <td>1068155</td>\n",
       "      <td>175084.0</td>\n",
       "      <td>139</td>\n",
       "      <td>230.0</td>\n",
       "      <td>0.004787</td>\n",
       "      <td>0.029204</td>\n",
       "      <td>22.231416</td>\n",
       "      <td>16.391254</td>\n",
       "      <td>0.021532</td>\n",
       "    </tr>\n",
       "    <tr>\n",
       "      <th>SEO</th>\n",
       "      <th>Health Awareness</th>\n",
       "      <td>394.641083</td>\n",
       "      <td>480790</td>\n",
       "      <td>34210.0</td>\n",
       "      <td>38</td>\n",
       "      <td>114.0</td>\n",
       "      <td>0.000821</td>\n",
       "      <td>0.011536</td>\n",
       "      <td>3.461764</td>\n",
       "      <td>7.115373</td>\n",
       "      <td>0.023711</td>\n",
       "    </tr>\n",
       "    <tr>\n",
       "      <th>Social Media</th>\n",
       "      <th>Customer Testimonial</th>\n",
       "      <td>2663.045090</td>\n",
       "      <td>493810</td>\n",
       "      <td>18240.0</td>\n",
       "      <td>48</td>\n",
       "      <td>55.0</td>\n",
       "      <td>0.005393</td>\n",
       "      <td>0.146000</td>\n",
       "      <td>48.419002</td>\n",
       "      <td>3.693728</td>\n",
       "      <td>0.011138</td>\n",
       "    </tr>\n",
       "    <tr>\n",
       "      <th>SEO</th>\n",
       "      <th>Offer Announcement</th>\n",
       "      <td>3942.507148</td>\n",
       "      <td>800350</td>\n",
       "      <td>29349.0</td>\n",
       "      <td>94</td>\n",
       "      <td>50.0</td>\n",
       "      <td>0.004926</td>\n",
       "      <td>0.134332</td>\n",
       "      <td>78.850143</td>\n",
       "      <td>3.667021</td>\n",
       "      <td>0.006247</td>\n",
       "    </tr>\n",
       "    <tr>\n",
       "      <th>Social Media</th>\n",
       "      <th>Covid Awareness</th>\n",
       "      <td>3133.144076</td>\n",
       "      <td>480610</td>\n",
       "      <td>63055.0</td>\n",
       "      <td>53</td>\n",
       "      <td>47.0</td>\n",
       "      <td>0.006519</td>\n",
       "      <td>0.049689</td>\n",
       "      <td>66.662640</td>\n",
       "      <td>13.119785</td>\n",
       "      <td>0.009779</td>\n",
       "    </tr>\n",
       "    <tr>\n",
       "      <th>Email</th>\n",
       "      <th>Product Promotion</th>\n",
       "      <td>3347.105598</td>\n",
       "      <td>114289</td>\n",
       "      <td>14712.0</td>\n",
       "      <td>44</td>\n",
       "      <td>33.0</td>\n",
       "      <td>0.029286</td>\n",
       "      <td>0.227509</td>\n",
       "      <td>101.427442</td>\n",
       "      <td>12.872630</td>\n",
       "      <td>0.028874</td>\n",
       "    </tr>\n",
       "    <tr>\n",
       "      <th>SEO</th>\n",
       "      <th>Policy Information</th>\n",
       "      <td>1912.411772</td>\n",
       "      <td>134509</td>\n",
       "      <td>32081.0</td>\n",
       "      <td>46</td>\n",
       "      <td>12.0</td>\n",
       "      <td>0.014218</td>\n",
       "      <td>0.059612</td>\n",
       "      <td>159.367648</td>\n",
       "      <td>23.850449</td>\n",
       "      <td>0.008921</td>\n",
       "    </tr>\n",
       "    <tr>\n",
       "      <th>Social Media</th>\n",
       "      <th>Offer Announcement</th>\n",
       "      <td>2138.910275</td>\n",
       "      <td>334118</td>\n",
       "      <td>42355.0</td>\n",
       "      <td>33</td>\n",
       "      <td>11.0</td>\n",
       "      <td>0.006402</td>\n",
       "      <td>0.050500</td>\n",
       "      <td>194.446389</td>\n",
       "      <td>12.676659</td>\n",
       "      <td>0.003292</td>\n",
       "    </tr>\n",
       "    <tr>\n",
       "      <th>SEO</th>\n",
       "      <th>Health Tips</th>\n",
       "      <td>1155.327990</td>\n",
       "      <td>152130</td>\n",
       "      <td>14174.0</td>\n",
       "      <td>33</td>\n",
       "      <td>1.0</td>\n",
       "      <td>0.007594</td>\n",
       "      <td>0.081510</td>\n",
       "      <td>1155.327990</td>\n",
       "      <td>9.317031</td>\n",
       "      <td>0.000657</td>\n",
       "    </tr>\n",
       "    <tr>\n",
       "      <th rowspan=\"2\" valign=\"top\">Email</th>\n",
       "      <th>Covid Awareness</th>\n",
       "      <td>3171.410822</td>\n",
       "      <td>58764</td>\n",
       "      <td>8527.0</td>\n",
       "      <td>38</td>\n",
       "      <td>0.0</td>\n",
       "      <td>0.053969</td>\n",
       "      <td>0.371926</td>\n",
       "      <td>inf</td>\n",
       "      <td>14.510585</td>\n",
       "      <td>0.000000</td>\n",
       "    </tr>\n",
       "    <tr>\n",
       "      <th>Health Tips</th>\n",
       "      <td>359.111694</td>\n",
       "      <td>42630</td>\n",
       "      <td>2316.5</td>\n",
       "      <td>16</td>\n",
       "      <td>0.0</td>\n",
       "      <td>0.008424</td>\n",
       "      <td>0.155023</td>\n",
       "      <td>inf</td>\n",
       "      <td>5.433967</td>\n",
       "      <td>0.000000</td>\n",
       "    </tr>\n",
       "    <tr>\n",
       "      <th rowspan=\"3\" valign=\"top\">TV</th>\n",
       "      <th>Covid Awareness</th>\n",
       "      <td>873.187329</td>\n",
       "      <td>60940</td>\n",
       "      <td>0.0</td>\n",
       "      <td>24</td>\n",
       "      <td>0.0</td>\n",
       "      <td>0.014329</td>\n",
       "      <td>inf</td>\n",
       "      <td>inf</td>\n",
       "      <td>0.000000</td>\n",
       "      <td>0.000000</td>\n",
       "    </tr>\n",
       "    <tr>\n",
       "      <th>Health Awareness</th>\n",
       "      <td>1062.209448</td>\n",
       "      <td>29630</td>\n",
       "      <td>0.0</td>\n",
       "      <td>17</td>\n",
       "      <td>0.0</td>\n",
       "      <td>0.035849</td>\n",
       "      <td>inf</td>\n",
       "      <td>inf</td>\n",
       "      <td>0.000000</td>\n",
       "      <td>0.000000</td>\n",
       "    </tr>\n",
       "    <tr>\n",
       "      <th>Policy Information</th>\n",
       "      <td>1253.532835</td>\n",
       "      <td>20437</td>\n",
       "      <td>0.0</td>\n",
       "      <td>11</td>\n",
       "      <td>0.0</td>\n",
       "      <td>0.061336</td>\n",
       "      <td>inf</td>\n",
       "      <td>inf</td>\n",
       "      <td>0.000000</td>\n",
       "      <td>0.000000</td>\n",
       "    </tr>\n",
       "  </tbody>\n",
       "</table>\n",
       "</div>"
      ],
      "text/plain": [
       "                                          cost  impressions    clicks  \\\n",
       "platform     campaign_type                                              \n",
       "Social Media Product Promotion     2978.460558       833213   65095.0   \n",
       "Email        Health Awareness      3063.671400       310540   89959.0   \n",
       "Social Media Policy Information    2535.793508       593220   58195.0   \n",
       "SEO          Customer Testimonial  4389.367436       589766   44160.0   \n",
       "             Product Promotion     2654.454476       116890   25243.5   \n",
       "             Covid Awareness       6798.282804       914491   54274.5   \n",
       "Social Media Health Tips           3640.219468       524341   33907.5   \n",
       "Email        Customer Testimonial  1624.442464       428100   47330.0   \n",
       "TV           Product Promotion     1985.785262       498432       0.0   \n",
       "Email        Policy Information    5113.225610      1068155  175084.0   \n",
       "SEO          Health Awareness       394.641083       480790   34210.0   \n",
       "Social Media Customer Testimonial  2663.045090       493810   18240.0   \n",
       "SEO          Offer Announcement    3942.507148       800350   29349.0   \n",
       "Social Media Covid Awareness       3133.144076       480610   63055.0   \n",
       "Email        Product Promotion     3347.105598       114289   14712.0   \n",
       "SEO          Policy Information    1912.411772       134509   32081.0   \n",
       "Social Media Offer Announcement    2138.910275       334118   42355.0   \n",
       "SEO          Health Tips           1155.327990       152130   14174.0   \n",
       "Email        Covid Awareness       3171.410822        58764    8527.0   \n",
       "             Health Tips            359.111694        42630    2316.5   \n",
       "TV           Covid Awareness        873.187329        60940       0.0   \n",
       "             Health Awareness      1062.209448        29630       0.0   \n",
       "             Policy Information    1253.532835        20437       0.0   \n",
       "\n",
       "                                   days_run  num_signups  cost_per_impression  \\\n",
       "platform     campaign_type                                                      \n",
       "Social Media Product Promotion           88       3781.0             0.003575   \n",
       "Email        Health Awareness            56       3281.0             0.009866   \n",
       "Social Media Policy Information          53       2745.0             0.004275   \n",
       "SEO          Customer Testimonial        78       1588.0             0.007443   \n",
       "             Product Promotion           59       1273.0             0.022709   \n",
       "             Covid Awareness            134       1017.0             0.007434   \n",
       "Social Media Health Tips                 58        971.0             0.006942   \n",
       "Email        Customer Testimonial        48        586.0             0.003795   \n",
       "TV           Product Promotion           66        494.0             0.003984   \n",
       "Email        Policy Information         139        230.0             0.004787   \n",
       "SEO          Health Awareness            38        114.0             0.000821   \n",
       "Social Media Customer Testimonial        48         55.0             0.005393   \n",
       "SEO          Offer Announcement          94         50.0             0.004926   \n",
       "Social Media Covid Awareness             53         47.0             0.006519   \n",
       "Email        Product Promotion           44         33.0             0.029286   \n",
       "SEO          Policy Information          46         12.0             0.014218   \n",
       "Social Media Offer Announcement          33         11.0             0.006402   \n",
       "SEO          Health Tips                 33          1.0             0.007594   \n",
       "Email        Covid Awareness             38          0.0             0.053969   \n",
       "             Health Tips                 16          0.0             0.008424   \n",
       "TV           Covid Awareness             24          0.0             0.014329   \n",
       "             Health Awareness            17          0.0             0.035849   \n",
       "             Policy Information          11          0.0             0.061336   \n",
       "\n",
       "                                   cost_per_click  customer_acqisition_cost  \\\n",
       "platform     campaign_type                                                    \n",
       "Social Media Product Promotion           0.045756                  0.787744   \n",
       "Email        Health Awareness            0.034056                  0.933761   \n",
       "Social Media Policy Information          0.043574                  0.923786   \n",
       "SEO          Customer Testimonial        0.099397                  2.764085   \n",
       "             Product Promotion           0.105154                  2.085196   \n",
       "             Covid Awareness             0.125257                  6.684644   \n",
       "Social Media Health Tips                 0.107357                  3.748939   \n",
       "Email        Customer Testimonial        0.034322                  2.772086   \n",
       "TV           Product Promotion                inf                  4.019808   \n",
       "Email        Policy Information          0.029204                 22.231416   \n",
       "SEO          Health Awareness            0.011536                  3.461764   \n",
       "Social Media Customer Testimonial        0.146000                 48.419002   \n",
       "SEO          Offer Announcement          0.134332                 78.850143   \n",
       "Social Media Covid Awareness             0.049689                 66.662640   \n",
       "Email        Product Promotion           0.227509                101.427442   \n",
       "SEO          Policy Information          0.059612                159.367648   \n",
       "Social Media Offer Announcement          0.050500                194.446389   \n",
       "SEO          Health Tips                 0.081510               1155.327990   \n",
       "Email        Covid Awareness             0.371926                       inf   \n",
       "             Health Tips                 0.155023                       inf   \n",
       "TV           Covid Awareness                  inf                       inf   \n",
       "             Health Awareness                 inf                       inf   \n",
       "             Policy Information               inf                       inf   \n",
       "\n",
       "                                   click_through_rate  signup_rate  \n",
       "platform     campaign_type                                          \n",
       "Social Media Product Promotion               7.812528     0.453786  \n",
       "Email        Health Awareness               28.968571     1.056547  \n",
       "Social Media Policy Information              9.810020     0.462729  \n",
       "SEO          Customer Testimonial            7.487715     0.269259  \n",
       "             Product Promotion              21.595945     1.089058  \n",
       "             Covid Awareness                 5.934941     0.111209  \n",
       "Social Media Health Tips                     6.466689     0.185185  \n",
       "Email        Customer Testimonial           11.055828     0.136884  \n",
       "TV           Product Promotion               0.000000     0.099111  \n",
       "Email        Policy Information             16.391254     0.021532  \n",
       "SEO          Health Awareness                7.115373     0.023711  \n",
       "Social Media Customer Testimonial            3.693728     0.011138  \n",
       "SEO          Offer Announcement              3.667021     0.006247  \n",
       "Social Media Covid Awareness                13.119785     0.009779  \n",
       "Email        Product Promotion              12.872630     0.028874  \n",
       "SEO          Policy Information             23.850449     0.008921  \n",
       "Social Media Offer Announcement             12.676659     0.003292  \n",
       "SEO          Health Tips                     9.317031     0.000657  \n",
       "Email        Covid Awareness                14.510585     0.000000  \n",
       "             Health Tips                     5.433967     0.000000  \n",
       "TV           Covid Awareness                 0.000000     0.000000  \n",
       "             Health Awareness                0.000000     0.000000  \n",
       "             Policy Information              0.000000     0.000000  "
      ]
     },
     "execution_count": 47,
     "metadata": {},
     "output_type": "execute_result"
    }
   ],
   "source": [
    "df_plat_camp=df.groupby(['platform','campaign_type'])[df.select_dtypes(exclude=\"object\").columns].sum().sort_values(by=\"num_signups\",ascending=False)\n",
    "df_plat_camp = calculate_campign_metrics(df_plat_camp)\n",
    "df_plat_camp"
   ]
  },
  {
   "cell_type": "code",
   "execution_count": 48,
   "metadata": {},
   "outputs": [
    {
     "data": {
      "text/html": [
       "<div>\n",
       "<style scoped>\n",
       "    .dataframe tbody tr th:only-of-type {\n",
       "        vertical-align: middle;\n",
       "    }\n",
       "\n",
       "    .dataframe tbody tr th {\n",
       "        vertical-align: top;\n",
       "    }\n",
       "\n",
       "    .dataframe thead th {\n",
       "        text-align: right;\n",
       "    }\n",
       "</style>\n",
       "<table border=\"1\" class=\"dataframe\">\n",
       "  <thead>\n",
       "    <tr style=\"text-align: right;\">\n",
       "      <th></th>\n",
       "      <th>cost</th>\n",
       "      <th>impressions</th>\n",
       "      <th>clicks</th>\n",
       "      <th>num_signups</th>\n",
       "      <th>cost_per_impression</th>\n",
       "      <th>cost_per_click</th>\n",
       "      <th>customer_acqisition_cost</th>\n",
       "      <th>click_through_rate</th>\n",
       "      <th>signup_rate</th>\n",
       "    </tr>\n",
       "    <tr>\n",
       "      <th>campaign_type</th>\n",
       "      <th></th>\n",
       "      <th></th>\n",
       "      <th></th>\n",
       "      <th></th>\n",
       "      <th></th>\n",
       "      <th></th>\n",
       "      <th></th>\n",
       "      <th></th>\n",
       "      <th></th>\n",
       "    </tr>\n",
       "  </thead>\n",
       "  <tbody>\n",
       "    <tr>\n",
       "      <th>Health Awareness</th>\n",
       "      <td>4520.521931</td>\n",
       "      <td>820960</td>\n",
       "      <td>124169.0</td>\n",
       "      <td>3395.0</td>\n",
       "      <td>0.005506</td>\n",
       "      <td>0.036406</td>\n",
       "      <td>1.331523</td>\n",
       "      <td>15.124854</td>\n",
       "      <td>0.413540</td>\n",
       "    </tr>\n",
       "    <tr>\n",
       "      <th>Product Promotion</th>\n",
       "      <td>10965.805894</td>\n",
       "      <td>1562824</td>\n",
       "      <td>105050.5</td>\n",
       "      <td>5581.0</td>\n",
       "      <td>0.007017</td>\n",
       "      <td>0.104386</td>\n",
       "      <td>1.964846</td>\n",
       "      <td>6.721838</td>\n",
       "      <td>0.357110</td>\n",
       "    </tr>\n",
       "    <tr>\n",
       "      <th>Policy Information</th>\n",
       "      <td>10814.963725</td>\n",
       "      <td>1816321</td>\n",
       "      <td>265360.0</td>\n",
       "      <td>2987.0</td>\n",
       "      <td>0.005954</td>\n",
       "      <td>0.040756</td>\n",
       "      <td>3.620678</td>\n",
       "      <td>14.609752</td>\n",
       "      <td>0.164453</td>\n",
       "    </tr>\n",
       "    <tr>\n",
       "      <th>Customer Testimonial</th>\n",
       "      <td>8676.854990</td>\n",
       "      <td>1511676</td>\n",
       "      <td>109730.0</td>\n",
       "      <td>2229.0</td>\n",
       "      <td>0.005740</td>\n",
       "      <td>0.079075</td>\n",
       "      <td>3.892712</td>\n",
       "      <td>7.258831</td>\n",
       "      <td>0.147452</td>\n",
       "    </tr>\n",
       "    <tr>\n",
       "      <th>Health Tips</th>\n",
       "      <td>5154.659153</td>\n",
       "      <td>719101</td>\n",
       "      <td>50398.0</td>\n",
       "      <td>972.0</td>\n",
       "      <td>0.007168</td>\n",
       "      <td>0.102279</td>\n",
       "      <td>5.303147</td>\n",
       "      <td>7.008473</td>\n",
       "      <td>0.135169</td>\n",
       "    </tr>\n",
       "    <tr>\n",
       "      <th>Covid Awareness</th>\n",
       "      <td>13976.025031</td>\n",
       "      <td>1514805</td>\n",
       "      <td>125856.5</td>\n",
       "      <td>1064.0</td>\n",
       "      <td>0.009226</td>\n",
       "      <td>0.111047</td>\n",
       "      <td>13.135362</td>\n",
       "      <td>8.308429</td>\n",
       "      <td>0.070240</td>\n",
       "    </tr>\n",
       "    <tr>\n",
       "      <th>Offer Announcement</th>\n",
       "      <td>6081.417424</td>\n",
       "      <td>1134468</td>\n",
       "      <td>71704.0</td>\n",
       "      <td>61.0</td>\n",
       "      <td>0.005361</td>\n",
       "      <td>0.084813</td>\n",
       "      <td>99.695368</td>\n",
       "      <td>6.320496</td>\n",
       "      <td>0.005377</td>\n",
       "    </tr>\n",
       "  </tbody>\n",
       "</table>\n",
       "</div>"
      ],
      "text/plain": [
       "                              cost  impressions    clicks  num_signups  \\\n",
       "campaign_type                                                            \n",
       "Health Awareness       4520.521931       820960  124169.0       3395.0   \n",
       "Product Promotion     10965.805894      1562824  105050.5       5581.0   \n",
       "Policy Information    10814.963725      1816321  265360.0       2987.0   \n",
       "Customer Testimonial   8676.854990      1511676  109730.0       2229.0   \n",
       "Health Tips            5154.659153       719101   50398.0        972.0   \n",
       "Covid Awareness       13976.025031      1514805  125856.5       1064.0   \n",
       "Offer Announcement     6081.417424      1134468   71704.0         61.0   \n",
       "\n",
       "                      cost_per_impression  cost_per_click  \\\n",
       "campaign_type                                               \n",
       "Health Awareness                 0.005506        0.036406   \n",
       "Product Promotion                0.007017        0.104386   \n",
       "Policy Information               0.005954        0.040756   \n",
       "Customer Testimonial             0.005740        0.079075   \n",
       "Health Tips                      0.007168        0.102279   \n",
       "Covid Awareness                  0.009226        0.111047   \n",
       "Offer Announcement               0.005361        0.084813   \n",
       "\n",
       "                      customer_acqisition_cost  click_through_rate  \\\n",
       "campaign_type                                                        \n",
       "Health Awareness                      1.331523           15.124854   \n",
       "Product Promotion                     1.964846            6.721838   \n",
       "Policy Information                    3.620678           14.609752   \n",
       "Customer Testimonial                  3.892712            7.258831   \n",
       "Health Tips                           5.303147            7.008473   \n",
       "Covid Awareness                      13.135362            8.308429   \n",
       "Offer Announcement                   99.695368            6.320496   \n",
       "\n",
       "                      signup_rate  \n",
       "campaign_type                      \n",
       "Health Awareness         0.413540  \n",
       "Product Promotion        0.357110  \n",
       "Policy Information       0.164453  \n",
       "Customer Testimonial     0.147452  \n",
       "Health Tips              0.135169  \n",
       "Covid Awareness          0.070240  \n",
       "Offer Announcement       0.005377  "
      ]
     },
     "execution_count": 48,
     "metadata": {},
     "output_type": "execute_result"
    }
   ],
   "source": [
    "# df_campaign_type['signup_rate'] = (df_campaign_type['num_signups']/df_campaign_type['impressions'])*100\n",
    "df_campaign_type.sort_values(by=\"signup_rate\", ascending=False)"
   ]
  },
  {
   "cell_type": "code",
   "execution_count": 49,
   "metadata": {},
   "outputs": [
    {
     "data": {
      "text/html": [
       "<div>\n",
       "<style scoped>\n",
       "    .dataframe tbody tr th:only-of-type {\n",
       "        vertical-align: middle;\n",
       "    }\n",
       "\n",
       "    .dataframe tbody tr th {\n",
       "        vertical-align: top;\n",
       "    }\n",
       "\n",
       "    .dataframe thead th {\n",
       "        text-align: right;\n",
       "    }\n",
       "</style>\n",
       "<table border=\"1\" class=\"dataframe\">\n",
       "  <thead>\n",
       "    <tr style=\"text-align: right;\">\n",
       "      <th></th>\n",
       "      <th>platform</th>\n",
       "      <th>cost</th>\n",
       "      <th>impressions</th>\n",
       "      <th>clicks</th>\n",
       "      <th>num_signups</th>\n",
       "      <th>cost_per_impression</th>\n",
       "      <th>cost_per_click</th>\n",
       "      <th>customer_acqisition_cost</th>\n",
       "      <th>click_through_rate</th>\n",
       "      <th>signup_rate</th>\n",
       "    </tr>\n",
       "  </thead>\n",
       "  <tbody>\n",
       "    <tr>\n",
       "      <th>0</th>\n",
       "      <td>Social Media</td>\n",
       "      <td>17089.572975</td>\n",
       "      <td>3259312</td>\n",
       "      <td>280847.5</td>\n",
       "      <td>7610.0</td>\n",
       "      <td>0.005243</td>\n",
       "      <td>0.060850</td>\n",
       "      <td>2.245673</td>\n",
       "      <td>8.616772</td>\n",
       "      <td>0.233485</td>\n",
       "    </tr>\n",
       "    <tr>\n",
       "      <th>1</th>\n",
       "      <td>Email</td>\n",
       "      <td>16678.967588</td>\n",
       "      <td>2022478</td>\n",
       "      <td>337928.5</td>\n",
       "      <td>4130.0</td>\n",
       "      <td>0.008247</td>\n",
       "      <td>0.049356</td>\n",
       "      <td>4.038491</td>\n",
       "      <td>16.708637</td>\n",
       "      <td>0.204205</td>\n",
       "    </tr>\n",
       "    <tr>\n",
       "      <th>2</th>\n",
       "      <td>SEO</td>\n",
       "      <td>21246.992710</td>\n",
       "      <td>3188926</td>\n",
       "      <td>233492.0</td>\n",
       "      <td>4055.0</td>\n",
       "      <td>0.006663</td>\n",
       "      <td>0.090997</td>\n",
       "      <td>5.239702</td>\n",
       "      <td>7.321964</td>\n",
       "      <td>0.127159</td>\n",
       "    </tr>\n",
       "    <tr>\n",
       "      <th>3</th>\n",
       "      <td>TV</td>\n",
       "      <td>5174.714875</td>\n",
       "      <td>609439</td>\n",
       "      <td>0.0</td>\n",
       "      <td>494.0</td>\n",
       "      <td>0.008491</td>\n",
       "      <td>inf</td>\n",
       "      <td>10.475131</td>\n",
       "      <td>0.000000</td>\n",
       "      <td>0.081058</td>\n",
       "    </tr>\n",
       "  </tbody>\n",
       "</table>\n",
       "</div>"
      ],
      "text/plain": [
       "       platform          cost  impressions    clicks  num_signups  \\\n",
       "0  Social Media  17089.572975      3259312  280847.5       7610.0   \n",
       "1         Email  16678.967588      2022478  337928.5       4130.0   \n",
       "2           SEO  21246.992710      3188926  233492.0       4055.0   \n",
       "3            TV   5174.714875       609439       0.0        494.0   \n",
       "\n",
       "   cost_per_impression  cost_per_click  customer_acqisition_cost  \\\n",
       "0             0.005243        0.060850                  2.245673   \n",
       "1             0.008247        0.049356                  4.038491   \n",
       "2             0.006663        0.090997                  5.239702   \n",
       "3             0.008491             inf                 10.475131   \n",
       "\n",
       "   click_through_rate  signup_rate  \n",
       "0            8.616772     0.233485  \n",
       "1           16.708637     0.204205  \n",
       "2            7.321964     0.127159  \n",
       "3            0.000000     0.081058  "
      ]
     },
     "execution_count": 49,
     "metadata": {},
     "output_type": "execute_result"
    }
   ],
   "source": [
    "df_platform= df.groupby(['platform'])[columns].sum().sort_values(by=\"num_signups\", ascending=False)\n",
    "df_platform = calculate_campign_metrics(df_platform)\n",
    "df_platform.reset_index()"
   ]
  },
  {
   "cell_type": "markdown",
   "metadata": {},
   "source": [
    "#### As we can see in the above table, the highest signup rate is through social media platform with 0.23%, followed by Email with 0.20%. Although, signup rate is high in social media campaigning, CTR is very high for campaining through Email, also CPC is lowest of all with 0.049$. Hence to increase brand awareness we should consider reallocation of budget for platforms, we can also observe that signup rate is very low for campaining through TV and CAC is very high with 10.47$."
   ]
  },
  {
   "cell_type": "code",
   "execution_count": 50,
   "metadata": {},
   "outputs": [
    {
     "data": {
      "application/vnd.plotly.v1+json": {
       "config": {
        "plotlyServerURL": "https://plot.ly"
       },
       "data": [
        {
         "domain": {
          "x": [
           0,
           1
          ],
          "y": [
           0,
           1
          ]
         },
         "hovertemplate": "platform=%{label}<br>click_through_rate=%{value}<extra></extra>",
         "labels": [
          "Social Media",
          "Email",
          "SEO",
          "TV"
         ],
         "legendgroup": "",
         "name": "",
         "showlegend": true,
         "type": "pie",
         "values": [
          8.616772496772326,
          16.708636632883028,
          7.321963570180054,
          0
         ]
        }
       ],
       "layout": {
        "legend": {
         "tracegroupgap": 0
        },
        "template": {
         "data": {
          "bar": [
           {
            "error_x": {
             "color": "#2a3f5f"
            },
            "error_y": {
             "color": "#2a3f5f"
            },
            "marker": {
             "line": {
              "color": "#E5ECF6",
              "width": 0.5
             },
             "pattern": {
              "fillmode": "overlay",
              "size": 10,
              "solidity": 0.2
             }
            },
            "type": "bar"
           }
          ],
          "barpolar": [
           {
            "marker": {
             "line": {
              "color": "#E5ECF6",
              "width": 0.5
             },
             "pattern": {
              "fillmode": "overlay",
              "size": 10,
              "solidity": 0.2
             }
            },
            "type": "barpolar"
           }
          ],
          "carpet": [
           {
            "aaxis": {
             "endlinecolor": "#2a3f5f",
             "gridcolor": "white",
             "linecolor": "white",
             "minorgridcolor": "white",
             "startlinecolor": "#2a3f5f"
            },
            "baxis": {
             "endlinecolor": "#2a3f5f",
             "gridcolor": "white",
             "linecolor": "white",
             "minorgridcolor": "white",
             "startlinecolor": "#2a3f5f"
            },
            "type": "carpet"
           }
          ],
          "choropleth": [
           {
            "colorbar": {
             "outlinewidth": 0,
             "ticks": ""
            },
            "type": "choropleth"
           }
          ],
          "contour": [
           {
            "colorbar": {
             "outlinewidth": 0,
             "ticks": ""
            },
            "colorscale": [
             [
              0,
              "#0d0887"
             ],
             [
              0.1111111111111111,
              "#46039f"
             ],
             [
              0.2222222222222222,
              "#7201a8"
             ],
             [
              0.3333333333333333,
              "#9c179e"
             ],
             [
              0.4444444444444444,
              "#bd3786"
             ],
             [
              0.5555555555555556,
              "#d8576b"
             ],
             [
              0.6666666666666666,
              "#ed7953"
             ],
             [
              0.7777777777777778,
              "#fb9f3a"
             ],
             [
              0.8888888888888888,
              "#fdca26"
             ],
             [
              1,
              "#f0f921"
             ]
            ],
            "type": "contour"
           }
          ],
          "contourcarpet": [
           {
            "colorbar": {
             "outlinewidth": 0,
             "ticks": ""
            },
            "type": "contourcarpet"
           }
          ],
          "heatmap": [
           {
            "colorbar": {
             "outlinewidth": 0,
             "ticks": ""
            },
            "colorscale": [
             [
              0,
              "#0d0887"
             ],
             [
              0.1111111111111111,
              "#46039f"
             ],
             [
              0.2222222222222222,
              "#7201a8"
             ],
             [
              0.3333333333333333,
              "#9c179e"
             ],
             [
              0.4444444444444444,
              "#bd3786"
             ],
             [
              0.5555555555555556,
              "#d8576b"
             ],
             [
              0.6666666666666666,
              "#ed7953"
             ],
             [
              0.7777777777777778,
              "#fb9f3a"
             ],
             [
              0.8888888888888888,
              "#fdca26"
             ],
             [
              1,
              "#f0f921"
             ]
            ],
            "type": "heatmap"
           }
          ],
          "heatmapgl": [
           {
            "colorbar": {
             "outlinewidth": 0,
             "ticks": ""
            },
            "colorscale": [
             [
              0,
              "#0d0887"
             ],
             [
              0.1111111111111111,
              "#46039f"
             ],
             [
              0.2222222222222222,
              "#7201a8"
             ],
             [
              0.3333333333333333,
              "#9c179e"
             ],
             [
              0.4444444444444444,
              "#bd3786"
             ],
             [
              0.5555555555555556,
              "#d8576b"
             ],
             [
              0.6666666666666666,
              "#ed7953"
             ],
             [
              0.7777777777777778,
              "#fb9f3a"
             ],
             [
              0.8888888888888888,
              "#fdca26"
             ],
             [
              1,
              "#f0f921"
             ]
            ],
            "type": "heatmapgl"
           }
          ],
          "histogram": [
           {
            "marker": {
             "pattern": {
              "fillmode": "overlay",
              "size": 10,
              "solidity": 0.2
             }
            },
            "type": "histogram"
           }
          ],
          "histogram2d": [
           {
            "colorbar": {
             "outlinewidth": 0,
             "ticks": ""
            },
            "colorscale": [
             [
              0,
              "#0d0887"
             ],
             [
              0.1111111111111111,
              "#46039f"
             ],
             [
              0.2222222222222222,
              "#7201a8"
             ],
             [
              0.3333333333333333,
              "#9c179e"
             ],
             [
              0.4444444444444444,
              "#bd3786"
             ],
             [
              0.5555555555555556,
              "#d8576b"
             ],
             [
              0.6666666666666666,
              "#ed7953"
             ],
             [
              0.7777777777777778,
              "#fb9f3a"
             ],
             [
              0.8888888888888888,
              "#fdca26"
             ],
             [
              1,
              "#f0f921"
             ]
            ],
            "type": "histogram2d"
           }
          ],
          "histogram2dcontour": [
           {
            "colorbar": {
             "outlinewidth": 0,
             "ticks": ""
            },
            "colorscale": [
             [
              0,
              "#0d0887"
             ],
             [
              0.1111111111111111,
              "#46039f"
             ],
             [
              0.2222222222222222,
              "#7201a8"
             ],
             [
              0.3333333333333333,
              "#9c179e"
             ],
             [
              0.4444444444444444,
              "#bd3786"
             ],
             [
              0.5555555555555556,
              "#d8576b"
             ],
             [
              0.6666666666666666,
              "#ed7953"
             ],
             [
              0.7777777777777778,
              "#fb9f3a"
             ],
             [
              0.8888888888888888,
              "#fdca26"
             ],
             [
              1,
              "#f0f921"
             ]
            ],
            "type": "histogram2dcontour"
           }
          ],
          "mesh3d": [
           {
            "colorbar": {
             "outlinewidth": 0,
             "ticks": ""
            },
            "type": "mesh3d"
           }
          ],
          "parcoords": [
           {
            "line": {
             "colorbar": {
              "outlinewidth": 0,
              "ticks": ""
             }
            },
            "type": "parcoords"
           }
          ],
          "pie": [
           {
            "automargin": true,
            "type": "pie"
           }
          ],
          "scatter": [
           {
            "fillpattern": {
             "fillmode": "overlay",
             "size": 10,
             "solidity": 0.2
            },
            "type": "scatter"
           }
          ],
          "scatter3d": [
           {
            "line": {
             "colorbar": {
              "outlinewidth": 0,
              "ticks": ""
             }
            },
            "marker": {
             "colorbar": {
              "outlinewidth": 0,
              "ticks": ""
             }
            },
            "type": "scatter3d"
           }
          ],
          "scattercarpet": [
           {
            "marker": {
             "colorbar": {
              "outlinewidth": 0,
              "ticks": ""
             }
            },
            "type": "scattercarpet"
           }
          ],
          "scattergeo": [
           {
            "marker": {
             "colorbar": {
              "outlinewidth": 0,
              "ticks": ""
             }
            },
            "type": "scattergeo"
           }
          ],
          "scattergl": [
           {
            "marker": {
             "colorbar": {
              "outlinewidth": 0,
              "ticks": ""
             }
            },
            "type": "scattergl"
           }
          ],
          "scattermapbox": [
           {
            "marker": {
             "colorbar": {
              "outlinewidth": 0,
              "ticks": ""
             }
            },
            "type": "scattermapbox"
           }
          ],
          "scatterpolar": [
           {
            "marker": {
             "colorbar": {
              "outlinewidth": 0,
              "ticks": ""
             }
            },
            "type": "scatterpolar"
           }
          ],
          "scatterpolargl": [
           {
            "marker": {
             "colorbar": {
              "outlinewidth": 0,
              "ticks": ""
             }
            },
            "type": "scatterpolargl"
           }
          ],
          "scatterternary": [
           {
            "marker": {
             "colorbar": {
              "outlinewidth": 0,
              "ticks": ""
             }
            },
            "type": "scatterternary"
           }
          ],
          "surface": [
           {
            "colorbar": {
             "outlinewidth": 0,
             "ticks": ""
            },
            "colorscale": [
             [
              0,
              "#0d0887"
             ],
             [
              0.1111111111111111,
              "#46039f"
             ],
             [
              0.2222222222222222,
              "#7201a8"
             ],
             [
              0.3333333333333333,
              "#9c179e"
             ],
             [
              0.4444444444444444,
              "#bd3786"
             ],
             [
              0.5555555555555556,
              "#d8576b"
             ],
             [
              0.6666666666666666,
              "#ed7953"
             ],
             [
              0.7777777777777778,
              "#fb9f3a"
             ],
             [
              0.8888888888888888,
              "#fdca26"
             ],
             [
              1,
              "#f0f921"
             ]
            ],
            "type": "surface"
           }
          ],
          "table": [
           {
            "cells": {
             "fill": {
              "color": "#EBF0F8"
             },
             "line": {
              "color": "white"
             }
            },
            "header": {
             "fill": {
              "color": "#C8D4E3"
             },
             "line": {
              "color": "white"
             }
            },
            "type": "table"
           }
          ]
         },
         "layout": {
          "annotationdefaults": {
           "arrowcolor": "#2a3f5f",
           "arrowhead": 0,
           "arrowwidth": 1
          },
          "autotypenumbers": "strict",
          "coloraxis": {
           "colorbar": {
            "outlinewidth": 0,
            "ticks": ""
           }
          },
          "colorscale": {
           "diverging": [
            [
             0,
             "#8e0152"
            ],
            [
             0.1,
             "#c51b7d"
            ],
            [
             0.2,
             "#de77ae"
            ],
            [
             0.3,
             "#f1b6da"
            ],
            [
             0.4,
             "#fde0ef"
            ],
            [
             0.5,
             "#f7f7f7"
            ],
            [
             0.6,
             "#e6f5d0"
            ],
            [
             0.7,
             "#b8e186"
            ],
            [
             0.8,
             "#7fbc41"
            ],
            [
             0.9,
             "#4d9221"
            ],
            [
             1,
             "#276419"
            ]
           ],
           "sequential": [
            [
             0,
             "#0d0887"
            ],
            [
             0.1111111111111111,
             "#46039f"
            ],
            [
             0.2222222222222222,
             "#7201a8"
            ],
            [
             0.3333333333333333,
             "#9c179e"
            ],
            [
             0.4444444444444444,
             "#bd3786"
            ],
            [
             0.5555555555555556,
             "#d8576b"
            ],
            [
             0.6666666666666666,
             "#ed7953"
            ],
            [
             0.7777777777777778,
             "#fb9f3a"
            ],
            [
             0.8888888888888888,
             "#fdca26"
            ],
            [
             1,
             "#f0f921"
            ]
           ],
           "sequentialminus": [
            [
             0,
             "#0d0887"
            ],
            [
             0.1111111111111111,
             "#46039f"
            ],
            [
             0.2222222222222222,
             "#7201a8"
            ],
            [
             0.3333333333333333,
             "#9c179e"
            ],
            [
             0.4444444444444444,
             "#bd3786"
            ],
            [
             0.5555555555555556,
             "#d8576b"
            ],
            [
             0.6666666666666666,
             "#ed7953"
            ],
            [
             0.7777777777777778,
             "#fb9f3a"
            ],
            [
             0.8888888888888888,
             "#fdca26"
            ],
            [
             1,
             "#f0f921"
            ]
           ]
          },
          "colorway": [
           "#636efa",
           "#EF553B",
           "#00cc96",
           "#ab63fa",
           "#FFA15A",
           "#19d3f3",
           "#FF6692",
           "#B6E880",
           "#FF97FF",
           "#FECB52"
          ],
          "font": {
           "color": "#2a3f5f"
          },
          "geo": {
           "bgcolor": "white",
           "lakecolor": "white",
           "landcolor": "#E5ECF6",
           "showlakes": true,
           "showland": true,
           "subunitcolor": "white"
          },
          "hoverlabel": {
           "align": "left"
          },
          "hovermode": "closest",
          "mapbox": {
           "style": "light"
          },
          "paper_bgcolor": "white",
          "plot_bgcolor": "#E5ECF6",
          "polar": {
           "angularaxis": {
            "gridcolor": "white",
            "linecolor": "white",
            "ticks": ""
           },
           "bgcolor": "#E5ECF6",
           "radialaxis": {
            "gridcolor": "white",
            "linecolor": "white",
            "ticks": ""
           }
          },
          "scene": {
           "xaxis": {
            "backgroundcolor": "#E5ECF6",
            "gridcolor": "white",
            "gridwidth": 2,
            "linecolor": "white",
            "showbackground": true,
            "ticks": "",
            "zerolinecolor": "white"
           },
           "yaxis": {
            "backgroundcolor": "#E5ECF6",
            "gridcolor": "white",
            "gridwidth": 2,
            "linecolor": "white",
            "showbackground": true,
            "ticks": "",
            "zerolinecolor": "white"
           },
           "zaxis": {
            "backgroundcolor": "#E5ECF6",
            "gridcolor": "white",
            "gridwidth": 2,
            "linecolor": "white",
            "showbackground": true,
            "ticks": "",
            "zerolinecolor": "white"
           }
          },
          "shapedefaults": {
           "line": {
            "color": "#2a3f5f"
           }
          },
          "ternary": {
           "aaxis": {
            "gridcolor": "white",
            "linecolor": "white",
            "ticks": ""
           },
           "baxis": {
            "gridcolor": "white",
            "linecolor": "white",
            "ticks": ""
           },
           "bgcolor": "#E5ECF6",
           "caxis": {
            "gridcolor": "white",
            "linecolor": "white",
            "ticks": ""
           }
          },
          "title": {
           "x": 0.05
          },
          "xaxis": {
           "automargin": true,
           "gridcolor": "white",
           "linecolor": "white",
           "ticks": "",
           "title": {
            "standoff": 15
           },
           "zerolinecolor": "white",
           "zerolinewidth": 2
          },
          "yaxis": {
           "automargin": true,
           "gridcolor": "white",
           "linecolor": "white",
           "ticks": "",
           "title": {
            "standoff": 15
           },
           "zerolinecolor": "white",
           "zerolinewidth": 2
          }
         }
        },
        "title": {
         "text": "CTR thorugh different platforms"
        }
       }
      }
     },
     "metadata": {},
     "output_type": "display_data"
    }
   ],
   "source": [
    "# df_platform.reset_index()\n",
    "fig =px.pie(\n",
    "    data_frame=df_platform.reset_index(),\n",
    "    names=\"platform\",\n",
    "    values=\"click_through_rate\",\n",
    "    title=\"CTR thorugh different platforms\"\n",
    "    )\n",
    "fig.show()\n",
    "fig.write_html(\"C:/Users/karthikeya/health_tech_analytics/plots/CTR thorugh different platforms.html\")\n",
    "fig.write_image(\"C:/Users/karthikeya/health_tech_analytics/plots/CTR thorugh different platforms.jpeg\")"
   ]
  },
  {
   "cell_type": "code",
   "execution_count": 51,
   "metadata": {},
   "outputs": [
    {
     "data": {
      "text/html": [
       "<div>\n",
       "<style scoped>\n",
       "    .dataframe tbody tr th:only-of-type {\n",
       "        vertical-align: middle;\n",
       "    }\n",
       "\n",
       "    .dataframe tbody tr th {\n",
       "        vertical-align: top;\n",
       "    }\n",
       "\n",
       "    .dataframe thead th {\n",
       "        text-align: right;\n",
       "    }\n",
       "</style>\n",
       "<table border=\"1\" class=\"dataframe\">\n",
       "  <thead>\n",
       "    <tr style=\"text-align: right;\">\n",
       "      <th></th>\n",
       "      <th>platform</th>\n",
       "      <th>campaign_type</th>\n",
       "      <th>cost</th>\n",
       "      <th>impressions</th>\n",
       "      <th>clicks</th>\n",
       "      <th>num_signups</th>\n",
       "      <th>cost_per_impression</th>\n",
       "      <th>cost_per_click</th>\n",
       "      <th>customer_acqisition_cost</th>\n",
       "      <th>click_through_rate</th>\n",
       "      <th>signup_rate</th>\n",
       "    </tr>\n",
       "  </thead>\n",
       "  <tbody>\n",
       "    <tr>\n",
       "      <th>0</th>\n",
       "      <td>Email</td>\n",
       "      <td>Covid Awareness</td>\n",
       "      <td>3171.410822</td>\n",
       "      <td>58764</td>\n",
       "      <td>8527.0</td>\n",
       "      <td>0.0</td>\n",
       "      <td>0.053969</td>\n",
       "      <td>0.371926</td>\n",
       "      <td>inf</td>\n",
       "      <td>14.510585</td>\n",
       "      <td>0.000000</td>\n",
       "    </tr>\n",
       "    <tr>\n",
       "      <th>1</th>\n",
       "      <td>Email</td>\n",
       "      <td>Customer Testimonial</td>\n",
       "      <td>1624.442464</td>\n",
       "      <td>428100</td>\n",
       "      <td>47330.0</td>\n",
       "      <td>586.0</td>\n",
       "      <td>0.003795</td>\n",
       "      <td>0.034322</td>\n",
       "      <td>2.772086</td>\n",
       "      <td>11.055828</td>\n",
       "      <td>0.136884</td>\n",
       "    </tr>\n",
       "    <tr>\n",
       "      <th>2</th>\n",
       "      <td>Email</td>\n",
       "      <td>Health Awareness</td>\n",
       "      <td>3063.671400</td>\n",
       "      <td>310540</td>\n",
       "      <td>89959.0</td>\n",
       "      <td>3281.0</td>\n",
       "      <td>0.009866</td>\n",
       "      <td>0.034056</td>\n",
       "      <td>0.933761</td>\n",
       "      <td>28.968571</td>\n",
       "      <td>1.056547</td>\n",
       "    </tr>\n",
       "    <tr>\n",
       "      <th>3</th>\n",
       "      <td>Email</td>\n",
       "      <td>Health Tips</td>\n",
       "      <td>359.111694</td>\n",
       "      <td>42630</td>\n",
       "      <td>2316.5</td>\n",
       "      <td>0.0</td>\n",
       "      <td>0.008424</td>\n",
       "      <td>0.155023</td>\n",
       "      <td>inf</td>\n",
       "      <td>5.433967</td>\n",
       "      <td>0.000000</td>\n",
       "    </tr>\n",
       "    <tr>\n",
       "      <th>4</th>\n",
       "      <td>Email</td>\n",
       "      <td>Policy Information</td>\n",
       "      <td>5113.225610</td>\n",
       "      <td>1068155</td>\n",
       "      <td>175084.0</td>\n",
       "      <td>230.0</td>\n",
       "      <td>0.004787</td>\n",
       "      <td>0.029204</td>\n",
       "      <td>22.231416</td>\n",
       "      <td>16.391254</td>\n",
       "      <td>0.021532</td>\n",
       "    </tr>\n",
       "    <tr>\n",
       "      <th>5</th>\n",
       "      <td>Email</td>\n",
       "      <td>Product Promotion</td>\n",
       "      <td>3347.105598</td>\n",
       "      <td>114289</td>\n",
       "      <td>14712.0</td>\n",
       "      <td>33.0</td>\n",
       "      <td>0.029286</td>\n",
       "      <td>0.227509</td>\n",
       "      <td>101.427442</td>\n",
       "      <td>12.872630</td>\n",
       "      <td>0.028874</td>\n",
       "    </tr>\n",
       "  </tbody>\n",
       "</table>\n",
       "</div>"
      ],
      "text/plain": [
       "  platform         campaign_type         cost  impressions    clicks  \\\n",
       "0    Email       Covid Awareness  3171.410822        58764    8527.0   \n",
       "1    Email  Customer Testimonial  1624.442464       428100   47330.0   \n",
       "2    Email      Health Awareness  3063.671400       310540   89959.0   \n",
       "3    Email           Health Tips   359.111694        42630    2316.5   \n",
       "4    Email    Policy Information  5113.225610      1068155  175084.0   \n",
       "5    Email     Product Promotion  3347.105598       114289   14712.0   \n",
       "\n",
       "   num_signups  cost_per_impression  cost_per_click  customer_acqisition_cost  \\\n",
       "0          0.0             0.053969        0.371926                       inf   \n",
       "1        586.0             0.003795        0.034322                  2.772086   \n",
       "2       3281.0             0.009866        0.034056                  0.933761   \n",
       "3          0.0             0.008424        0.155023                       inf   \n",
       "4        230.0             0.004787        0.029204                 22.231416   \n",
       "5         33.0             0.029286        0.227509                101.427442   \n",
       "\n",
       "   click_through_rate  signup_rate  \n",
       "0           14.510585     0.000000  \n",
       "1           11.055828     0.136884  \n",
       "2           28.968571     1.056547  \n",
       "3            5.433967     0.000000  \n",
       "4           16.391254     0.021532  \n",
       "5           12.872630     0.028874  "
      ]
     },
     "execution_count": 51,
     "metadata": {},
     "output_type": "execute_result"
    }
   ],
   "source": [
    "df_campaign_plat_reset = df.groupby(['platform','campaign_type'])[columns].sum()\n",
    "df_campaign_plat_reset =df_campaign_plat_reset.reset_index()\n",
    "df_campaign_plat_reset =calculate_campign_metrics(df_campaign_plat_reset)\n",
    "df_campaign_plat_reset[df_campaign_plat_reset['platform']==\"Email\"]"
   ]
  },
  {
   "cell_type": "code",
   "execution_count": 64,
   "metadata": {},
   "outputs": [
    {
     "data": {
      "application/vnd.plotly.v1+json": {
       "config": {
        "plotlyServerURL": "https://plot.ly"
       },
       "data": [
        {
         "alignmentgroup": "True",
         "hovertemplate": "campaign_type=%{x}<br>signup_rate=%{y}<extra></extra>",
         "legendgroup": "",
         "marker": {
          "color": "#636efa",
          "pattern": {
           "shape": ""
          }
         },
         "name": "",
         "offsetgroup": "",
         "orientation": "v",
         "showlegend": false,
         "textposition": "auto",
         "type": "bar",
         "x": [
          "Covid Awareness",
          "Customer Testimonial",
          "Health Awareness",
          "Health Tips",
          "Policy Information",
          "Product Promotion"
         ],
         "xaxis": "x",
         "y": [
          0,
          0.13688390562952582,
          1.0565466606556322,
          0,
          0.02153245549569117,
          0.028874169867616307
         ],
         "yaxis": "y"
        }
       ],
       "layout": {
        "barmode": "relative",
        "legend": {
         "tracegroupgap": 0
        },
        "template": {
         "data": {
          "bar": [
           {
            "error_x": {
             "color": "#2a3f5f"
            },
            "error_y": {
             "color": "#2a3f5f"
            },
            "marker": {
             "line": {
              "color": "#E5ECF6",
              "width": 0.5
             },
             "pattern": {
              "fillmode": "overlay",
              "size": 10,
              "solidity": 0.2
             }
            },
            "type": "bar"
           }
          ],
          "barpolar": [
           {
            "marker": {
             "line": {
              "color": "#E5ECF6",
              "width": 0.5
             },
             "pattern": {
              "fillmode": "overlay",
              "size": 10,
              "solidity": 0.2
             }
            },
            "type": "barpolar"
           }
          ],
          "carpet": [
           {
            "aaxis": {
             "endlinecolor": "#2a3f5f",
             "gridcolor": "white",
             "linecolor": "white",
             "minorgridcolor": "white",
             "startlinecolor": "#2a3f5f"
            },
            "baxis": {
             "endlinecolor": "#2a3f5f",
             "gridcolor": "white",
             "linecolor": "white",
             "minorgridcolor": "white",
             "startlinecolor": "#2a3f5f"
            },
            "type": "carpet"
           }
          ],
          "choropleth": [
           {
            "colorbar": {
             "outlinewidth": 0,
             "ticks": ""
            },
            "type": "choropleth"
           }
          ],
          "contour": [
           {
            "colorbar": {
             "outlinewidth": 0,
             "ticks": ""
            },
            "colorscale": [
             [
              0,
              "#0d0887"
             ],
             [
              0.1111111111111111,
              "#46039f"
             ],
             [
              0.2222222222222222,
              "#7201a8"
             ],
             [
              0.3333333333333333,
              "#9c179e"
             ],
             [
              0.4444444444444444,
              "#bd3786"
             ],
             [
              0.5555555555555556,
              "#d8576b"
             ],
             [
              0.6666666666666666,
              "#ed7953"
             ],
             [
              0.7777777777777778,
              "#fb9f3a"
             ],
             [
              0.8888888888888888,
              "#fdca26"
             ],
             [
              1,
              "#f0f921"
             ]
            ],
            "type": "contour"
           }
          ],
          "contourcarpet": [
           {
            "colorbar": {
             "outlinewidth": 0,
             "ticks": ""
            },
            "type": "contourcarpet"
           }
          ],
          "heatmap": [
           {
            "colorbar": {
             "outlinewidth": 0,
             "ticks": ""
            },
            "colorscale": [
             [
              0,
              "#0d0887"
             ],
             [
              0.1111111111111111,
              "#46039f"
             ],
             [
              0.2222222222222222,
              "#7201a8"
             ],
             [
              0.3333333333333333,
              "#9c179e"
             ],
             [
              0.4444444444444444,
              "#bd3786"
             ],
             [
              0.5555555555555556,
              "#d8576b"
             ],
             [
              0.6666666666666666,
              "#ed7953"
             ],
             [
              0.7777777777777778,
              "#fb9f3a"
             ],
             [
              0.8888888888888888,
              "#fdca26"
             ],
             [
              1,
              "#f0f921"
             ]
            ],
            "type": "heatmap"
           }
          ],
          "heatmapgl": [
           {
            "colorbar": {
             "outlinewidth": 0,
             "ticks": ""
            },
            "colorscale": [
             [
              0,
              "#0d0887"
             ],
             [
              0.1111111111111111,
              "#46039f"
             ],
             [
              0.2222222222222222,
              "#7201a8"
             ],
             [
              0.3333333333333333,
              "#9c179e"
             ],
             [
              0.4444444444444444,
              "#bd3786"
             ],
             [
              0.5555555555555556,
              "#d8576b"
             ],
             [
              0.6666666666666666,
              "#ed7953"
             ],
             [
              0.7777777777777778,
              "#fb9f3a"
             ],
             [
              0.8888888888888888,
              "#fdca26"
             ],
             [
              1,
              "#f0f921"
             ]
            ],
            "type": "heatmapgl"
           }
          ],
          "histogram": [
           {
            "marker": {
             "pattern": {
              "fillmode": "overlay",
              "size": 10,
              "solidity": 0.2
             }
            },
            "type": "histogram"
           }
          ],
          "histogram2d": [
           {
            "colorbar": {
             "outlinewidth": 0,
             "ticks": ""
            },
            "colorscale": [
             [
              0,
              "#0d0887"
             ],
             [
              0.1111111111111111,
              "#46039f"
             ],
             [
              0.2222222222222222,
              "#7201a8"
             ],
             [
              0.3333333333333333,
              "#9c179e"
             ],
             [
              0.4444444444444444,
              "#bd3786"
             ],
             [
              0.5555555555555556,
              "#d8576b"
             ],
             [
              0.6666666666666666,
              "#ed7953"
             ],
             [
              0.7777777777777778,
              "#fb9f3a"
             ],
             [
              0.8888888888888888,
              "#fdca26"
             ],
             [
              1,
              "#f0f921"
             ]
            ],
            "type": "histogram2d"
           }
          ],
          "histogram2dcontour": [
           {
            "colorbar": {
             "outlinewidth": 0,
             "ticks": ""
            },
            "colorscale": [
             [
              0,
              "#0d0887"
             ],
             [
              0.1111111111111111,
              "#46039f"
             ],
             [
              0.2222222222222222,
              "#7201a8"
             ],
             [
              0.3333333333333333,
              "#9c179e"
             ],
             [
              0.4444444444444444,
              "#bd3786"
             ],
             [
              0.5555555555555556,
              "#d8576b"
             ],
             [
              0.6666666666666666,
              "#ed7953"
             ],
             [
              0.7777777777777778,
              "#fb9f3a"
             ],
             [
              0.8888888888888888,
              "#fdca26"
             ],
             [
              1,
              "#f0f921"
             ]
            ],
            "type": "histogram2dcontour"
           }
          ],
          "mesh3d": [
           {
            "colorbar": {
             "outlinewidth": 0,
             "ticks": ""
            },
            "type": "mesh3d"
           }
          ],
          "parcoords": [
           {
            "line": {
             "colorbar": {
              "outlinewidth": 0,
              "ticks": ""
             }
            },
            "type": "parcoords"
           }
          ],
          "pie": [
           {
            "automargin": true,
            "type": "pie"
           }
          ],
          "scatter": [
           {
            "fillpattern": {
             "fillmode": "overlay",
             "size": 10,
             "solidity": 0.2
            },
            "type": "scatter"
           }
          ],
          "scatter3d": [
           {
            "line": {
             "colorbar": {
              "outlinewidth": 0,
              "ticks": ""
             }
            },
            "marker": {
             "colorbar": {
              "outlinewidth": 0,
              "ticks": ""
             }
            },
            "type": "scatter3d"
           }
          ],
          "scattercarpet": [
           {
            "marker": {
             "colorbar": {
              "outlinewidth": 0,
              "ticks": ""
             }
            },
            "type": "scattercarpet"
           }
          ],
          "scattergeo": [
           {
            "marker": {
             "colorbar": {
              "outlinewidth": 0,
              "ticks": ""
             }
            },
            "type": "scattergeo"
           }
          ],
          "scattergl": [
           {
            "marker": {
             "colorbar": {
              "outlinewidth": 0,
              "ticks": ""
             }
            },
            "type": "scattergl"
           }
          ],
          "scattermapbox": [
           {
            "marker": {
             "colorbar": {
              "outlinewidth": 0,
              "ticks": ""
             }
            },
            "type": "scattermapbox"
           }
          ],
          "scatterpolar": [
           {
            "marker": {
             "colorbar": {
              "outlinewidth": 0,
              "ticks": ""
             }
            },
            "type": "scatterpolar"
           }
          ],
          "scatterpolargl": [
           {
            "marker": {
             "colorbar": {
              "outlinewidth": 0,
              "ticks": ""
             }
            },
            "type": "scatterpolargl"
           }
          ],
          "scatterternary": [
           {
            "marker": {
             "colorbar": {
              "outlinewidth": 0,
              "ticks": ""
             }
            },
            "type": "scatterternary"
           }
          ],
          "surface": [
           {
            "colorbar": {
             "outlinewidth": 0,
             "ticks": ""
            },
            "colorscale": [
             [
              0,
              "#0d0887"
             ],
             [
              0.1111111111111111,
              "#46039f"
             ],
             [
              0.2222222222222222,
              "#7201a8"
             ],
             [
              0.3333333333333333,
              "#9c179e"
             ],
             [
              0.4444444444444444,
              "#bd3786"
             ],
             [
              0.5555555555555556,
              "#d8576b"
             ],
             [
              0.6666666666666666,
              "#ed7953"
             ],
             [
              0.7777777777777778,
              "#fb9f3a"
             ],
             [
              0.8888888888888888,
              "#fdca26"
             ],
             [
              1,
              "#f0f921"
             ]
            ],
            "type": "surface"
           }
          ],
          "table": [
           {
            "cells": {
             "fill": {
              "color": "#EBF0F8"
             },
             "line": {
              "color": "white"
             }
            },
            "header": {
             "fill": {
              "color": "#C8D4E3"
             },
             "line": {
              "color": "white"
             }
            },
            "type": "table"
           }
          ]
         },
         "layout": {
          "annotationdefaults": {
           "arrowcolor": "#2a3f5f",
           "arrowhead": 0,
           "arrowwidth": 1
          },
          "autotypenumbers": "strict",
          "coloraxis": {
           "colorbar": {
            "outlinewidth": 0,
            "ticks": ""
           }
          },
          "colorscale": {
           "diverging": [
            [
             0,
             "#8e0152"
            ],
            [
             0.1,
             "#c51b7d"
            ],
            [
             0.2,
             "#de77ae"
            ],
            [
             0.3,
             "#f1b6da"
            ],
            [
             0.4,
             "#fde0ef"
            ],
            [
             0.5,
             "#f7f7f7"
            ],
            [
             0.6,
             "#e6f5d0"
            ],
            [
             0.7,
             "#b8e186"
            ],
            [
             0.8,
             "#7fbc41"
            ],
            [
             0.9,
             "#4d9221"
            ],
            [
             1,
             "#276419"
            ]
           ],
           "sequential": [
            [
             0,
             "#0d0887"
            ],
            [
             0.1111111111111111,
             "#46039f"
            ],
            [
             0.2222222222222222,
             "#7201a8"
            ],
            [
             0.3333333333333333,
             "#9c179e"
            ],
            [
             0.4444444444444444,
             "#bd3786"
            ],
            [
             0.5555555555555556,
             "#d8576b"
            ],
            [
             0.6666666666666666,
             "#ed7953"
            ],
            [
             0.7777777777777778,
             "#fb9f3a"
            ],
            [
             0.8888888888888888,
             "#fdca26"
            ],
            [
             1,
             "#f0f921"
            ]
           ],
           "sequentialminus": [
            [
             0,
             "#0d0887"
            ],
            [
             0.1111111111111111,
             "#46039f"
            ],
            [
             0.2222222222222222,
             "#7201a8"
            ],
            [
             0.3333333333333333,
             "#9c179e"
            ],
            [
             0.4444444444444444,
             "#bd3786"
            ],
            [
             0.5555555555555556,
             "#d8576b"
            ],
            [
             0.6666666666666666,
             "#ed7953"
            ],
            [
             0.7777777777777778,
             "#fb9f3a"
            ],
            [
             0.8888888888888888,
             "#fdca26"
            ],
            [
             1,
             "#f0f921"
            ]
           ]
          },
          "colorway": [
           "#636efa",
           "#EF553B",
           "#00cc96",
           "#ab63fa",
           "#FFA15A",
           "#19d3f3",
           "#FF6692",
           "#B6E880",
           "#FF97FF",
           "#FECB52"
          ],
          "font": {
           "color": "#2a3f5f"
          },
          "geo": {
           "bgcolor": "white",
           "lakecolor": "white",
           "landcolor": "#E5ECF6",
           "showlakes": true,
           "showland": true,
           "subunitcolor": "white"
          },
          "hoverlabel": {
           "align": "left"
          },
          "hovermode": "closest",
          "mapbox": {
           "style": "light"
          },
          "paper_bgcolor": "white",
          "plot_bgcolor": "#E5ECF6",
          "polar": {
           "angularaxis": {
            "gridcolor": "white",
            "linecolor": "white",
            "ticks": ""
           },
           "bgcolor": "#E5ECF6",
           "radialaxis": {
            "gridcolor": "white",
            "linecolor": "white",
            "ticks": ""
           }
          },
          "scene": {
           "xaxis": {
            "backgroundcolor": "#E5ECF6",
            "gridcolor": "white",
            "gridwidth": 2,
            "linecolor": "white",
            "showbackground": true,
            "ticks": "",
            "zerolinecolor": "white"
           },
           "yaxis": {
            "backgroundcolor": "#E5ECF6",
            "gridcolor": "white",
            "gridwidth": 2,
            "linecolor": "white",
            "showbackground": true,
            "ticks": "",
            "zerolinecolor": "white"
           },
           "zaxis": {
            "backgroundcolor": "#E5ECF6",
            "gridcolor": "white",
            "gridwidth": 2,
            "linecolor": "white",
            "showbackground": true,
            "ticks": "",
            "zerolinecolor": "white"
           }
          },
          "shapedefaults": {
           "line": {
            "color": "#2a3f5f"
           }
          },
          "ternary": {
           "aaxis": {
            "gridcolor": "white",
            "linecolor": "white",
            "ticks": ""
           },
           "baxis": {
            "gridcolor": "white",
            "linecolor": "white",
            "ticks": ""
           },
           "bgcolor": "#E5ECF6",
           "caxis": {
            "gridcolor": "white",
            "linecolor": "white",
            "ticks": ""
           }
          },
          "title": {
           "x": 0.05
          },
          "xaxis": {
           "automargin": true,
           "gridcolor": "white",
           "linecolor": "white",
           "ticks": "",
           "title": {
            "standoff": 15
           },
           "zerolinecolor": "white",
           "zerolinewidth": 2
          },
          "yaxis": {
           "automargin": true,
           "gridcolor": "white",
           "linecolor": "white",
           "ticks": "",
           "title": {
            "standoff": 15
           },
           "zerolinecolor": "white",
           "zerolinewidth": 2
          }
         }
        },
        "title": {
         "text": "Email campaign performance by campaign type with signup rate"
        },
        "xaxis": {
         "anchor": "y",
         "domain": [
          0,
          1
         ],
         "title": {
          "text": "campaign_type"
         }
        },
        "yaxis": {
         "anchor": "x",
         "domain": [
          0,
          1
         ],
         "title": {
          "text": "signup_rate"
         }
        }
       }
      }
     },
     "metadata": {},
     "output_type": "display_data"
    }
   ],
   "source": [
    "fig = px.bar(data_frame=df_campaign_plat_reset[df_campaign_plat_reset['platform']==\"Email\"],\n",
    "             x= 'campaign_type',\n",
    "             y='signup_rate',\n",
    "             title=\"Email campaign performance by campaign type with signup rate\")\n",
    "\n",
    "fig.show()\n",
    "fig.write_image(r'../plots/Email campaign performance by campaign type with signup rate.png')"
   ]
  },
  {
   "cell_type": "code",
   "execution_count": 53,
   "metadata": {},
   "outputs": [
    {
     "data": {
      "application/vnd.plotly.v1+json": {
       "config": {
        "plotlyServerURL": "https://plot.ly"
       },
       "data": [
        {
         "alignmentgroup": "True",
         "hovertemplate": "campaign_type=%{x}<br>click_through_rate=%{y}<extra></extra>",
         "legendgroup": "",
         "marker": {
          "color": "#636efa",
          "pattern": {
           "shape": ""
          }
         },
         "name": "",
         "offsetgroup": "",
         "orientation": "v",
         "showlegend": false,
         "textposition": "auto",
         "type": "bar",
         "x": [
          "Covid Awareness",
          "Customer Testimonial",
          "Health Awareness",
          "Health Tips",
          "Policy Information",
          "Product Promotion"
         ],
         "xaxis": "x",
         "y": [
          14.510584711728269,
          11.055828077551974,
          28.96857087653764,
          5.4339666901243255,
          16.39125407829388,
          12.872629911890032
         ],
         "yaxis": "y"
        }
       ],
       "layout": {
        "barmode": "relative",
        "legend": {
         "tracegroupgap": 0
        },
        "template": {
         "data": {
          "bar": [
           {
            "error_x": {
             "color": "#2a3f5f"
            },
            "error_y": {
             "color": "#2a3f5f"
            },
            "marker": {
             "line": {
              "color": "#E5ECF6",
              "width": 0.5
             },
             "pattern": {
              "fillmode": "overlay",
              "size": 10,
              "solidity": 0.2
             }
            },
            "type": "bar"
           }
          ],
          "barpolar": [
           {
            "marker": {
             "line": {
              "color": "#E5ECF6",
              "width": 0.5
             },
             "pattern": {
              "fillmode": "overlay",
              "size": 10,
              "solidity": 0.2
             }
            },
            "type": "barpolar"
           }
          ],
          "carpet": [
           {
            "aaxis": {
             "endlinecolor": "#2a3f5f",
             "gridcolor": "white",
             "linecolor": "white",
             "minorgridcolor": "white",
             "startlinecolor": "#2a3f5f"
            },
            "baxis": {
             "endlinecolor": "#2a3f5f",
             "gridcolor": "white",
             "linecolor": "white",
             "minorgridcolor": "white",
             "startlinecolor": "#2a3f5f"
            },
            "type": "carpet"
           }
          ],
          "choropleth": [
           {
            "colorbar": {
             "outlinewidth": 0,
             "ticks": ""
            },
            "type": "choropleth"
           }
          ],
          "contour": [
           {
            "colorbar": {
             "outlinewidth": 0,
             "ticks": ""
            },
            "colorscale": [
             [
              0,
              "#0d0887"
             ],
             [
              0.1111111111111111,
              "#46039f"
             ],
             [
              0.2222222222222222,
              "#7201a8"
             ],
             [
              0.3333333333333333,
              "#9c179e"
             ],
             [
              0.4444444444444444,
              "#bd3786"
             ],
             [
              0.5555555555555556,
              "#d8576b"
             ],
             [
              0.6666666666666666,
              "#ed7953"
             ],
             [
              0.7777777777777778,
              "#fb9f3a"
             ],
             [
              0.8888888888888888,
              "#fdca26"
             ],
             [
              1,
              "#f0f921"
             ]
            ],
            "type": "contour"
           }
          ],
          "contourcarpet": [
           {
            "colorbar": {
             "outlinewidth": 0,
             "ticks": ""
            },
            "type": "contourcarpet"
           }
          ],
          "heatmap": [
           {
            "colorbar": {
             "outlinewidth": 0,
             "ticks": ""
            },
            "colorscale": [
             [
              0,
              "#0d0887"
             ],
             [
              0.1111111111111111,
              "#46039f"
             ],
             [
              0.2222222222222222,
              "#7201a8"
             ],
             [
              0.3333333333333333,
              "#9c179e"
             ],
             [
              0.4444444444444444,
              "#bd3786"
             ],
             [
              0.5555555555555556,
              "#d8576b"
             ],
             [
              0.6666666666666666,
              "#ed7953"
             ],
             [
              0.7777777777777778,
              "#fb9f3a"
             ],
             [
              0.8888888888888888,
              "#fdca26"
             ],
             [
              1,
              "#f0f921"
             ]
            ],
            "type": "heatmap"
           }
          ],
          "heatmapgl": [
           {
            "colorbar": {
             "outlinewidth": 0,
             "ticks": ""
            },
            "colorscale": [
             [
              0,
              "#0d0887"
             ],
             [
              0.1111111111111111,
              "#46039f"
             ],
             [
              0.2222222222222222,
              "#7201a8"
             ],
             [
              0.3333333333333333,
              "#9c179e"
             ],
             [
              0.4444444444444444,
              "#bd3786"
             ],
             [
              0.5555555555555556,
              "#d8576b"
             ],
             [
              0.6666666666666666,
              "#ed7953"
             ],
             [
              0.7777777777777778,
              "#fb9f3a"
             ],
             [
              0.8888888888888888,
              "#fdca26"
             ],
             [
              1,
              "#f0f921"
             ]
            ],
            "type": "heatmapgl"
           }
          ],
          "histogram": [
           {
            "marker": {
             "pattern": {
              "fillmode": "overlay",
              "size": 10,
              "solidity": 0.2
             }
            },
            "type": "histogram"
           }
          ],
          "histogram2d": [
           {
            "colorbar": {
             "outlinewidth": 0,
             "ticks": ""
            },
            "colorscale": [
             [
              0,
              "#0d0887"
             ],
             [
              0.1111111111111111,
              "#46039f"
             ],
             [
              0.2222222222222222,
              "#7201a8"
             ],
             [
              0.3333333333333333,
              "#9c179e"
             ],
             [
              0.4444444444444444,
              "#bd3786"
             ],
             [
              0.5555555555555556,
              "#d8576b"
             ],
             [
              0.6666666666666666,
              "#ed7953"
             ],
             [
              0.7777777777777778,
              "#fb9f3a"
             ],
             [
              0.8888888888888888,
              "#fdca26"
             ],
             [
              1,
              "#f0f921"
             ]
            ],
            "type": "histogram2d"
           }
          ],
          "histogram2dcontour": [
           {
            "colorbar": {
             "outlinewidth": 0,
             "ticks": ""
            },
            "colorscale": [
             [
              0,
              "#0d0887"
             ],
             [
              0.1111111111111111,
              "#46039f"
             ],
             [
              0.2222222222222222,
              "#7201a8"
             ],
             [
              0.3333333333333333,
              "#9c179e"
             ],
             [
              0.4444444444444444,
              "#bd3786"
             ],
             [
              0.5555555555555556,
              "#d8576b"
             ],
             [
              0.6666666666666666,
              "#ed7953"
             ],
             [
              0.7777777777777778,
              "#fb9f3a"
             ],
             [
              0.8888888888888888,
              "#fdca26"
             ],
             [
              1,
              "#f0f921"
             ]
            ],
            "type": "histogram2dcontour"
           }
          ],
          "mesh3d": [
           {
            "colorbar": {
             "outlinewidth": 0,
             "ticks": ""
            },
            "type": "mesh3d"
           }
          ],
          "parcoords": [
           {
            "line": {
             "colorbar": {
              "outlinewidth": 0,
              "ticks": ""
             }
            },
            "type": "parcoords"
           }
          ],
          "pie": [
           {
            "automargin": true,
            "type": "pie"
           }
          ],
          "scatter": [
           {
            "fillpattern": {
             "fillmode": "overlay",
             "size": 10,
             "solidity": 0.2
            },
            "type": "scatter"
           }
          ],
          "scatter3d": [
           {
            "line": {
             "colorbar": {
              "outlinewidth": 0,
              "ticks": ""
             }
            },
            "marker": {
             "colorbar": {
              "outlinewidth": 0,
              "ticks": ""
             }
            },
            "type": "scatter3d"
           }
          ],
          "scattercarpet": [
           {
            "marker": {
             "colorbar": {
              "outlinewidth": 0,
              "ticks": ""
             }
            },
            "type": "scattercarpet"
           }
          ],
          "scattergeo": [
           {
            "marker": {
             "colorbar": {
              "outlinewidth": 0,
              "ticks": ""
             }
            },
            "type": "scattergeo"
           }
          ],
          "scattergl": [
           {
            "marker": {
             "colorbar": {
              "outlinewidth": 0,
              "ticks": ""
             }
            },
            "type": "scattergl"
           }
          ],
          "scattermapbox": [
           {
            "marker": {
             "colorbar": {
              "outlinewidth": 0,
              "ticks": ""
             }
            },
            "type": "scattermapbox"
           }
          ],
          "scatterpolar": [
           {
            "marker": {
             "colorbar": {
              "outlinewidth": 0,
              "ticks": ""
             }
            },
            "type": "scatterpolar"
           }
          ],
          "scatterpolargl": [
           {
            "marker": {
             "colorbar": {
              "outlinewidth": 0,
              "ticks": ""
             }
            },
            "type": "scatterpolargl"
           }
          ],
          "scatterternary": [
           {
            "marker": {
             "colorbar": {
              "outlinewidth": 0,
              "ticks": ""
             }
            },
            "type": "scatterternary"
           }
          ],
          "surface": [
           {
            "colorbar": {
             "outlinewidth": 0,
             "ticks": ""
            },
            "colorscale": [
             [
              0,
              "#0d0887"
             ],
             [
              0.1111111111111111,
              "#46039f"
             ],
             [
              0.2222222222222222,
              "#7201a8"
             ],
             [
              0.3333333333333333,
              "#9c179e"
             ],
             [
              0.4444444444444444,
              "#bd3786"
             ],
             [
              0.5555555555555556,
              "#d8576b"
             ],
             [
              0.6666666666666666,
              "#ed7953"
             ],
             [
              0.7777777777777778,
              "#fb9f3a"
             ],
             [
              0.8888888888888888,
              "#fdca26"
             ],
             [
              1,
              "#f0f921"
             ]
            ],
            "type": "surface"
           }
          ],
          "table": [
           {
            "cells": {
             "fill": {
              "color": "#EBF0F8"
             },
             "line": {
              "color": "white"
             }
            },
            "header": {
             "fill": {
              "color": "#C8D4E3"
             },
             "line": {
              "color": "white"
             }
            },
            "type": "table"
           }
          ]
         },
         "layout": {
          "annotationdefaults": {
           "arrowcolor": "#2a3f5f",
           "arrowhead": 0,
           "arrowwidth": 1
          },
          "autotypenumbers": "strict",
          "coloraxis": {
           "colorbar": {
            "outlinewidth": 0,
            "ticks": ""
           }
          },
          "colorscale": {
           "diverging": [
            [
             0,
             "#8e0152"
            ],
            [
             0.1,
             "#c51b7d"
            ],
            [
             0.2,
             "#de77ae"
            ],
            [
             0.3,
             "#f1b6da"
            ],
            [
             0.4,
             "#fde0ef"
            ],
            [
             0.5,
             "#f7f7f7"
            ],
            [
             0.6,
             "#e6f5d0"
            ],
            [
             0.7,
             "#b8e186"
            ],
            [
             0.8,
             "#7fbc41"
            ],
            [
             0.9,
             "#4d9221"
            ],
            [
             1,
             "#276419"
            ]
           ],
           "sequential": [
            [
             0,
             "#0d0887"
            ],
            [
             0.1111111111111111,
             "#46039f"
            ],
            [
             0.2222222222222222,
             "#7201a8"
            ],
            [
             0.3333333333333333,
             "#9c179e"
            ],
            [
             0.4444444444444444,
             "#bd3786"
            ],
            [
             0.5555555555555556,
             "#d8576b"
            ],
            [
             0.6666666666666666,
             "#ed7953"
            ],
            [
             0.7777777777777778,
             "#fb9f3a"
            ],
            [
             0.8888888888888888,
             "#fdca26"
            ],
            [
             1,
             "#f0f921"
            ]
           ],
           "sequentialminus": [
            [
             0,
             "#0d0887"
            ],
            [
             0.1111111111111111,
             "#46039f"
            ],
            [
             0.2222222222222222,
             "#7201a8"
            ],
            [
             0.3333333333333333,
             "#9c179e"
            ],
            [
             0.4444444444444444,
             "#bd3786"
            ],
            [
             0.5555555555555556,
             "#d8576b"
            ],
            [
             0.6666666666666666,
             "#ed7953"
            ],
            [
             0.7777777777777778,
             "#fb9f3a"
            ],
            [
             0.8888888888888888,
             "#fdca26"
            ],
            [
             1,
             "#f0f921"
            ]
           ]
          },
          "colorway": [
           "#636efa",
           "#EF553B",
           "#00cc96",
           "#ab63fa",
           "#FFA15A",
           "#19d3f3",
           "#FF6692",
           "#B6E880",
           "#FF97FF",
           "#FECB52"
          ],
          "font": {
           "color": "#2a3f5f"
          },
          "geo": {
           "bgcolor": "white",
           "lakecolor": "white",
           "landcolor": "#E5ECF6",
           "showlakes": true,
           "showland": true,
           "subunitcolor": "white"
          },
          "hoverlabel": {
           "align": "left"
          },
          "hovermode": "closest",
          "mapbox": {
           "style": "light"
          },
          "paper_bgcolor": "white",
          "plot_bgcolor": "#E5ECF6",
          "polar": {
           "angularaxis": {
            "gridcolor": "white",
            "linecolor": "white",
            "ticks": ""
           },
           "bgcolor": "#E5ECF6",
           "radialaxis": {
            "gridcolor": "white",
            "linecolor": "white",
            "ticks": ""
           }
          },
          "scene": {
           "xaxis": {
            "backgroundcolor": "#E5ECF6",
            "gridcolor": "white",
            "gridwidth": 2,
            "linecolor": "white",
            "showbackground": true,
            "ticks": "",
            "zerolinecolor": "white"
           },
           "yaxis": {
            "backgroundcolor": "#E5ECF6",
            "gridcolor": "white",
            "gridwidth": 2,
            "linecolor": "white",
            "showbackground": true,
            "ticks": "",
            "zerolinecolor": "white"
           },
           "zaxis": {
            "backgroundcolor": "#E5ECF6",
            "gridcolor": "white",
            "gridwidth": 2,
            "linecolor": "white",
            "showbackground": true,
            "ticks": "",
            "zerolinecolor": "white"
           }
          },
          "shapedefaults": {
           "line": {
            "color": "#2a3f5f"
           }
          },
          "ternary": {
           "aaxis": {
            "gridcolor": "white",
            "linecolor": "white",
            "ticks": ""
           },
           "baxis": {
            "gridcolor": "white",
            "linecolor": "white",
            "ticks": ""
           },
           "bgcolor": "#E5ECF6",
           "caxis": {
            "gridcolor": "white",
            "linecolor": "white",
            "ticks": ""
           }
          },
          "title": {
           "x": 0.05
          },
          "xaxis": {
           "automargin": true,
           "gridcolor": "white",
           "linecolor": "white",
           "ticks": "",
           "title": {
            "standoff": 15
           },
           "zerolinecolor": "white",
           "zerolinewidth": 2
          },
          "yaxis": {
           "automargin": true,
           "gridcolor": "white",
           "linecolor": "white",
           "ticks": "",
           "title": {
            "standoff": 15
           },
           "zerolinecolor": "white",
           "zerolinewidth": 2
          }
         }
        },
        "title": {
         "text": "Email campaign performance by campaign type with CTR"
        },
        "xaxis": {
         "anchor": "y",
         "domain": [
          0,
          1
         ],
         "title": {
          "text": "campaign_type"
         }
        },
        "yaxis": {
         "anchor": "x",
         "domain": [
          0,
          1
         ],
         "title": {
          "text": "click_through_rate"
         }
        }
       }
      }
     },
     "metadata": {},
     "output_type": "display_data"
    }
   ],
   "source": [
    "fig = px.bar(data_frame=df_campaign_plat_reset[df_campaign_plat_reset['platform']==\"Email\"],\n",
    "             x= 'campaign_type',\n",
    "             y='click_through_rate',\n",
    "             title=\"Email campaign performance by campaign type with CTR\")\n",
    "\n",
    "fig.show()\n",
    "fig.write_image(r'../plots/Email campaign performance by campaign type with CTR.png')"
   ]
  },
  {
   "cell_type": "code",
   "execution_count": 68,
   "metadata": {},
   "outputs": [
    {
     "data": {
      "application/vnd.plotly.v1+json": {
       "config": {
        "plotlyServerURL": "https://plot.ly"
       },
       "data": [
        {
         "name": "Email",
         "type": "bar",
         "x": [
          "Covid Awareness",
          "Customer Testimonial",
          "Health Awareness",
          "Health Tips",
          "Policy Information",
          "Product Promotion"
         ],
         "y": [
          0,
          0.13688390562952582,
          1.0565466606556322,
          0,
          0.02153245549569117,
          0.028874169867616307
         ]
        },
        {
         "name": "Social Media",
         "type": "bar",
         "x": [
          "Covid Awareness",
          "Customer Testimonial",
          "Health Tips",
          "Offer Announcement",
          "Policy Information",
          "Product Promotion"
         ],
         "y": [
          0.009779238883918354,
          0.011137887041574694,
          0.1851848320081779,
          0.0032922500433978418,
          0.4627288358450491,
          0.45378552663004534
         ]
        }
       ],
       "layout": {
        "barmode": "group",
        "template": {
         "data": {
          "bar": [
           {
            "error_x": {
             "color": "#2a3f5f"
            },
            "error_y": {
             "color": "#2a3f5f"
            },
            "marker": {
             "line": {
              "color": "#E5ECF6",
              "width": 0.5
             },
             "pattern": {
              "fillmode": "overlay",
              "size": 10,
              "solidity": 0.2
             }
            },
            "type": "bar"
           }
          ],
          "barpolar": [
           {
            "marker": {
             "line": {
              "color": "#E5ECF6",
              "width": 0.5
             },
             "pattern": {
              "fillmode": "overlay",
              "size": 10,
              "solidity": 0.2
             }
            },
            "type": "barpolar"
           }
          ],
          "carpet": [
           {
            "aaxis": {
             "endlinecolor": "#2a3f5f",
             "gridcolor": "white",
             "linecolor": "white",
             "minorgridcolor": "white",
             "startlinecolor": "#2a3f5f"
            },
            "baxis": {
             "endlinecolor": "#2a3f5f",
             "gridcolor": "white",
             "linecolor": "white",
             "minorgridcolor": "white",
             "startlinecolor": "#2a3f5f"
            },
            "type": "carpet"
           }
          ],
          "choropleth": [
           {
            "colorbar": {
             "outlinewidth": 0,
             "ticks": ""
            },
            "type": "choropleth"
           }
          ],
          "contour": [
           {
            "colorbar": {
             "outlinewidth": 0,
             "ticks": ""
            },
            "colorscale": [
             [
              0,
              "#0d0887"
             ],
             [
              0.1111111111111111,
              "#46039f"
             ],
             [
              0.2222222222222222,
              "#7201a8"
             ],
             [
              0.3333333333333333,
              "#9c179e"
             ],
             [
              0.4444444444444444,
              "#bd3786"
             ],
             [
              0.5555555555555556,
              "#d8576b"
             ],
             [
              0.6666666666666666,
              "#ed7953"
             ],
             [
              0.7777777777777778,
              "#fb9f3a"
             ],
             [
              0.8888888888888888,
              "#fdca26"
             ],
             [
              1,
              "#f0f921"
             ]
            ],
            "type": "contour"
           }
          ],
          "contourcarpet": [
           {
            "colorbar": {
             "outlinewidth": 0,
             "ticks": ""
            },
            "type": "contourcarpet"
           }
          ],
          "heatmap": [
           {
            "colorbar": {
             "outlinewidth": 0,
             "ticks": ""
            },
            "colorscale": [
             [
              0,
              "#0d0887"
             ],
             [
              0.1111111111111111,
              "#46039f"
             ],
             [
              0.2222222222222222,
              "#7201a8"
             ],
             [
              0.3333333333333333,
              "#9c179e"
             ],
             [
              0.4444444444444444,
              "#bd3786"
             ],
             [
              0.5555555555555556,
              "#d8576b"
             ],
             [
              0.6666666666666666,
              "#ed7953"
             ],
             [
              0.7777777777777778,
              "#fb9f3a"
             ],
             [
              0.8888888888888888,
              "#fdca26"
             ],
             [
              1,
              "#f0f921"
             ]
            ],
            "type": "heatmap"
           }
          ],
          "heatmapgl": [
           {
            "colorbar": {
             "outlinewidth": 0,
             "ticks": ""
            },
            "colorscale": [
             [
              0,
              "#0d0887"
             ],
             [
              0.1111111111111111,
              "#46039f"
             ],
             [
              0.2222222222222222,
              "#7201a8"
             ],
             [
              0.3333333333333333,
              "#9c179e"
             ],
             [
              0.4444444444444444,
              "#bd3786"
             ],
             [
              0.5555555555555556,
              "#d8576b"
             ],
             [
              0.6666666666666666,
              "#ed7953"
             ],
             [
              0.7777777777777778,
              "#fb9f3a"
             ],
             [
              0.8888888888888888,
              "#fdca26"
             ],
             [
              1,
              "#f0f921"
             ]
            ],
            "type": "heatmapgl"
           }
          ],
          "histogram": [
           {
            "marker": {
             "pattern": {
              "fillmode": "overlay",
              "size": 10,
              "solidity": 0.2
             }
            },
            "type": "histogram"
           }
          ],
          "histogram2d": [
           {
            "colorbar": {
             "outlinewidth": 0,
             "ticks": ""
            },
            "colorscale": [
             [
              0,
              "#0d0887"
             ],
             [
              0.1111111111111111,
              "#46039f"
             ],
             [
              0.2222222222222222,
              "#7201a8"
             ],
             [
              0.3333333333333333,
              "#9c179e"
             ],
             [
              0.4444444444444444,
              "#bd3786"
             ],
             [
              0.5555555555555556,
              "#d8576b"
             ],
             [
              0.6666666666666666,
              "#ed7953"
             ],
             [
              0.7777777777777778,
              "#fb9f3a"
             ],
             [
              0.8888888888888888,
              "#fdca26"
             ],
             [
              1,
              "#f0f921"
             ]
            ],
            "type": "histogram2d"
           }
          ],
          "histogram2dcontour": [
           {
            "colorbar": {
             "outlinewidth": 0,
             "ticks": ""
            },
            "colorscale": [
             [
              0,
              "#0d0887"
             ],
             [
              0.1111111111111111,
              "#46039f"
             ],
             [
              0.2222222222222222,
              "#7201a8"
             ],
             [
              0.3333333333333333,
              "#9c179e"
             ],
             [
              0.4444444444444444,
              "#bd3786"
             ],
             [
              0.5555555555555556,
              "#d8576b"
             ],
             [
              0.6666666666666666,
              "#ed7953"
             ],
             [
              0.7777777777777778,
              "#fb9f3a"
             ],
             [
              0.8888888888888888,
              "#fdca26"
             ],
             [
              1,
              "#f0f921"
             ]
            ],
            "type": "histogram2dcontour"
           }
          ],
          "mesh3d": [
           {
            "colorbar": {
             "outlinewidth": 0,
             "ticks": ""
            },
            "type": "mesh3d"
           }
          ],
          "parcoords": [
           {
            "line": {
             "colorbar": {
              "outlinewidth": 0,
              "ticks": ""
             }
            },
            "type": "parcoords"
           }
          ],
          "pie": [
           {
            "automargin": true,
            "type": "pie"
           }
          ],
          "scatter": [
           {
            "fillpattern": {
             "fillmode": "overlay",
             "size": 10,
             "solidity": 0.2
            },
            "type": "scatter"
           }
          ],
          "scatter3d": [
           {
            "line": {
             "colorbar": {
              "outlinewidth": 0,
              "ticks": ""
             }
            },
            "marker": {
             "colorbar": {
              "outlinewidth": 0,
              "ticks": ""
             }
            },
            "type": "scatter3d"
           }
          ],
          "scattercarpet": [
           {
            "marker": {
             "colorbar": {
              "outlinewidth": 0,
              "ticks": ""
             }
            },
            "type": "scattercarpet"
           }
          ],
          "scattergeo": [
           {
            "marker": {
             "colorbar": {
              "outlinewidth": 0,
              "ticks": ""
             }
            },
            "type": "scattergeo"
           }
          ],
          "scattergl": [
           {
            "marker": {
             "colorbar": {
              "outlinewidth": 0,
              "ticks": ""
             }
            },
            "type": "scattergl"
           }
          ],
          "scattermapbox": [
           {
            "marker": {
             "colorbar": {
              "outlinewidth": 0,
              "ticks": ""
             }
            },
            "type": "scattermapbox"
           }
          ],
          "scatterpolar": [
           {
            "marker": {
             "colorbar": {
              "outlinewidth": 0,
              "ticks": ""
             }
            },
            "type": "scatterpolar"
           }
          ],
          "scatterpolargl": [
           {
            "marker": {
             "colorbar": {
              "outlinewidth": 0,
              "ticks": ""
             }
            },
            "type": "scatterpolargl"
           }
          ],
          "scatterternary": [
           {
            "marker": {
             "colorbar": {
              "outlinewidth": 0,
              "ticks": ""
             }
            },
            "type": "scatterternary"
           }
          ],
          "surface": [
           {
            "colorbar": {
             "outlinewidth": 0,
             "ticks": ""
            },
            "colorscale": [
             [
              0,
              "#0d0887"
             ],
             [
              0.1111111111111111,
              "#46039f"
             ],
             [
              0.2222222222222222,
              "#7201a8"
             ],
             [
              0.3333333333333333,
              "#9c179e"
             ],
             [
              0.4444444444444444,
              "#bd3786"
             ],
             [
              0.5555555555555556,
              "#d8576b"
             ],
             [
              0.6666666666666666,
              "#ed7953"
             ],
             [
              0.7777777777777778,
              "#fb9f3a"
             ],
             [
              0.8888888888888888,
              "#fdca26"
             ],
             [
              1,
              "#f0f921"
             ]
            ],
            "type": "surface"
           }
          ],
          "table": [
           {
            "cells": {
             "fill": {
              "color": "#EBF0F8"
             },
             "line": {
              "color": "white"
             }
            },
            "header": {
             "fill": {
              "color": "#C8D4E3"
             },
             "line": {
              "color": "white"
             }
            },
            "type": "table"
           }
          ]
         },
         "layout": {
          "annotationdefaults": {
           "arrowcolor": "#2a3f5f",
           "arrowhead": 0,
           "arrowwidth": 1
          },
          "autotypenumbers": "strict",
          "coloraxis": {
           "colorbar": {
            "outlinewidth": 0,
            "ticks": ""
           }
          },
          "colorscale": {
           "diverging": [
            [
             0,
             "#8e0152"
            ],
            [
             0.1,
             "#c51b7d"
            ],
            [
             0.2,
             "#de77ae"
            ],
            [
             0.3,
             "#f1b6da"
            ],
            [
             0.4,
             "#fde0ef"
            ],
            [
             0.5,
             "#f7f7f7"
            ],
            [
             0.6,
             "#e6f5d0"
            ],
            [
             0.7,
             "#b8e186"
            ],
            [
             0.8,
             "#7fbc41"
            ],
            [
             0.9,
             "#4d9221"
            ],
            [
             1,
             "#276419"
            ]
           ],
           "sequential": [
            [
             0,
             "#0d0887"
            ],
            [
             0.1111111111111111,
             "#46039f"
            ],
            [
             0.2222222222222222,
             "#7201a8"
            ],
            [
             0.3333333333333333,
             "#9c179e"
            ],
            [
             0.4444444444444444,
             "#bd3786"
            ],
            [
             0.5555555555555556,
             "#d8576b"
            ],
            [
             0.6666666666666666,
             "#ed7953"
            ],
            [
             0.7777777777777778,
             "#fb9f3a"
            ],
            [
             0.8888888888888888,
             "#fdca26"
            ],
            [
             1,
             "#f0f921"
            ]
           ],
           "sequentialminus": [
            [
             0,
             "#0d0887"
            ],
            [
             0.1111111111111111,
             "#46039f"
            ],
            [
             0.2222222222222222,
             "#7201a8"
            ],
            [
             0.3333333333333333,
             "#9c179e"
            ],
            [
             0.4444444444444444,
             "#bd3786"
            ],
            [
             0.5555555555555556,
             "#d8576b"
            ],
            [
             0.6666666666666666,
             "#ed7953"
            ],
            [
             0.7777777777777778,
             "#fb9f3a"
            ],
            [
             0.8888888888888888,
             "#fdca26"
            ],
            [
             1,
             "#f0f921"
            ]
           ]
          },
          "colorway": [
           "#636efa",
           "#EF553B",
           "#00cc96",
           "#ab63fa",
           "#FFA15A",
           "#19d3f3",
           "#FF6692",
           "#B6E880",
           "#FF97FF",
           "#FECB52"
          ],
          "font": {
           "color": "#2a3f5f"
          },
          "geo": {
           "bgcolor": "white",
           "lakecolor": "white",
           "landcolor": "#E5ECF6",
           "showlakes": true,
           "showland": true,
           "subunitcolor": "white"
          },
          "hoverlabel": {
           "align": "left"
          },
          "hovermode": "closest",
          "mapbox": {
           "style": "light"
          },
          "paper_bgcolor": "white",
          "plot_bgcolor": "#E5ECF6",
          "polar": {
           "angularaxis": {
            "gridcolor": "white",
            "linecolor": "white",
            "ticks": ""
           },
           "bgcolor": "#E5ECF6",
           "radialaxis": {
            "gridcolor": "white",
            "linecolor": "white",
            "ticks": ""
           }
          },
          "scene": {
           "xaxis": {
            "backgroundcolor": "#E5ECF6",
            "gridcolor": "white",
            "gridwidth": 2,
            "linecolor": "white",
            "showbackground": true,
            "ticks": "",
            "zerolinecolor": "white"
           },
           "yaxis": {
            "backgroundcolor": "#E5ECF6",
            "gridcolor": "white",
            "gridwidth": 2,
            "linecolor": "white",
            "showbackground": true,
            "ticks": "",
            "zerolinecolor": "white"
           },
           "zaxis": {
            "backgroundcolor": "#E5ECF6",
            "gridcolor": "white",
            "gridwidth": 2,
            "linecolor": "white",
            "showbackground": true,
            "ticks": "",
            "zerolinecolor": "white"
           }
          },
          "shapedefaults": {
           "line": {
            "color": "#2a3f5f"
           }
          },
          "ternary": {
           "aaxis": {
            "gridcolor": "white",
            "linecolor": "white",
            "ticks": ""
           },
           "baxis": {
            "gridcolor": "white",
            "linecolor": "white",
            "ticks": ""
           },
           "bgcolor": "#E5ECF6",
           "caxis": {
            "gridcolor": "white",
            "linecolor": "white",
            "ticks": ""
           }
          },
          "title": {
           "x": 0.05
          },
          "xaxis": {
           "automargin": true,
           "gridcolor": "white",
           "linecolor": "white",
           "ticks": "",
           "title": {
            "standoff": 15
           },
           "zerolinecolor": "white",
           "zerolinewidth": 2
          },
          "yaxis": {
           "automargin": true,
           "gridcolor": "white",
           "linecolor": "white",
           "ticks": "",
           "title": {
            "standoff": 15
           },
           "zerolinecolor": "white",
           "zerolinewidth": 2
          }
         }
        },
        "title": {
         "text": "EEmail and Social Media channels campaign performance by campaign type combined"
        },
        "xaxis": {
         "title": {
          "text": "Campaign Type"
         }
        },
        "yaxis": {
         "title": {
          "text": "Rate"
         }
        }
       }
      }
     },
     "metadata": {},
     "output_type": "display_data"
    }
   ],
   "source": [
    "import plotly.graph_objects as go\n",
    "\n",
    "# Filter the data for Email platform\n",
    "df_email = df_campaign_plat_reset[df_campaign_plat_reset['platform'] == \"Email\"]\n",
    "df_sm = df_campaign_plat_reset[df_campaign_plat_reset['platform'] == \"Social Media\"]\n",
    "\n",
    "# Create a bar chart with signup_rate\n",
    "fig = go.Figure(data=[\n",
    "    go.Bar(name='Email', x=df_email['campaign_type'], y=df_email['signup_rate']),\n",
    "    go.Bar(name='Social Media', x=df_sm['campaign_type'], y=df_sm['signup_rate'])\n",
    "])\n",
    "\n",
    "# Update the layout\n",
    "fig.update_layout(\n",
    "    title='EEmail and Social Media channels campaign performance by campaign type combined',\n",
    "    xaxis_title='Campaign Type',\n",
    "    yaxis_title='Signup Rate',\n",
    "    barmode='group'\n",
    ")\n",
    "\n",
    "fig.show()\n",
    "fig.write_image(r'../plots/Email and Social Media channels campaign performance by campaign type combined.png')"
   ]
  },
  {
   "cell_type": "markdown",
   "metadata": {},
   "source": [
    "### As we saw in the previous table, highest CTR is for campaigns through Email, further if we cateogrise platform type and campagin type, with previous knowledge in mind, in Email campaigns Health Awareness campaign is very effective with signup rate of 1.05% also has the lowest CAC with 0.933$ and highest CTR with 28.96%. Covid awareness and Health Tips campagins seems to be ineffctive and costing us about ~3550$ approx. Hence it is wise to consider the allocation of budgets in Email campaigning keeping in mind this suggestion is for customer acquisition.  For covid awareness campaign, CTR is next to the Policy Information campaign with 14.51% in the third position."
   ]
  },
  {
   "cell_type": "code",
   "execution_count": 54,
   "metadata": {},
   "outputs": [
    {
     "data": {
      "application/vnd.plotly.v1+json": {
       "config": {
        "plotlyServerURL": "https://plot.ly"
       },
       "data": [
        {
         "domain": {
          "x": [
           0,
           1
          ],
          "y": [
           0,
           1
          ]
         },
         "hovertemplate": "campaign_type=%{label}<br>click_through_rate=%{value}<extra></extra>",
         "labels": [
          "Covid Awareness",
          "Customer Testimonial",
          "Health Awareness",
          "Health Tips",
          "Policy Information",
          "Product Promotion"
         ],
         "legendgroup": "",
         "name": "",
         "showlegend": true,
         "type": "pie",
         "values": [
          14.510584711728269,
          11.055828077551974,
          28.96857087653764,
          5.4339666901243255,
          16.39125407829388,
          12.872629911890032
         ]
        }
       ],
       "layout": {
        "legend": {
         "tracegroupgap": 0
        },
        "template": {
         "data": {
          "bar": [
           {
            "error_x": {
             "color": "#2a3f5f"
            },
            "error_y": {
             "color": "#2a3f5f"
            },
            "marker": {
             "line": {
              "color": "#E5ECF6",
              "width": 0.5
             },
             "pattern": {
              "fillmode": "overlay",
              "size": 10,
              "solidity": 0.2
             }
            },
            "type": "bar"
           }
          ],
          "barpolar": [
           {
            "marker": {
             "line": {
              "color": "#E5ECF6",
              "width": 0.5
             },
             "pattern": {
              "fillmode": "overlay",
              "size": 10,
              "solidity": 0.2
             }
            },
            "type": "barpolar"
           }
          ],
          "carpet": [
           {
            "aaxis": {
             "endlinecolor": "#2a3f5f",
             "gridcolor": "white",
             "linecolor": "white",
             "minorgridcolor": "white",
             "startlinecolor": "#2a3f5f"
            },
            "baxis": {
             "endlinecolor": "#2a3f5f",
             "gridcolor": "white",
             "linecolor": "white",
             "minorgridcolor": "white",
             "startlinecolor": "#2a3f5f"
            },
            "type": "carpet"
           }
          ],
          "choropleth": [
           {
            "colorbar": {
             "outlinewidth": 0,
             "ticks": ""
            },
            "type": "choropleth"
           }
          ],
          "contour": [
           {
            "colorbar": {
             "outlinewidth": 0,
             "ticks": ""
            },
            "colorscale": [
             [
              0,
              "#0d0887"
             ],
             [
              0.1111111111111111,
              "#46039f"
             ],
             [
              0.2222222222222222,
              "#7201a8"
             ],
             [
              0.3333333333333333,
              "#9c179e"
             ],
             [
              0.4444444444444444,
              "#bd3786"
             ],
             [
              0.5555555555555556,
              "#d8576b"
             ],
             [
              0.6666666666666666,
              "#ed7953"
             ],
             [
              0.7777777777777778,
              "#fb9f3a"
             ],
             [
              0.8888888888888888,
              "#fdca26"
             ],
             [
              1,
              "#f0f921"
             ]
            ],
            "type": "contour"
           }
          ],
          "contourcarpet": [
           {
            "colorbar": {
             "outlinewidth": 0,
             "ticks": ""
            },
            "type": "contourcarpet"
           }
          ],
          "heatmap": [
           {
            "colorbar": {
             "outlinewidth": 0,
             "ticks": ""
            },
            "colorscale": [
             [
              0,
              "#0d0887"
             ],
             [
              0.1111111111111111,
              "#46039f"
             ],
             [
              0.2222222222222222,
              "#7201a8"
             ],
             [
              0.3333333333333333,
              "#9c179e"
             ],
             [
              0.4444444444444444,
              "#bd3786"
             ],
             [
              0.5555555555555556,
              "#d8576b"
             ],
             [
              0.6666666666666666,
              "#ed7953"
             ],
             [
              0.7777777777777778,
              "#fb9f3a"
             ],
             [
              0.8888888888888888,
              "#fdca26"
             ],
             [
              1,
              "#f0f921"
             ]
            ],
            "type": "heatmap"
           }
          ],
          "heatmapgl": [
           {
            "colorbar": {
             "outlinewidth": 0,
             "ticks": ""
            },
            "colorscale": [
             [
              0,
              "#0d0887"
             ],
             [
              0.1111111111111111,
              "#46039f"
             ],
             [
              0.2222222222222222,
              "#7201a8"
             ],
             [
              0.3333333333333333,
              "#9c179e"
             ],
             [
              0.4444444444444444,
              "#bd3786"
             ],
             [
              0.5555555555555556,
              "#d8576b"
             ],
             [
              0.6666666666666666,
              "#ed7953"
             ],
             [
              0.7777777777777778,
              "#fb9f3a"
             ],
             [
              0.8888888888888888,
              "#fdca26"
             ],
             [
              1,
              "#f0f921"
             ]
            ],
            "type": "heatmapgl"
           }
          ],
          "histogram": [
           {
            "marker": {
             "pattern": {
              "fillmode": "overlay",
              "size": 10,
              "solidity": 0.2
             }
            },
            "type": "histogram"
           }
          ],
          "histogram2d": [
           {
            "colorbar": {
             "outlinewidth": 0,
             "ticks": ""
            },
            "colorscale": [
             [
              0,
              "#0d0887"
             ],
             [
              0.1111111111111111,
              "#46039f"
             ],
             [
              0.2222222222222222,
              "#7201a8"
             ],
             [
              0.3333333333333333,
              "#9c179e"
             ],
             [
              0.4444444444444444,
              "#bd3786"
             ],
             [
              0.5555555555555556,
              "#d8576b"
             ],
             [
              0.6666666666666666,
              "#ed7953"
             ],
             [
              0.7777777777777778,
              "#fb9f3a"
             ],
             [
              0.8888888888888888,
              "#fdca26"
             ],
             [
              1,
              "#f0f921"
             ]
            ],
            "type": "histogram2d"
           }
          ],
          "histogram2dcontour": [
           {
            "colorbar": {
             "outlinewidth": 0,
             "ticks": ""
            },
            "colorscale": [
             [
              0,
              "#0d0887"
             ],
             [
              0.1111111111111111,
              "#46039f"
             ],
             [
              0.2222222222222222,
              "#7201a8"
             ],
             [
              0.3333333333333333,
              "#9c179e"
             ],
             [
              0.4444444444444444,
              "#bd3786"
             ],
             [
              0.5555555555555556,
              "#d8576b"
             ],
             [
              0.6666666666666666,
              "#ed7953"
             ],
             [
              0.7777777777777778,
              "#fb9f3a"
             ],
             [
              0.8888888888888888,
              "#fdca26"
             ],
             [
              1,
              "#f0f921"
             ]
            ],
            "type": "histogram2dcontour"
           }
          ],
          "mesh3d": [
           {
            "colorbar": {
             "outlinewidth": 0,
             "ticks": ""
            },
            "type": "mesh3d"
           }
          ],
          "parcoords": [
           {
            "line": {
             "colorbar": {
              "outlinewidth": 0,
              "ticks": ""
             }
            },
            "type": "parcoords"
           }
          ],
          "pie": [
           {
            "automargin": true,
            "type": "pie"
           }
          ],
          "scatter": [
           {
            "fillpattern": {
             "fillmode": "overlay",
             "size": 10,
             "solidity": 0.2
            },
            "type": "scatter"
           }
          ],
          "scatter3d": [
           {
            "line": {
             "colorbar": {
              "outlinewidth": 0,
              "ticks": ""
             }
            },
            "marker": {
             "colorbar": {
              "outlinewidth": 0,
              "ticks": ""
             }
            },
            "type": "scatter3d"
           }
          ],
          "scattercarpet": [
           {
            "marker": {
             "colorbar": {
              "outlinewidth": 0,
              "ticks": ""
             }
            },
            "type": "scattercarpet"
           }
          ],
          "scattergeo": [
           {
            "marker": {
             "colorbar": {
              "outlinewidth": 0,
              "ticks": ""
             }
            },
            "type": "scattergeo"
           }
          ],
          "scattergl": [
           {
            "marker": {
             "colorbar": {
              "outlinewidth": 0,
              "ticks": ""
             }
            },
            "type": "scattergl"
           }
          ],
          "scattermapbox": [
           {
            "marker": {
             "colorbar": {
              "outlinewidth": 0,
              "ticks": ""
             }
            },
            "type": "scattermapbox"
           }
          ],
          "scatterpolar": [
           {
            "marker": {
             "colorbar": {
              "outlinewidth": 0,
              "ticks": ""
             }
            },
            "type": "scatterpolar"
           }
          ],
          "scatterpolargl": [
           {
            "marker": {
             "colorbar": {
              "outlinewidth": 0,
              "ticks": ""
             }
            },
            "type": "scatterpolargl"
           }
          ],
          "scatterternary": [
           {
            "marker": {
             "colorbar": {
              "outlinewidth": 0,
              "ticks": ""
             }
            },
            "type": "scatterternary"
           }
          ],
          "surface": [
           {
            "colorbar": {
             "outlinewidth": 0,
             "ticks": ""
            },
            "colorscale": [
             [
              0,
              "#0d0887"
             ],
             [
              0.1111111111111111,
              "#46039f"
             ],
             [
              0.2222222222222222,
              "#7201a8"
             ],
             [
              0.3333333333333333,
              "#9c179e"
             ],
             [
              0.4444444444444444,
              "#bd3786"
             ],
             [
              0.5555555555555556,
              "#d8576b"
             ],
             [
              0.6666666666666666,
              "#ed7953"
             ],
             [
              0.7777777777777778,
              "#fb9f3a"
             ],
             [
              0.8888888888888888,
              "#fdca26"
             ],
             [
              1,
              "#f0f921"
             ]
            ],
            "type": "surface"
           }
          ],
          "table": [
           {
            "cells": {
             "fill": {
              "color": "#EBF0F8"
             },
             "line": {
              "color": "white"
             }
            },
            "header": {
             "fill": {
              "color": "#C8D4E3"
             },
             "line": {
              "color": "white"
             }
            },
            "type": "table"
           }
          ]
         },
         "layout": {
          "annotationdefaults": {
           "arrowcolor": "#2a3f5f",
           "arrowhead": 0,
           "arrowwidth": 1
          },
          "autotypenumbers": "strict",
          "coloraxis": {
           "colorbar": {
            "outlinewidth": 0,
            "ticks": ""
           }
          },
          "colorscale": {
           "diverging": [
            [
             0,
             "#8e0152"
            ],
            [
             0.1,
             "#c51b7d"
            ],
            [
             0.2,
             "#de77ae"
            ],
            [
             0.3,
             "#f1b6da"
            ],
            [
             0.4,
             "#fde0ef"
            ],
            [
             0.5,
             "#f7f7f7"
            ],
            [
             0.6,
             "#e6f5d0"
            ],
            [
             0.7,
             "#b8e186"
            ],
            [
             0.8,
             "#7fbc41"
            ],
            [
             0.9,
             "#4d9221"
            ],
            [
             1,
             "#276419"
            ]
           ],
           "sequential": [
            [
             0,
             "#0d0887"
            ],
            [
             0.1111111111111111,
             "#46039f"
            ],
            [
             0.2222222222222222,
             "#7201a8"
            ],
            [
             0.3333333333333333,
             "#9c179e"
            ],
            [
             0.4444444444444444,
             "#bd3786"
            ],
            [
             0.5555555555555556,
             "#d8576b"
            ],
            [
             0.6666666666666666,
             "#ed7953"
            ],
            [
             0.7777777777777778,
             "#fb9f3a"
            ],
            [
             0.8888888888888888,
             "#fdca26"
            ],
            [
             1,
             "#f0f921"
            ]
           ],
           "sequentialminus": [
            [
             0,
             "#0d0887"
            ],
            [
             0.1111111111111111,
             "#46039f"
            ],
            [
             0.2222222222222222,
             "#7201a8"
            ],
            [
             0.3333333333333333,
             "#9c179e"
            ],
            [
             0.4444444444444444,
             "#bd3786"
            ],
            [
             0.5555555555555556,
             "#d8576b"
            ],
            [
             0.6666666666666666,
             "#ed7953"
            ],
            [
             0.7777777777777778,
             "#fb9f3a"
            ],
            [
             0.8888888888888888,
             "#fdca26"
            ],
            [
             1,
             "#f0f921"
            ]
           ]
          },
          "colorway": [
           "#636efa",
           "#EF553B",
           "#00cc96",
           "#ab63fa",
           "#FFA15A",
           "#19d3f3",
           "#FF6692",
           "#B6E880",
           "#FF97FF",
           "#FECB52"
          ],
          "font": {
           "color": "#2a3f5f"
          },
          "geo": {
           "bgcolor": "white",
           "lakecolor": "white",
           "landcolor": "#E5ECF6",
           "showlakes": true,
           "showland": true,
           "subunitcolor": "white"
          },
          "hoverlabel": {
           "align": "left"
          },
          "hovermode": "closest",
          "mapbox": {
           "style": "light"
          },
          "paper_bgcolor": "white",
          "plot_bgcolor": "#E5ECF6",
          "polar": {
           "angularaxis": {
            "gridcolor": "white",
            "linecolor": "white",
            "ticks": ""
           },
           "bgcolor": "#E5ECF6",
           "radialaxis": {
            "gridcolor": "white",
            "linecolor": "white",
            "ticks": ""
           }
          },
          "scene": {
           "xaxis": {
            "backgroundcolor": "#E5ECF6",
            "gridcolor": "white",
            "gridwidth": 2,
            "linecolor": "white",
            "showbackground": true,
            "ticks": "",
            "zerolinecolor": "white"
           },
           "yaxis": {
            "backgroundcolor": "#E5ECF6",
            "gridcolor": "white",
            "gridwidth": 2,
            "linecolor": "white",
            "showbackground": true,
            "ticks": "",
            "zerolinecolor": "white"
           },
           "zaxis": {
            "backgroundcolor": "#E5ECF6",
            "gridcolor": "white",
            "gridwidth": 2,
            "linecolor": "white",
            "showbackground": true,
            "ticks": "",
            "zerolinecolor": "white"
           }
          },
          "shapedefaults": {
           "line": {
            "color": "#2a3f5f"
           }
          },
          "ternary": {
           "aaxis": {
            "gridcolor": "white",
            "linecolor": "white",
            "ticks": ""
           },
           "baxis": {
            "gridcolor": "white",
            "linecolor": "white",
            "ticks": ""
           },
           "bgcolor": "#E5ECF6",
           "caxis": {
            "gridcolor": "white",
            "linecolor": "white",
            "ticks": ""
           }
          },
          "title": {
           "x": 0.05
          },
          "xaxis": {
           "automargin": true,
           "gridcolor": "white",
           "linecolor": "white",
           "ticks": "",
           "title": {
            "standoff": 15
           },
           "zerolinecolor": "white",
           "zerolinewidth": 2
          },
          "yaxis": {
           "automargin": true,
           "gridcolor": "white",
           "linecolor": "white",
           "ticks": "",
           "title": {
            "standoff": 15
           },
           "zerolinecolor": "white",
           "zerolinewidth": 2
          }
         }
        },
        "title": {
         "text": " CTR for different types of campaigns through Email"
        }
       }
      }
     },
     "metadata": {},
     "output_type": "display_data"
    }
   ],
   "source": [
    "fig = px.pie(\n",
    "    data_frame=df_campaign_plat_reset[df_campaign_plat_reset['platform']==\"Email\"],\n",
    "    values=\"click_through_rate\",\n",
    "    names=\"campaign_type\",\n",
    "    title=\" CTR for different types of campaigns through Email\"\n",
    ")\n",
    "fig.show()\n",
    "fig.write_html(r'C:\\Users\\karthikeya\\health_tech_analytics\\plots\\CTR for different types of campaigns through Email.html')\n",
    "fig.write_image(r'C:\\Users\\karthikeya\\health_tech_analytics\\plots\\CTR for different types of campaigns through Email.png')"
   ]
  },
  {
   "cell_type": "markdown",
   "metadata": {},
   "source": []
  },
  {
   "cell_type": "code",
   "execution_count": 55,
   "metadata": {},
   "outputs": [
    {
     "data": {
      "text/html": [
       "<div>\n",
       "<style scoped>\n",
       "    .dataframe tbody tr th:only-of-type {\n",
       "        vertical-align: middle;\n",
       "    }\n",
       "\n",
       "    .dataframe tbody tr th {\n",
       "        vertical-align: top;\n",
       "    }\n",
       "\n",
       "    .dataframe thead th {\n",
       "        text-align: right;\n",
       "    }\n",
       "</style>\n",
       "<table border=\"1\" class=\"dataframe\">\n",
       "  <thead>\n",
       "    <tr style=\"text-align: right;\">\n",
       "      <th></th>\n",
       "      <th>platform</th>\n",
       "      <th>campaign_type</th>\n",
       "      <th>cost</th>\n",
       "      <th>impressions</th>\n",
       "      <th>clicks</th>\n",
       "      <th>num_signups</th>\n",
       "      <th>cost_per_impression</th>\n",
       "      <th>cost_per_click</th>\n",
       "      <th>customer_acqisition_cost</th>\n",
       "      <th>click_through_rate</th>\n",
       "      <th>signup_rate</th>\n",
       "    </tr>\n",
       "  </thead>\n",
       "  <tbody>\n",
       "    <tr>\n",
       "      <th>12</th>\n",
       "      <td>SEO</td>\n",
       "      <td>Product Promotion</td>\n",
       "      <td>2654.454476</td>\n",
       "      <td>116890</td>\n",
       "      <td>25243.5</td>\n",
       "      <td>1273.0</td>\n",
       "      <td>0.022709</td>\n",
       "      <td>0.105154</td>\n",
       "      <td>2.085196</td>\n",
       "      <td>21.595945</td>\n",
       "      <td>1.089058</td>\n",
       "    </tr>\n",
       "    <tr>\n",
       "      <th>7</th>\n",
       "      <td>SEO</td>\n",
       "      <td>Customer Testimonial</td>\n",
       "      <td>4389.367436</td>\n",
       "      <td>589766</td>\n",
       "      <td>44160.0</td>\n",
       "      <td>1588.0</td>\n",
       "      <td>0.007443</td>\n",
       "      <td>0.099397</td>\n",
       "      <td>2.764085</td>\n",
       "      <td>7.487715</td>\n",
       "      <td>0.269259</td>\n",
       "    </tr>\n",
       "    <tr>\n",
       "      <th>6</th>\n",
       "      <td>SEO</td>\n",
       "      <td>Covid Awareness</td>\n",
       "      <td>6798.282804</td>\n",
       "      <td>914491</td>\n",
       "      <td>54274.5</td>\n",
       "      <td>1017.0</td>\n",
       "      <td>0.007434</td>\n",
       "      <td>0.125257</td>\n",
       "      <td>6.684644</td>\n",
       "      <td>5.934941</td>\n",
       "      <td>0.111209</td>\n",
       "    </tr>\n",
       "    <tr>\n",
       "      <th>8</th>\n",
       "      <td>SEO</td>\n",
       "      <td>Health Awareness</td>\n",
       "      <td>394.641083</td>\n",
       "      <td>480790</td>\n",
       "      <td>34210.0</td>\n",
       "      <td>114.0</td>\n",
       "      <td>0.000821</td>\n",
       "      <td>0.011536</td>\n",
       "      <td>3.461764</td>\n",
       "      <td>7.115373</td>\n",
       "      <td>0.023711</td>\n",
       "    </tr>\n",
       "    <tr>\n",
       "      <th>11</th>\n",
       "      <td>SEO</td>\n",
       "      <td>Policy Information</td>\n",
       "      <td>1912.411772</td>\n",
       "      <td>134509</td>\n",
       "      <td>32081.0</td>\n",
       "      <td>12.0</td>\n",
       "      <td>0.014218</td>\n",
       "      <td>0.059612</td>\n",
       "      <td>159.367648</td>\n",
       "      <td>23.850449</td>\n",
       "      <td>0.008921</td>\n",
       "    </tr>\n",
       "    <tr>\n",
       "      <th>10</th>\n",
       "      <td>SEO</td>\n",
       "      <td>Offer Announcement</td>\n",
       "      <td>3942.507148</td>\n",
       "      <td>800350</td>\n",
       "      <td>29349.0</td>\n",
       "      <td>50.0</td>\n",
       "      <td>0.004926</td>\n",
       "      <td>0.134332</td>\n",
       "      <td>78.850143</td>\n",
       "      <td>3.667021</td>\n",
       "      <td>0.006247</td>\n",
       "    </tr>\n",
       "    <tr>\n",
       "      <th>9</th>\n",
       "      <td>SEO</td>\n",
       "      <td>Health Tips</td>\n",
       "      <td>1155.327990</td>\n",
       "      <td>152130</td>\n",
       "      <td>14174.0</td>\n",
       "      <td>1.0</td>\n",
       "      <td>0.007594</td>\n",
       "      <td>0.081510</td>\n",
       "      <td>1155.327990</td>\n",
       "      <td>9.317031</td>\n",
       "      <td>0.000657</td>\n",
       "    </tr>\n",
       "  </tbody>\n",
       "</table>\n",
       "</div>"
      ],
      "text/plain": [
       "   platform         campaign_type         cost  impressions   clicks  \\\n",
       "12      SEO     Product Promotion  2654.454476       116890  25243.5   \n",
       "7       SEO  Customer Testimonial  4389.367436       589766  44160.0   \n",
       "6       SEO       Covid Awareness  6798.282804       914491  54274.5   \n",
       "8       SEO      Health Awareness   394.641083       480790  34210.0   \n",
       "11      SEO    Policy Information  1912.411772       134509  32081.0   \n",
       "10      SEO    Offer Announcement  3942.507148       800350  29349.0   \n",
       "9       SEO           Health Tips  1155.327990       152130  14174.0   \n",
       "\n",
       "    num_signups  cost_per_impression  cost_per_click  \\\n",
       "12       1273.0             0.022709        0.105154   \n",
       "7        1588.0             0.007443        0.099397   \n",
       "6        1017.0             0.007434        0.125257   \n",
       "8         114.0             0.000821        0.011536   \n",
       "11         12.0             0.014218        0.059612   \n",
       "10         50.0             0.004926        0.134332   \n",
       "9           1.0             0.007594        0.081510   \n",
       "\n",
       "    customer_acqisition_cost  click_through_rate  signup_rate  \n",
       "12                  2.085196           21.595945     1.089058  \n",
       "7                   2.764085            7.487715     0.269259  \n",
       "6                   6.684644            5.934941     0.111209  \n",
       "8                   3.461764            7.115373     0.023711  \n",
       "11                159.367648           23.850449     0.008921  \n",
       "10                 78.850143            3.667021     0.006247  \n",
       "9                1155.327990            9.317031     0.000657  "
      ]
     },
     "execution_count": 55,
     "metadata": {},
     "output_type": "execute_result"
    }
   ],
   "source": [
    "df_campaign_plat_reset[df_campaign_plat_reset['platform']==\"SEO\"].sort_values(by=\"signup_rate\",ascending=False)"
   ]
  },
  {
   "cell_type": "code",
   "execution_count": 56,
   "metadata": {},
   "outputs": [
    {
     "data": {
      "application/vnd.plotly.v1+json": {
       "config": {
        "plotlyServerURL": "https://plot.ly"
       },
       "data": [
        {
         "domain": {
          "x": [
           0,
           1
          ],
          "y": [
           0,
           1
          ]
         },
         "hovertemplate": "campaign_type=%{label}<br>click_through_rate=%{value}<extra></extra>",
         "labels": [
          "Policy Information",
          "Product Promotion",
          "Health Tips",
          "Customer Testimonial",
          "Health Awareness",
          "Covid Awareness",
          "Offer Announcement"
         ],
         "legendgroup": "",
         "name": "",
         "showlegend": true,
         "type": "pie",
         "values": [
          23.850448668862306,
          21.595944905466677,
          9.317031486228883,
          7.487715466812261,
          7.115372615902993,
          5.93494085781052,
          3.667020678453177
         ]
        }
       ],
       "layout": {
        "legend": {
         "tracegroupgap": 0
        },
        "template": {
         "data": {
          "bar": [
           {
            "error_x": {
             "color": "#2a3f5f"
            },
            "error_y": {
             "color": "#2a3f5f"
            },
            "marker": {
             "line": {
              "color": "#E5ECF6",
              "width": 0.5
             },
             "pattern": {
              "fillmode": "overlay",
              "size": 10,
              "solidity": 0.2
             }
            },
            "type": "bar"
           }
          ],
          "barpolar": [
           {
            "marker": {
             "line": {
              "color": "#E5ECF6",
              "width": 0.5
             },
             "pattern": {
              "fillmode": "overlay",
              "size": 10,
              "solidity": 0.2
             }
            },
            "type": "barpolar"
           }
          ],
          "carpet": [
           {
            "aaxis": {
             "endlinecolor": "#2a3f5f",
             "gridcolor": "white",
             "linecolor": "white",
             "minorgridcolor": "white",
             "startlinecolor": "#2a3f5f"
            },
            "baxis": {
             "endlinecolor": "#2a3f5f",
             "gridcolor": "white",
             "linecolor": "white",
             "minorgridcolor": "white",
             "startlinecolor": "#2a3f5f"
            },
            "type": "carpet"
           }
          ],
          "choropleth": [
           {
            "colorbar": {
             "outlinewidth": 0,
             "ticks": ""
            },
            "type": "choropleth"
           }
          ],
          "contour": [
           {
            "colorbar": {
             "outlinewidth": 0,
             "ticks": ""
            },
            "colorscale": [
             [
              0,
              "#0d0887"
             ],
             [
              0.1111111111111111,
              "#46039f"
             ],
             [
              0.2222222222222222,
              "#7201a8"
             ],
             [
              0.3333333333333333,
              "#9c179e"
             ],
             [
              0.4444444444444444,
              "#bd3786"
             ],
             [
              0.5555555555555556,
              "#d8576b"
             ],
             [
              0.6666666666666666,
              "#ed7953"
             ],
             [
              0.7777777777777778,
              "#fb9f3a"
             ],
             [
              0.8888888888888888,
              "#fdca26"
             ],
             [
              1,
              "#f0f921"
             ]
            ],
            "type": "contour"
           }
          ],
          "contourcarpet": [
           {
            "colorbar": {
             "outlinewidth": 0,
             "ticks": ""
            },
            "type": "contourcarpet"
           }
          ],
          "heatmap": [
           {
            "colorbar": {
             "outlinewidth": 0,
             "ticks": ""
            },
            "colorscale": [
             [
              0,
              "#0d0887"
             ],
             [
              0.1111111111111111,
              "#46039f"
             ],
             [
              0.2222222222222222,
              "#7201a8"
             ],
             [
              0.3333333333333333,
              "#9c179e"
             ],
             [
              0.4444444444444444,
              "#bd3786"
             ],
             [
              0.5555555555555556,
              "#d8576b"
             ],
             [
              0.6666666666666666,
              "#ed7953"
             ],
             [
              0.7777777777777778,
              "#fb9f3a"
             ],
             [
              0.8888888888888888,
              "#fdca26"
             ],
             [
              1,
              "#f0f921"
             ]
            ],
            "type": "heatmap"
           }
          ],
          "heatmapgl": [
           {
            "colorbar": {
             "outlinewidth": 0,
             "ticks": ""
            },
            "colorscale": [
             [
              0,
              "#0d0887"
             ],
             [
              0.1111111111111111,
              "#46039f"
             ],
             [
              0.2222222222222222,
              "#7201a8"
             ],
             [
              0.3333333333333333,
              "#9c179e"
             ],
             [
              0.4444444444444444,
              "#bd3786"
             ],
             [
              0.5555555555555556,
              "#d8576b"
             ],
             [
              0.6666666666666666,
              "#ed7953"
             ],
             [
              0.7777777777777778,
              "#fb9f3a"
             ],
             [
              0.8888888888888888,
              "#fdca26"
             ],
             [
              1,
              "#f0f921"
             ]
            ],
            "type": "heatmapgl"
           }
          ],
          "histogram": [
           {
            "marker": {
             "pattern": {
              "fillmode": "overlay",
              "size": 10,
              "solidity": 0.2
             }
            },
            "type": "histogram"
           }
          ],
          "histogram2d": [
           {
            "colorbar": {
             "outlinewidth": 0,
             "ticks": ""
            },
            "colorscale": [
             [
              0,
              "#0d0887"
             ],
             [
              0.1111111111111111,
              "#46039f"
             ],
             [
              0.2222222222222222,
              "#7201a8"
             ],
             [
              0.3333333333333333,
              "#9c179e"
             ],
             [
              0.4444444444444444,
              "#bd3786"
             ],
             [
              0.5555555555555556,
              "#d8576b"
             ],
             [
              0.6666666666666666,
              "#ed7953"
             ],
             [
              0.7777777777777778,
              "#fb9f3a"
             ],
             [
              0.8888888888888888,
              "#fdca26"
             ],
             [
              1,
              "#f0f921"
             ]
            ],
            "type": "histogram2d"
           }
          ],
          "histogram2dcontour": [
           {
            "colorbar": {
             "outlinewidth": 0,
             "ticks": ""
            },
            "colorscale": [
             [
              0,
              "#0d0887"
             ],
             [
              0.1111111111111111,
              "#46039f"
             ],
             [
              0.2222222222222222,
              "#7201a8"
             ],
             [
              0.3333333333333333,
              "#9c179e"
             ],
             [
              0.4444444444444444,
              "#bd3786"
             ],
             [
              0.5555555555555556,
              "#d8576b"
             ],
             [
              0.6666666666666666,
              "#ed7953"
             ],
             [
              0.7777777777777778,
              "#fb9f3a"
             ],
             [
              0.8888888888888888,
              "#fdca26"
             ],
             [
              1,
              "#f0f921"
             ]
            ],
            "type": "histogram2dcontour"
           }
          ],
          "mesh3d": [
           {
            "colorbar": {
             "outlinewidth": 0,
             "ticks": ""
            },
            "type": "mesh3d"
           }
          ],
          "parcoords": [
           {
            "line": {
             "colorbar": {
              "outlinewidth": 0,
              "ticks": ""
             }
            },
            "type": "parcoords"
           }
          ],
          "pie": [
           {
            "automargin": true,
            "type": "pie"
           }
          ],
          "scatter": [
           {
            "fillpattern": {
             "fillmode": "overlay",
             "size": 10,
             "solidity": 0.2
            },
            "type": "scatter"
           }
          ],
          "scatter3d": [
           {
            "line": {
             "colorbar": {
              "outlinewidth": 0,
              "ticks": ""
             }
            },
            "marker": {
             "colorbar": {
              "outlinewidth": 0,
              "ticks": ""
             }
            },
            "type": "scatter3d"
           }
          ],
          "scattercarpet": [
           {
            "marker": {
             "colorbar": {
              "outlinewidth": 0,
              "ticks": ""
             }
            },
            "type": "scattercarpet"
           }
          ],
          "scattergeo": [
           {
            "marker": {
             "colorbar": {
              "outlinewidth": 0,
              "ticks": ""
             }
            },
            "type": "scattergeo"
           }
          ],
          "scattergl": [
           {
            "marker": {
             "colorbar": {
              "outlinewidth": 0,
              "ticks": ""
             }
            },
            "type": "scattergl"
           }
          ],
          "scattermapbox": [
           {
            "marker": {
             "colorbar": {
              "outlinewidth": 0,
              "ticks": ""
             }
            },
            "type": "scattermapbox"
           }
          ],
          "scatterpolar": [
           {
            "marker": {
             "colorbar": {
              "outlinewidth": 0,
              "ticks": ""
             }
            },
            "type": "scatterpolar"
           }
          ],
          "scatterpolargl": [
           {
            "marker": {
             "colorbar": {
              "outlinewidth": 0,
              "ticks": ""
             }
            },
            "type": "scatterpolargl"
           }
          ],
          "scatterternary": [
           {
            "marker": {
             "colorbar": {
              "outlinewidth": 0,
              "ticks": ""
             }
            },
            "type": "scatterternary"
           }
          ],
          "surface": [
           {
            "colorbar": {
             "outlinewidth": 0,
             "ticks": ""
            },
            "colorscale": [
             [
              0,
              "#0d0887"
             ],
             [
              0.1111111111111111,
              "#46039f"
             ],
             [
              0.2222222222222222,
              "#7201a8"
             ],
             [
              0.3333333333333333,
              "#9c179e"
             ],
             [
              0.4444444444444444,
              "#bd3786"
             ],
             [
              0.5555555555555556,
              "#d8576b"
             ],
             [
              0.6666666666666666,
              "#ed7953"
             ],
             [
              0.7777777777777778,
              "#fb9f3a"
             ],
             [
              0.8888888888888888,
              "#fdca26"
             ],
             [
              1,
              "#f0f921"
             ]
            ],
            "type": "surface"
           }
          ],
          "table": [
           {
            "cells": {
             "fill": {
              "color": "#EBF0F8"
             },
             "line": {
              "color": "white"
             }
            },
            "header": {
             "fill": {
              "color": "#C8D4E3"
             },
             "line": {
              "color": "white"
             }
            },
            "type": "table"
           }
          ]
         },
         "layout": {
          "annotationdefaults": {
           "arrowcolor": "#2a3f5f",
           "arrowhead": 0,
           "arrowwidth": 1
          },
          "autotypenumbers": "strict",
          "coloraxis": {
           "colorbar": {
            "outlinewidth": 0,
            "ticks": ""
           }
          },
          "colorscale": {
           "diverging": [
            [
             0,
             "#8e0152"
            ],
            [
             0.1,
             "#c51b7d"
            ],
            [
             0.2,
             "#de77ae"
            ],
            [
             0.3,
             "#f1b6da"
            ],
            [
             0.4,
             "#fde0ef"
            ],
            [
             0.5,
             "#f7f7f7"
            ],
            [
             0.6,
             "#e6f5d0"
            ],
            [
             0.7,
             "#b8e186"
            ],
            [
             0.8,
             "#7fbc41"
            ],
            [
             0.9,
             "#4d9221"
            ],
            [
             1,
             "#276419"
            ]
           ],
           "sequential": [
            [
             0,
             "#0d0887"
            ],
            [
             0.1111111111111111,
             "#46039f"
            ],
            [
             0.2222222222222222,
             "#7201a8"
            ],
            [
             0.3333333333333333,
             "#9c179e"
            ],
            [
             0.4444444444444444,
             "#bd3786"
            ],
            [
             0.5555555555555556,
             "#d8576b"
            ],
            [
             0.6666666666666666,
             "#ed7953"
            ],
            [
             0.7777777777777778,
             "#fb9f3a"
            ],
            [
             0.8888888888888888,
             "#fdca26"
            ],
            [
             1,
             "#f0f921"
            ]
           ],
           "sequentialminus": [
            [
             0,
             "#0d0887"
            ],
            [
             0.1111111111111111,
             "#46039f"
            ],
            [
             0.2222222222222222,
             "#7201a8"
            ],
            [
             0.3333333333333333,
             "#9c179e"
            ],
            [
             0.4444444444444444,
             "#bd3786"
            ],
            [
             0.5555555555555556,
             "#d8576b"
            ],
            [
             0.6666666666666666,
             "#ed7953"
            ],
            [
             0.7777777777777778,
             "#fb9f3a"
            ],
            [
             0.8888888888888888,
             "#fdca26"
            ],
            [
             1,
             "#f0f921"
            ]
           ]
          },
          "colorway": [
           "#636efa",
           "#EF553B",
           "#00cc96",
           "#ab63fa",
           "#FFA15A",
           "#19d3f3",
           "#FF6692",
           "#B6E880",
           "#FF97FF",
           "#FECB52"
          ],
          "font": {
           "color": "#2a3f5f"
          },
          "geo": {
           "bgcolor": "white",
           "lakecolor": "white",
           "landcolor": "#E5ECF6",
           "showlakes": true,
           "showland": true,
           "subunitcolor": "white"
          },
          "hoverlabel": {
           "align": "left"
          },
          "hovermode": "closest",
          "mapbox": {
           "style": "light"
          },
          "paper_bgcolor": "white",
          "plot_bgcolor": "#E5ECF6",
          "polar": {
           "angularaxis": {
            "gridcolor": "white",
            "linecolor": "white",
            "ticks": ""
           },
           "bgcolor": "#E5ECF6",
           "radialaxis": {
            "gridcolor": "white",
            "linecolor": "white",
            "ticks": ""
           }
          },
          "scene": {
           "xaxis": {
            "backgroundcolor": "#E5ECF6",
            "gridcolor": "white",
            "gridwidth": 2,
            "linecolor": "white",
            "showbackground": true,
            "ticks": "",
            "zerolinecolor": "white"
           },
           "yaxis": {
            "backgroundcolor": "#E5ECF6",
            "gridcolor": "white",
            "gridwidth": 2,
            "linecolor": "white",
            "showbackground": true,
            "ticks": "",
            "zerolinecolor": "white"
           },
           "zaxis": {
            "backgroundcolor": "#E5ECF6",
            "gridcolor": "white",
            "gridwidth": 2,
            "linecolor": "white",
            "showbackground": true,
            "ticks": "",
            "zerolinecolor": "white"
           }
          },
          "shapedefaults": {
           "line": {
            "color": "#2a3f5f"
           }
          },
          "ternary": {
           "aaxis": {
            "gridcolor": "white",
            "linecolor": "white",
            "ticks": ""
           },
           "baxis": {
            "gridcolor": "white",
            "linecolor": "white",
            "ticks": ""
           },
           "bgcolor": "#E5ECF6",
           "caxis": {
            "gridcolor": "white",
            "linecolor": "white",
            "ticks": ""
           }
          },
          "title": {
           "x": 0.05
          },
          "xaxis": {
           "automargin": true,
           "gridcolor": "white",
           "linecolor": "white",
           "ticks": "",
           "title": {
            "standoff": 15
           },
           "zerolinecolor": "white",
           "zerolinewidth": 2
          },
          "yaxis": {
           "automargin": true,
           "gridcolor": "white",
           "linecolor": "white",
           "ticks": "",
           "title": {
            "standoff": 15
           },
           "zerolinecolor": "white",
           "zerolinewidth": 2
          }
         }
        },
        "title": {
         "text": " CTR for different types of campaigns through SEO"
        }
       }
      }
     },
     "metadata": {},
     "output_type": "display_data"
    }
   ],
   "source": [
    "fig = px.pie(\n",
    "    data_frame=df_campaign_plat_reset[df_campaign_plat_reset['platform']==\"SEO\"].sort_values(by=\"click_through_rate\",ascending=False),\n",
    "    values=\"click_through_rate\",\n",
    "    names=\"campaign_type\",\n",
    "    title=\" CTR for different types of campaigns through SEO\"\n",
    ")\n",
    "fig.show()\n",
    "fig.write_html(r'C:\\Users\\karthikeya\\health_tech_analytics\\plots\\CTR for different types of campaigns through SEO.html')\n",
    "fig.write_image(r'C:\\Users\\karthikeya\\health_tech_analytics\\plots\\CTR for different types of campaigns through SEO.png')"
   ]
  },
  {
   "cell_type": "code",
   "execution_count": 58,
   "metadata": {},
   "outputs": [
    {
     "data": {
      "text/html": [
       "<div>\n",
       "<style scoped>\n",
       "    .dataframe tbody tr th:only-of-type {\n",
       "        vertical-align: middle;\n",
       "    }\n",
       "\n",
       "    .dataframe tbody tr th {\n",
       "        vertical-align: top;\n",
       "    }\n",
       "\n",
       "    .dataframe thead th {\n",
       "        text-align: right;\n",
       "    }\n",
       "</style>\n",
       "<table border=\"1\" class=\"dataframe\">\n",
       "  <thead>\n",
       "    <tr style=\"text-align: right;\">\n",
       "      <th></th>\n",
       "      <th>platform</th>\n",
       "      <th>campaign_type</th>\n",
       "      <th>cost</th>\n",
       "      <th>impressions</th>\n",
       "      <th>clicks</th>\n",
       "      <th>num_signups</th>\n",
       "      <th>cost_per_impression</th>\n",
       "      <th>cost_per_click</th>\n",
       "      <th>customer_acqisition_cost</th>\n",
       "      <th>click_through_rate</th>\n",
       "      <th>signup_rate</th>\n",
       "    </tr>\n",
       "  </thead>\n",
       "  <tbody>\n",
       "    <tr>\n",
       "      <th>13</th>\n",
       "      <td>Social Media</td>\n",
       "      <td>Covid Awareness</td>\n",
       "      <td>3133.144076</td>\n",
       "      <td>480610</td>\n",
       "      <td>63055.0</td>\n",
       "      <td>47.0</td>\n",
       "      <td>0.006519</td>\n",
       "      <td>0.049689</td>\n",
       "      <td>66.662640</td>\n",
       "      <td>13.119785</td>\n",
       "      <td>0.009779</td>\n",
       "    </tr>\n",
       "    <tr>\n",
       "      <th>16</th>\n",
       "      <td>Social Media</td>\n",
       "      <td>Offer Announcement</td>\n",
       "      <td>2138.910275</td>\n",
       "      <td>334118</td>\n",
       "      <td>42355.0</td>\n",
       "      <td>11.0</td>\n",
       "      <td>0.006402</td>\n",
       "      <td>0.050500</td>\n",
       "      <td>194.446389</td>\n",
       "      <td>12.676659</td>\n",
       "      <td>0.003292</td>\n",
       "    </tr>\n",
       "    <tr>\n",
       "      <th>17</th>\n",
       "      <td>Social Media</td>\n",
       "      <td>Policy Information</td>\n",
       "      <td>2535.793508</td>\n",
       "      <td>593220</td>\n",
       "      <td>58195.0</td>\n",
       "      <td>2745.0</td>\n",
       "      <td>0.004275</td>\n",
       "      <td>0.043574</td>\n",
       "      <td>0.923786</td>\n",
       "      <td>9.810020</td>\n",
       "      <td>0.462729</td>\n",
       "    </tr>\n",
       "    <tr>\n",
       "      <th>18</th>\n",
       "      <td>Social Media</td>\n",
       "      <td>Product Promotion</td>\n",
       "      <td>2978.460558</td>\n",
       "      <td>833213</td>\n",
       "      <td>65095.0</td>\n",
       "      <td>3781.0</td>\n",
       "      <td>0.003575</td>\n",
       "      <td>0.045756</td>\n",
       "      <td>0.787744</td>\n",
       "      <td>7.812528</td>\n",
       "      <td>0.453786</td>\n",
       "    </tr>\n",
       "    <tr>\n",
       "      <th>15</th>\n",
       "      <td>Social Media</td>\n",
       "      <td>Health Tips</td>\n",
       "      <td>3640.219468</td>\n",
       "      <td>524341</td>\n",
       "      <td>33907.5</td>\n",
       "      <td>971.0</td>\n",
       "      <td>0.006942</td>\n",
       "      <td>0.107357</td>\n",
       "      <td>3.748939</td>\n",
       "      <td>6.466689</td>\n",
       "      <td>0.185185</td>\n",
       "    </tr>\n",
       "    <tr>\n",
       "      <th>14</th>\n",
       "      <td>Social Media</td>\n",
       "      <td>Customer Testimonial</td>\n",
       "      <td>2663.045090</td>\n",
       "      <td>493810</td>\n",
       "      <td>18240.0</td>\n",
       "      <td>55.0</td>\n",
       "      <td>0.005393</td>\n",
       "      <td>0.146000</td>\n",
       "      <td>48.419002</td>\n",
       "      <td>3.693728</td>\n",
       "      <td>0.011138</td>\n",
       "    </tr>\n",
       "  </tbody>\n",
       "</table>\n",
       "</div>"
      ],
      "text/plain": [
       "        platform         campaign_type         cost  impressions   clicks  \\\n",
       "13  Social Media       Covid Awareness  3133.144076       480610  63055.0   \n",
       "16  Social Media    Offer Announcement  2138.910275       334118  42355.0   \n",
       "17  Social Media    Policy Information  2535.793508       593220  58195.0   \n",
       "18  Social Media     Product Promotion  2978.460558       833213  65095.0   \n",
       "15  Social Media           Health Tips  3640.219468       524341  33907.5   \n",
       "14  Social Media  Customer Testimonial  2663.045090       493810  18240.0   \n",
       "\n",
       "    num_signups  cost_per_impression  cost_per_click  \\\n",
       "13         47.0             0.006519        0.049689   \n",
       "16         11.0             0.006402        0.050500   \n",
       "17       2745.0             0.004275        0.043574   \n",
       "18       3781.0             0.003575        0.045756   \n",
       "15        971.0             0.006942        0.107357   \n",
       "14         55.0             0.005393        0.146000   \n",
       "\n",
       "    customer_acqisition_cost  click_through_rate  signup_rate  \n",
       "13                 66.662640           13.119785     0.009779  \n",
       "16                194.446389           12.676659     0.003292  \n",
       "17                  0.923786            9.810020     0.462729  \n",
       "18                  0.787744            7.812528     0.453786  \n",
       "15                  3.748939            6.466689     0.185185  \n",
       "14                 48.419002            3.693728     0.011138  "
      ]
     },
     "execution_count": 58,
     "metadata": {},
     "output_type": "execute_result"
    }
   ],
   "source": [
    "df_campaign_plat_reset = df.groupby(['platform','campaign_type'])[columns].sum()\n",
    "df_campaign_plat_reset = df_campaign_plat_reset.reset_index(drop=False)\n",
    "df_campaign_plat_reset = calculate_campign_metrics(df_campaign_plat_reset)\n",
    "df_campaign_plat_reset[df_campaign_plat_reset['platform']==\"Social Media\"].sort_values(by=\"click_through_rate\", ascending=False)"
   ]
  },
  {
   "cell_type": "code",
   "execution_count": 62,
   "metadata": {},
   "outputs": [
    {
     "data": {
      "application/vnd.plotly.v1+json": {
       "config": {
        "plotlyServerURL": "https://plot.ly"
       },
       "data": [
        {
         "alignmentgroup": "True",
         "hovertemplate": "campaign_type=%{x}<br>signup_rate=%{y}<extra></extra>",
         "legendgroup": "",
         "marker": {
          "color": "#636efa",
          "pattern": {
           "shape": ""
          }
         },
         "name": "",
         "offsetgroup": "",
         "orientation": "v",
         "showlegend": false,
         "textposition": "auto",
         "type": "bar",
         "x": [
          "Covid Awareness",
          "Offer Announcement",
          "Policy Information",
          "Product Promotion",
          "Health Tips",
          "Customer Testimonial"
         ],
         "xaxis": "x",
         "y": [
          0.009779238883918354,
          0.0032922500433978418,
          0.4627288358450491,
          0.45378552663004534,
          0.1851848320081779,
          0.011137887041574694
         ],
         "yaxis": "y"
        }
       ],
       "layout": {
        "barmode": "relative",
        "legend": {
         "tracegroupgap": 0
        },
        "template": {
         "data": {
          "bar": [
           {
            "error_x": {
             "color": "#2a3f5f"
            },
            "error_y": {
             "color": "#2a3f5f"
            },
            "marker": {
             "line": {
              "color": "#E5ECF6",
              "width": 0.5
             },
             "pattern": {
              "fillmode": "overlay",
              "size": 10,
              "solidity": 0.2
             }
            },
            "type": "bar"
           }
          ],
          "barpolar": [
           {
            "marker": {
             "line": {
              "color": "#E5ECF6",
              "width": 0.5
             },
             "pattern": {
              "fillmode": "overlay",
              "size": 10,
              "solidity": 0.2
             }
            },
            "type": "barpolar"
           }
          ],
          "carpet": [
           {
            "aaxis": {
             "endlinecolor": "#2a3f5f",
             "gridcolor": "white",
             "linecolor": "white",
             "minorgridcolor": "white",
             "startlinecolor": "#2a3f5f"
            },
            "baxis": {
             "endlinecolor": "#2a3f5f",
             "gridcolor": "white",
             "linecolor": "white",
             "minorgridcolor": "white",
             "startlinecolor": "#2a3f5f"
            },
            "type": "carpet"
           }
          ],
          "choropleth": [
           {
            "colorbar": {
             "outlinewidth": 0,
             "ticks": ""
            },
            "type": "choropleth"
           }
          ],
          "contour": [
           {
            "colorbar": {
             "outlinewidth": 0,
             "ticks": ""
            },
            "colorscale": [
             [
              0,
              "#0d0887"
             ],
             [
              0.1111111111111111,
              "#46039f"
             ],
             [
              0.2222222222222222,
              "#7201a8"
             ],
             [
              0.3333333333333333,
              "#9c179e"
             ],
             [
              0.4444444444444444,
              "#bd3786"
             ],
             [
              0.5555555555555556,
              "#d8576b"
             ],
             [
              0.6666666666666666,
              "#ed7953"
             ],
             [
              0.7777777777777778,
              "#fb9f3a"
             ],
             [
              0.8888888888888888,
              "#fdca26"
             ],
             [
              1,
              "#f0f921"
             ]
            ],
            "type": "contour"
           }
          ],
          "contourcarpet": [
           {
            "colorbar": {
             "outlinewidth": 0,
             "ticks": ""
            },
            "type": "contourcarpet"
           }
          ],
          "heatmap": [
           {
            "colorbar": {
             "outlinewidth": 0,
             "ticks": ""
            },
            "colorscale": [
             [
              0,
              "#0d0887"
             ],
             [
              0.1111111111111111,
              "#46039f"
             ],
             [
              0.2222222222222222,
              "#7201a8"
             ],
             [
              0.3333333333333333,
              "#9c179e"
             ],
             [
              0.4444444444444444,
              "#bd3786"
             ],
             [
              0.5555555555555556,
              "#d8576b"
             ],
             [
              0.6666666666666666,
              "#ed7953"
             ],
             [
              0.7777777777777778,
              "#fb9f3a"
             ],
             [
              0.8888888888888888,
              "#fdca26"
             ],
             [
              1,
              "#f0f921"
             ]
            ],
            "type": "heatmap"
           }
          ],
          "heatmapgl": [
           {
            "colorbar": {
             "outlinewidth": 0,
             "ticks": ""
            },
            "colorscale": [
             [
              0,
              "#0d0887"
             ],
             [
              0.1111111111111111,
              "#46039f"
             ],
             [
              0.2222222222222222,
              "#7201a8"
             ],
             [
              0.3333333333333333,
              "#9c179e"
             ],
             [
              0.4444444444444444,
              "#bd3786"
             ],
             [
              0.5555555555555556,
              "#d8576b"
             ],
             [
              0.6666666666666666,
              "#ed7953"
             ],
             [
              0.7777777777777778,
              "#fb9f3a"
             ],
             [
              0.8888888888888888,
              "#fdca26"
             ],
             [
              1,
              "#f0f921"
             ]
            ],
            "type": "heatmapgl"
           }
          ],
          "histogram": [
           {
            "marker": {
             "pattern": {
              "fillmode": "overlay",
              "size": 10,
              "solidity": 0.2
             }
            },
            "type": "histogram"
           }
          ],
          "histogram2d": [
           {
            "colorbar": {
             "outlinewidth": 0,
             "ticks": ""
            },
            "colorscale": [
             [
              0,
              "#0d0887"
             ],
             [
              0.1111111111111111,
              "#46039f"
             ],
             [
              0.2222222222222222,
              "#7201a8"
             ],
             [
              0.3333333333333333,
              "#9c179e"
             ],
             [
              0.4444444444444444,
              "#bd3786"
             ],
             [
              0.5555555555555556,
              "#d8576b"
             ],
             [
              0.6666666666666666,
              "#ed7953"
             ],
             [
              0.7777777777777778,
              "#fb9f3a"
             ],
             [
              0.8888888888888888,
              "#fdca26"
             ],
             [
              1,
              "#f0f921"
             ]
            ],
            "type": "histogram2d"
           }
          ],
          "histogram2dcontour": [
           {
            "colorbar": {
             "outlinewidth": 0,
             "ticks": ""
            },
            "colorscale": [
             [
              0,
              "#0d0887"
             ],
             [
              0.1111111111111111,
              "#46039f"
             ],
             [
              0.2222222222222222,
              "#7201a8"
             ],
             [
              0.3333333333333333,
              "#9c179e"
             ],
             [
              0.4444444444444444,
              "#bd3786"
             ],
             [
              0.5555555555555556,
              "#d8576b"
             ],
             [
              0.6666666666666666,
              "#ed7953"
             ],
             [
              0.7777777777777778,
              "#fb9f3a"
             ],
             [
              0.8888888888888888,
              "#fdca26"
             ],
             [
              1,
              "#f0f921"
             ]
            ],
            "type": "histogram2dcontour"
           }
          ],
          "mesh3d": [
           {
            "colorbar": {
             "outlinewidth": 0,
             "ticks": ""
            },
            "type": "mesh3d"
           }
          ],
          "parcoords": [
           {
            "line": {
             "colorbar": {
              "outlinewidth": 0,
              "ticks": ""
             }
            },
            "type": "parcoords"
           }
          ],
          "pie": [
           {
            "automargin": true,
            "type": "pie"
           }
          ],
          "scatter": [
           {
            "fillpattern": {
             "fillmode": "overlay",
             "size": 10,
             "solidity": 0.2
            },
            "type": "scatter"
           }
          ],
          "scatter3d": [
           {
            "line": {
             "colorbar": {
              "outlinewidth": 0,
              "ticks": ""
             }
            },
            "marker": {
             "colorbar": {
              "outlinewidth": 0,
              "ticks": ""
             }
            },
            "type": "scatter3d"
           }
          ],
          "scattercarpet": [
           {
            "marker": {
             "colorbar": {
              "outlinewidth": 0,
              "ticks": ""
             }
            },
            "type": "scattercarpet"
           }
          ],
          "scattergeo": [
           {
            "marker": {
             "colorbar": {
              "outlinewidth": 0,
              "ticks": ""
             }
            },
            "type": "scattergeo"
           }
          ],
          "scattergl": [
           {
            "marker": {
             "colorbar": {
              "outlinewidth": 0,
              "ticks": ""
             }
            },
            "type": "scattergl"
           }
          ],
          "scattermapbox": [
           {
            "marker": {
             "colorbar": {
              "outlinewidth": 0,
              "ticks": ""
             }
            },
            "type": "scattermapbox"
           }
          ],
          "scatterpolar": [
           {
            "marker": {
             "colorbar": {
              "outlinewidth": 0,
              "ticks": ""
             }
            },
            "type": "scatterpolar"
           }
          ],
          "scatterpolargl": [
           {
            "marker": {
             "colorbar": {
              "outlinewidth": 0,
              "ticks": ""
             }
            },
            "type": "scatterpolargl"
           }
          ],
          "scatterternary": [
           {
            "marker": {
             "colorbar": {
              "outlinewidth": 0,
              "ticks": ""
             }
            },
            "type": "scatterternary"
           }
          ],
          "surface": [
           {
            "colorbar": {
             "outlinewidth": 0,
             "ticks": ""
            },
            "colorscale": [
             [
              0,
              "#0d0887"
             ],
             [
              0.1111111111111111,
              "#46039f"
             ],
             [
              0.2222222222222222,
              "#7201a8"
             ],
             [
              0.3333333333333333,
              "#9c179e"
             ],
             [
              0.4444444444444444,
              "#bd3786"
             ],
             [
              0.5555555555555556,
              "#d8576b"
             ],
             [
              0.6666666666666666,
              "#ed7953"
             ],
             [
              0.7777777777777778,
              "#fb9f3a"
             ],
             [
              0.8888888888888888,
              "#fdca26"
             ],
             [
              1,
              "#f0f921"
             ]
            ],
            "type": "surface"
           }
          ],
          "table": [
           {
            "cells": {
             "fill": {
              "color": "#EBF0F8"
             },
             "line": {
              "color": "white"
             }
            },
            "header": {
             "fill": {
              "color": "#C8D4E3"
             },
             "line": {
              "color": "white"
             }
            },
            "type": "table"
           }
          ]
         },
         "layout": {
          "annotationdefaults": {
           "arrowcolor": "#2a3f5f",
           "arrowhead": 0,
           "arrowwidth": 1
          },
          "autotypenumbers": "strict",
          "coloraxis": {
           "colorbar": {
            "outlinewidth": 0,
            "ticks": ""
           }
          },
          "colorscale": {
           "diverging": [
            [
             0,
             "#8e0152"
            ],
            [
             0.1,
             "#c51b7d"
            ],
            [
             0.2,
             "#de77ae"
            ],
            [
             0.3,
             "#f1b6da"
            ],
            [
             0.4,
             "#fde0ef"
            ],
            [
             0.5,
             "#f7f7f7"
            ],
            [
             0.6,
             "#e6f5d0"
            ],
            [
             0.7,
             "#b8e186"
            ],
            [
             0.8,
             "#7fbc41"
            ],
            [
             0.9,
             "#4d9221"
            ],
            [
             1,
             "#276419"
            ]
           ],
           "sequential": [
            [
             0,
             "#0d0887"
            ],
            [
             0.1111111111111111,
             "#46039f"
            ],
            [
             0.2222222222222222,
             "#7201a8"
            ],
            [
             0.3333333333333333,
             "#9c179e"
            ],
            [
             0.4444444444444444,
             "#bd3786"
            ],
            [
             0.5555555555555556,
             "#d8576b"
            ],
            [
             0.6666666666666666,
             "#ed7953"
            ],
            [
             0.7777777777777778,
             "#fb9f3a"
            ],
            [
             0.8888888888888888,
             "#fdca26"
            ],
            [
             1,
             "#f0f921"
            ]
           ],
           "sequentialminus": [
            [
             0,
             "#0d0887"
            ],
            [
             0.1111111111111111,
             "#46039f"
            ],
            [
             0.2222222222222222,
             "#7201a8"
            ],
            [
             0.3333333333333333,
             "#9c179e"
            ],
            [
             0.4444444444444444,
             "#bd3786"
            ],
            [
             0.5555555555555556,
             "#d8576b"
            ],
            [
             0.6666666666666666,
             "#ed7953"
            ],
            [
             0.7777777777777778,
             "#fb9f3a"
            ],
            [
             0.8888888888888888,
             "#fdca26"
            ],
            [
             1,
             "#f0f921"
            ]
           ]
          },
          "colorway": [
           "#636efa",
           "#EF553B",
           "#00cc96",
           "#ab63fa",
           "#FFA15A",
           "#19d3f3",
           "#FF6692",
           "#B6E880",
           "#FF97FF",
           "#FECB52"
          ],
          "font": {
           "color": "#2a3f5f"
          },
          "geo": {
           "bgcolor": "white",
           "lakecolor": "white",
           "landcolor": "#E5ECF6",
           "showlakes": true,
           "showland": true,
           "subunitcolor": "white"
          },
          "hoverlabel": {
           "align": "left"
          },
          "hovermode": "closest",
          "mapbox": {
           "style": "light"
          },
          "paper_bgcolor": "white",
          "plot_bgcolor": "#E5ECF6",
          "polar": {
           "angularaxis": {
            "gridcolor": "white",
            "linecolor": "white",
            "ticks": ""
           },
           "bgcolor": "#E5ECF6",
           "radialaxis": {
            "gridcolor": "white",
            "linecolor": "white",
            "ticks": ""
           }
          },
          "scene": {
           "xaxis": {
            "backgroundcolor": "#E5ECF6",
            "gridcolor": "white",
            "gridwidth": 2,
            "linecolor": "white",
            "showbackground": true,
            "ticks": "",
            "zerolinecolor": "white"
           },
           "yaxis": {
            "backgroundcolor": "#E5ECF6",
            "gridcolor": "white",
            "gridwidth": 2,
            "linecolor": "white",
            "showbackground": true,
            "ticks": "",
            "zerolinecolor": "white"
           },
           "zaxis": {
            "backgroundcolor": "#E5ECF6",
            "gridcolor": "white",
            "gridwidth": 2,
            "linecolor": "white",
            "showbackground": true,
            "ticks": "",
            "zerolinecolor": "white"
           }
          },
          "shapedefaults": {
           "line": {
            "color": "#2a3f5f"
           }
          },
          "ternary": {
           "aaxis": {
            "gridcolor": "white",
            "linecolor": "white",
            "ticks": ""
           },
           "baxis": {
            "gridcolor": "white",
            "linecolor": "white",
            "ticks": ""
           },
           "bgcolor": "#E5ECF6",
           "caxis": {
            "gridcolor": "white",
            "linecolor": "white",
            "ticks": ""
           }
          },
          "title": {
           "x": 0.05
          },
          "xaxis": {
           "automargin": true,
           "gridcolor": "white",
           "linecolor": "white",
           "ticks": "",
           "title": {
            "standoff": 15
           },
           "zerolinecolor": "white",
           "zerolinewidth": 2
          },
          "yaxis": {
           "automargin": true,
           "gridcolor": "white",
           "linecolor": "white",
           "ticks": "",
           "title": {
            "standoff": 15
           },
           "zerolinecolor": "white",
           "zerolinewidth": 2
          }
         }
        },
        "title": {
         "text": "Social Media campaign performance by campaign type with signup rate"
        },
        "xaxis": {
         "anchor": "y",
         "domain": [
          0,
          1
         ],
         "title": {
          "text": "campaign_type"
         }
        },
        "yaxis": {
         "anchor": "x",
         "domain": [
          0,
          1
         ],
         "title": {
          "text": "signup_rate"
         }
        }
       }
      }
     },
     "metadata": {},
     "output_type": "display_data"
    }
   ],
   "source": [
    "fig = px.bar(data_frame=df_campaign_plat_reset[df_campaign_plat_reset['platform']==\"Social Media\"].sort_values(by=\"click_through_rate\", ascending=False),\n",
    "             x='campaign_type',\n",
    "             y='signup_rate',\n",
    "             title=\"Social Media campaign performance by campaign type with signup rate\")\n",
    "\n",
    "fig.show()\n",
    "fig.write_image(r'../plots/social media campaign performance by campaign type with signup rate.png')"
   ]
  },
  {
   "cell_type": "code",
   "execution_count": 60,
   "metadata": {},
   "outputs": [
    {
     "data": {
      "application/vnd.plotly.v1+json": {
       "config": {
        "plotlyServerURL": "https://plot.ly"
       },
       "data": [
        {
         "alignmentgroup": "True",
         "hovertemplate": "campaign_type=%{x}<br>click_through_rate=%{y}<extra></extra>",
         "legendgroup": "",
         "marker": {
          "color": "#636efa",
          "pattern": {
           "shape": ""
          }
         },
         "name": "",
         "offsetgroup": "",
         "orientation": "v",
         "showlegend": false,
         "textposition": "auto",
         "type": "bar",
         "x": [
          "Covid Awareness",
          "Offer Announcement",
          "Policy Information",
          "Product Promotion",
          "Health Tips",
          "Customer Testimonial"
         ],
         "xaxis": "x",
         "y": [
          13.119785272882378,
          12.676659144374144,
          9.810019891439937,
          7.812528129061837,
          6.466688662530681,
          3.693728357060408
         ],
         "yaxis": "y"
        }
       ],
       "layout": {
        "barmode": "relative",
        "legend": {
         "tracegroupgap": 0
        },
        "template": {
         "data": {
          "bar": [
           {
            "error_x": {
             "color": "#2a3f5f"
            },
            "error_y": {
             "color": "#2a3f5f"
            },
            "marker": {
             "line": {
              "color": "#E5ECF6",
              "width": 0.5
             },
             "pattern": {
              "fillmode": "overlay",
              "size": 10,
              "solidity": 0.2
             }
            },
            "type": "bar"
           }
          ],
          "barpolar": [
           {
            "marker": {
             "line": {
              "color": "#E5ECF6",
              "width": 0.5
             },
             "pattern": {
              "fillmode": "overlay",
              "size": 10,
              "solidity": 0.2
             }
            },
            "type": "barpolar"
           }
          ],
          "carpet": [
           {
            "aaxis": {
             "endlinecolor": "#2a3f5f",
             "gridcolor": "white",
             "linecolor": "white",
             "minorgridcolor": "white",
             "startlinecolor": "#2a3f5f"
            },
            "baxis": {
             "endlinecolor": "#2a3f5f",
             "gridcolor": "white",
             "linecolor": "white",
             "minorgridcolor": "white",
             "startlinecolor": "#2a3f5f"
            },
            "type": "carpet"
           }
          ],
          "choropleth": [
           {
            "colorbar": {
             "outlinewidth": 0,
             "ticks": ""
            },
            "type": "choropleth"
           }
          ],
          "contour": [
           {
            "colorbar": {
             "outlinewidth": 0,
             "ticks": ""
            },
            "colorscale": [
             [
              0,
              "#0d0887"
             ],
             [
              0.1111111111111111,
              "#46039f"
             ],
             [
              0.2222222222222222,
              "#7201a8"
             ],
             [
              0.3333333333333333,
              "#9c179e"
             ],
             [
              0.4444444444444444,
              "#bd3786"
             ],
             [
              0.5555555555555556,
              "#d8576b"
             ],
             [
              0.6666666666666666,
              "#ed7953"
             ],
             [
              0.7777777777777778,
              "#fb9f3a"
             ],
             [
              0.8888888888888888,
              "#fdca26"
             ],
             [
              1,
              "#f0f921"
             ]
            ],
            "type": "contour"
           }
          ],
          "contourcarpet": [
           {
            "colorbar": {
             "outlinewidth": 0,
             "ticks": ""
            },
            "type": "contourcarpet"
           }
          ],
          "heatmap": [
           {
            "colorbar": {
             "outlinewidth": 0,
             "ticks": ""
            },
            "colorscale": [
             [
              0,
              "#0d0887"
             ],
             [
              0.1111111111111111,
              "#46039f"
             ],
             [
              0.2222222222222222,
              "#7201a8"
             ],
             [
              0.3333333333333333,
              "#9c179e"
             ],
             [
              0.4444444444444444,
              "#bd3786"
             ],
             [
              0.5555555555555556,
              "#d8576b"
             ],
             [
              0.6666666666666666,
              "#ed7953"
             ],
             [
              0.7777777777777778,
              "#fb9f3a"
             ],
             [
              0.8888888888888888,
              "#fdca26"
             ],
             [
              1,
              "#f0f921"
             ]
            ],
            "type": "heatmap"
           }
          ],
          "heatmapgl": [
           {
            "colorbar": {
             "outlinewidth": 0,
             "ticks": ""
            },
            "colorscale": [
             [
              0,
              "#0d0887"
             ],
             [
              0.1111111111111111,
              "#46039f"
             ],
             [
              0.2222222222222222,
              "#7201a8"
             ],
             [
              0.3333333333333333,
              "#9c179e"
             ],
             [
              0.4444444444444444,
              "#bd3786"
             ],
             [
              0.5555555555555556,
              "#d8576b"
             ],
             [
              0.6666666666666666,
              "#ed7953"
             ],
             [
              0.7777777777777778,
              "#fb9f3a"
             ],
             [
              0.8888888888888888,
              "#fdca26"
             ],
             [
              1,
              "#f0f921"
             ]
            ],
            "type": "heatmapgl"
           }
          ],
          "histogram": [
           {
            "marker": {
             "pattern": {
              "fillmode": "overlay",
              "size": 10,
              "solidity": 0.2
             }
            },
            "type": "histogram"
           }
          ],
          "histogram2d": [
           {
            "colorbar": {
             "outlinewidth": 0,
             "ticks": ""
            },
            "colorscale": [
             [
              0,
              "#0d0887"
             ],
             [
              0.1111111111111111,
              "#46039f"
             ],
             [
              0.2222222222222222,
              "#7201a8"
             ],
             [
              0.3333333333333333,
              "#9c179e"
             ],
             [
              0.4444444444444444,
              "#bd3786"
             ],
             [
              0.5555555555555556,
              "#d8576b"
             ],
             [
              0.6666666666666666,
              "#ed7953"
             ],
             [
              0.7777777777777778,
              "#fb9f3a"
             ],
             [
              0.8888888888888888,
              "#fdca26"
             ],
             [
              1,
              "#f0f921"
             ]
            ],
            "type": "histogram2d"
           }
          ],
          "histogram2dcontour": [
           {
            "colorbar": {
             "outlinewidth": 0,
             "ticks": ""
            },
            "colorscale": [
             [
              0,
              "#0d0887"
             ],
             [
              0.1111111111111111,
              "#46039f"
             ],
             [
              0.2222222222222222,
              "#7201a8"
             ],
             [
              0.3333333333333333,
              "#9c179e"
             ],
             [
              0.4444444444444444,
              "#bd3786"
             ],
             [
              0.5555555555555556,
              "#d8576b"
             ],
             [
              0.6666666666666666,
              "#ed7953"
             ],
             [
              0.7777777777777778,
              "#fb9f3a"
             ],
             [
              0.8888888888888888,
              "#fdca26"
             ],
             [
              1,
              "#f0f921"
             ]
            ],
            "type": "histogram2dcontour"
           }
          ],
          "mesh3d": [
           {
            "colorbar": {
             "outlinewidth": 0,
             "ticks": ""
            },
            "type": "mesh3d"
           }
          ],
          "parcoords": [
           {
            "line": {
             "colorbar": {
              "outlinewidth": 0,
              "ticks": ""
             }
            },
            "type": "parcoords"
           }
          ],
          "pie": [
           {
            "automargin": true,
            "type": "pie"
           }
          ],
          "scatter": [
           {
            "fillpattern": {
             "fillmode": "overlay",
             "size": 10,
             "solidity": 0.2
            },
            "type": "scatter"
           }
          ],
          "scatter3d": [
           {
            "line": {
             "colorbar": {
              "outlinewidth": 0,
              "ticks": ""
             }
            },
            "marker": {
             "colorbar": {
              "outlinewidth": 0,
              "ticks": ""
             }
            },
            "type": "scatter3d"
           }
          ],
          "scattercarpet": [
           {
            "marker": {
             "colorbar": {
              "outlinewidth": 0,
              "ticks": ""
             }
            },
            "type": "scattercarpet"
           }
          ],
          "scattergeo": [
           {
            "marker": {
             "colorbar": {
              "outlinewidth": 0,
              "ticks": ""
             }
            },
            "type": "scattergeo"
           }
          ],
          "scattergl": [
           {
            "marker": {
             "colorbar": {
              "outlinewidth": 0,
              "ticks": ""
             }
            },
            "type": "scattergl"
           }
          ],
          "scattermapbox": [
           {
            "marker": {
             "colorbar": {
              "outlinewidth": 0,
              "ticks": ""
             }
            },
            "type": "scattermapbox"
           }
          ],
          "scatterpolar": [
           {
            "marker": {
             "colorbar": {
              "outlinewidth": 0,
              "ticks": ""
             }
            },
            "type": "scatterpolar"
           }
          ],
          "scatterpolargl": [
           {
            "marker": {
             "colorbar": {
              "outlinewidth": 0,
              "ticks": ""
             }
            },
            "type": "scatterpolargl"
           }
          ],
          "scatterternary": [
           {
            "marker": {
             "colorbar": {
              "outlinewidth": 0,
              "ticks": ""
             }
            },
            "type": "scatterternary"
           }
          ],
          "surface": [
           {
            "colorbar": {
             "outlinewidth": 0,
             "ticks": ""
            },
            "colorscale": [
             [
              0,
              "#0d0887"
             ],
             [
              0.1111111111111111,
              "#46039f"
             ],
             [
              0.2222222222222222,
              "#7201a8"
             ],
             [
              0.3333333333333333,
              "#9c179e"
             ],
             [
              0.4444444444444444,
              "#bd3786"
             ],
             [
              0.5555555555555556,
              "#d8576b"
             ],
             [
              0.6666666666666666,
              "#ed7953"
             ],
             [
              0.7777777777777778,
              "#fb9f3a"
             ],
             [
              0.8888888888888888,
              "#fdca26"
             ],
             [
              1,
              "#f0f921"
             ]
            ],
            "type": "surface"
           }
          ],
          "table": [
           {
            "cells": {
             "fill": {
              "color": "#EBF0F8"
             },
             "line": {
              "color": "white"
             }
            },
            "header": {
             "fill": {
              "color": "#C8D4E3"
             },
             "line": {
              "color": "white"
             }
            },
            "type": "table"
           }
          ]
         },
         "layout": {
          "annotationdefaults": {
           "arrowcolor": "#2a3f5f",
           "arrowhead": 0,
           "arrowwidth": 1
          },
          "autotypenumbers": "strict",
          "coloraxis": {
           "colorbar": {
            "outlinewidth": 0,
            "ticks": ""
           }
          },
          "colorscale": {
           "diverging": [
            [
             0,
             "#8e0152"
            ],
            [
             0.1,
             "#c51b7d"
            ],
            [
             0.2,
             "#de77ae"
            ],
            [
             0.3,
             "#f1b6da"
            ],
            [
             0.4,
             "#fde0ef"
            ],
            [
             0.5,
             "#f7f7f7"
            ],
            [
             0.6,
             "#e6f5d0"
            ],
            [
             0.7,
             "#b8e186"
            ],
            [
             0.8,
             "#7fbc41"
            ],
            [
             0.9,
             "#4d9221"
            ],
            [
             1,
             "#276419"
            ]
           ],
           "sequential": [
            [
             0,
             "#0d0887"
            ],
            [
             0.1111111111111111,
             "#46039f"
            ],
            [
             0.2222222222222222,
             "#7201a8"
            ],
            [
             0.3333333333333333,
             "#9c179e"
            ],
            [
             0.4444444444444444,
             "#bd3786"
            ],
            [
             0.5555555555555556,
             "#d8576b"
            ],
            [
             0.6666666666666666,
             "#ed7953"
            ],
            [
             0.7777777777777778,
             "#fb9f3a"
            ],
            [
             0.8888888888888888,
             "#fdca26"
            ],
            [
             1,
             "#f0f921"
            ]
           ],
           "sequentialminus": [
            [
             0,
             "#0d0887"
            ],
            [
             0.1111111111111111,
             "#46039f"
            ],
            [
             0.2222222222222222,
             "#7201a8"
            ],
            [
             0.3333333333333333,
             "#9c179e"
            ],
            [
             0.4444444444444444,
             "#bd3786"
            ],
            [
             0.5555555555555556,
             "#d8576b"
            ],
            [
             0.6666666666666666,
             "#ed7953"
            ],
            [
             0.7777777777777778,
             "#fb9f3a"
            ],
            [
             0.8888888888888888,
             "#fdca26"
            ],
            [
             1,
             "#f0f921"
            ]
           ]
          },
          "colorway": [
           "#636efa",
           "#EF553B",
           "#00cc96",
           "#ab63fa",
           "#FFA15A",
           "#19d3f3",
           "#FF6692",
           "#B6E880",
           "#FF97FF",
           "#FECB52"
          ],
          "font": {
           "color": "#2a3f5f"
          },
          "geo": {
           "bgcolor": "white",
           "lakecolor": "white",
           "landcolor": "#E5ECF6",
           "showlakes": true,
           "showland": true,
           "subunitcolor": "white"
          },
          "hoverlabel": {
           "align": "left"
          },
          "hovermode": "closest",
          "mapbox": {
           "style": "light"
          },
          "paper_bgcolor": "white",
          "plot_bgcolor": "#E5ECF6",
          "polar": {
           "angularaxis": {
            "gridcolor": "white",
            "linecolor": "white",
            "ticks": ""
           },
           "bgcolor": "#E5ECF6",
           "radialaxis": {
            "gridcolor": "white",
            "linecolor": "white",
            "ticks": ""
           }
          },
          "scene": {
           "xaxis": {
            "backgroundcolor": "#E5ECF6",
            "gridcolor": "white",
            "gridwidth": 2,
            "linecolor": "white",
            "showbackground": true,
            "ticks": "",
            "zerolinecolor": "white"
           },
           "yaxis": {
            "backgroundcolor": "#E5ECF6",
            "gridcolor": "white",
            "gridwidth": 2,
            "linecolor": "white",
            "showbackground": true,
            "ticks": "",
            "zerolinecolor": "white"
           },
           "zaxis": {
            "backgroundcolor": "#E5ECF6",
            "gridcolor": "white",
            "gridwidth": 2,
            "linecolor": "white",
            "showbackground": true,
            "ticks": "",
            "zerolinecolor": "white"
           }
          },
          "shapedefaults": {
           "line": {
            "color": "#2a3f5f"
           }
          },
          "ternary": {
           "aaxis": {
            "gridcolor": "white",
            "linecolor": "white",
            "ticks": ""
           },
           "baxis": {
            "gridcolor": "white",
            "linecolor": "white",
            "ticks": ""
           },
           "bgcolor": "#E5ECF6",
           "caxis": {
            "gridcolor": "white",
            "linecolor": "white",
            "ticks": ""
           }
          },
          "title": {
           "x": 0.05
          },
          "xaxis": {
           "automargin": true,
           "gridcolor": "white",
           "linecolor": "white",
           "ticks": "",
           "title": {
            "standoff": 15
           },
           "zerolinecolor": "white",
           "zerolinewidth": 2
          },
          "yaxis": {
           "automargin": true,
           "gridcolor": "white",
           "linecolor": "white",
           "ticks": "",
           "title": {
            "standoff": 15
           },
           "zerolinecolor": "white",
           "zerolinewidth": 2
          }
         }
        },
        "title": {
         "text": "Social Media campaign performance by campaign type with CTR"
        },
        "xaxis": {
         "anchor": "y",
         "domain": [
          0,
          1
         ],
         "title": {
          "text": "campaign_type"
         }
        },
        "yaxis": {
         "anchor": "x",
         "domain": [
          0,
          1
         ],
         "title": {
          "text": "click_through_rate"
         }
        }
       }
      }
     },
     "metadata": {},
     "output_type": "display_data"
    }
   ],
   "source": [
    "fig = px.bar(data_frame=df_campaign_plat_reset[df_campaign_plat_reset['platform']==\"Social Media\"].sort_values(by=\"click_through_rate\", ascending=False),\n",
    "             x='campaign_type',\n",
    "             y='click_through_rate',\n",
    "             title=\"Social Media campaign performance by campaign type with CTR\")\n",
    "\n",
    "fig.show()\n",
    "fig.write_image(r'../plots/social media campaign performance by campaign type with CTR.png')"
   ]
  },
  {
   "cell_type": "markdown",
   "metadata": {},
   "source": [
    "### Covid Awareness campaign through social media paltform does seem to do very well in terms of CTR with 13.119%, but if we look at the number of signups, the number is very negligible 47 compared to product promotion with 3781. But in terms of brand awareness Covid Awareness and Offer Announcement seems to do well with 13.11% and 12.67%. In terms of signups, Product promotion is ahead with 0.46% and 3781 signups, also CAC is 0.78$, followed by Policy Information with 2745 signups and 0.92$ CAC. "
   ]
  },
  {
   "cell_type": "markdown",
   "metadata": {},
   "source": []
  },
  {
   "cell_type": "code",
   "execution_count": null,
   "metadata": {},
   "outputs": [
    {
     "ename": "",
     "evalue": "",
     "output_type": "error",
     "traceback": [
      "\u001b[1;31mRunning cells with '.venv (Python 3.12.4)' requires the ipykernel package.\n",
      "\u001b[1;31mRun the following command to install 'ipykernel' into the Python environment. \n",
      "\u001b[1;31mCommand: 'c:/Users/karthikeya/health_tech_analytics/.venv/Scripts/python.exe -m pip install ipykernel -U --force-reinstall'"
     ]
    }
   ],
   "source": [
    "fig = px.pie(\n",
    "    data_frame=df_campaign_plat_reset[df_campaign_plat_reset['platform']==\"Social Media\"].sort_values(by=\"click_through_rate\",ascending=False),\n",
    "    values=\"click_through_rate\",\n",
    "    names=\"campaign_type\",\n",
    "    title=\" CTR for different types of campaigns through Social Media\"\n",
    ")\n",
    "fig.show()\n",
    "fig.write_html(r'C:\\Users\\karthikeya\\health_tech_analytics\\plots\\CTR for different types of campaigns through Social Media.html')\n",
    "fig.write_image(r'C:\\Users\\karthikeya\\health_tech_analytics\\plots\\CTR for different types of campaigns through Social Media.png')"
   ]
  },
  {
   "cell_type": "markdown",
   "metadata": {},
   "source": [
    "### To acquire customers we need to invest in campaigns in which signups is high. In this, we can see, in social media platform, product promotion campagin type have the highest signups,"
   ]
  },
  {
   "cell_type": "code",
   "execution_count": null,
   "metadata": {},
   "outputs": [
    {
     "ename": "",
     "evalue": "",
     "output_type": "error",
     "traceback": [
      "\u001b[1;31mRunning cells with '.venv (Python 3.12.4)' requires the ipykernel package.\n",
      "\u001b[1;31mRun the following command to install 'ipykernel' into the Python environment. \n",
      "\u001b[1;31mCommand: 'c:/Users/karthikeya/health_tech_analytics/.venv/Scripts/python.exe -m pip install ipykernel -U --force-reinstall'"
     ]
    }
   ],
   "source": [
    "df_platform['signup_rate'] = df_platform['num_signups']/df_platform['impressions']*100\n",
    "df_platform.sort_values(by=[\"num_signups\",\"customer_acquisition_cost\"],ascending=False)"
   ]
  },
  {
   "cell_type": "markdown",
   "metadata": {},
   "source": [
    "### Just by counting the number of signups coming from TV, we need to evaluate more than this while allocating the budget to TV platfor. But if we have to go with the numbers present here, it is recommended to stop TV campaigns as we spend not so high on TV but even that is not contributing much to signup rates"
   ]
  },
  {
   "cell_type": "code",
   "execution_count": null,
   "metadata": {},
   "outputs": [
    {
     "ename": "",
     "evalue": "",
     "output_type": "error",
     "traceback": [
      "\u001b[1;31mRunning cells with '.venv (Python 3.12.4)' requires the ipykernel package.\n",
      "\u001b[1;31mRun the following command to install 'ipykernel' into the Python environment. \n",
      "\u001b[1;31mCommand: 'c:/Users/karthikeya/health_tech_analytics/.venv/Scripts/python.exe -m pip install ipykernel -U --force-reinstall'"
     ]
    }
   ],
   "source": [
    "fig = px.bar(data_frame=df_platform.reset_index(),\n",
    "             x=\"platform\",\n",
    "             color=\"cost\",\n",
    "             y =\"num_signups\",\n",
    "             title=\"Number of signups across different platforms\"\n",
    ")\n",
    "fig.show()\n",
    "fig.write_html(r'C:\\Users\\karthikeya\\health_tech_analytics\\plots\\signups across different platforms.html')\n",
    "fig.write_image(r'C:\\Users\\karthikeya\\health_tech_analytics\\plots\\signups across different platforms.png')"
   ]
  },
  {
   "cell_type": "code",
   "execution_count": null,
   "metadata": {},
   "outputs": [
    {
     "ename": "",
     "evalue": "",
     "output_type": "error",
     "traceback": [
      "\u001b[1;31mRunning cells with '.venv (Python 3.12.4)' requires the ipykernel package.\n",
      "\u001b[1;31mRun the following command to install 'ipykernel' into the Python environment. \n",
      "\u001b[1;31mCommand: 'c:/Users/karthikeya/health_tech_analytics/.venv/Scripts/python.exe -m pip install ipykernel -U --force-reinstall'"
     ]
    }
   ],
   "source": []
  },
  {
   "cell_type": "code",
   "execution_count": null,
   "metadata": {},
   "outputs": [],
   "source": []
  },
  {
   "cell_type": "code",
   "execution_count": null,
   "metadata": {},
   "outputs": [],
   "source": []
  },
  {
   "cell_type": "code",
   "execution_count": null,
   "metadata": {},
   "outputs": [],
   "source": []
  }
 ],
 "metadata": {
  "kernelspec": {
   "display_name": "base",
   "language": "python",
   "name": "python3"
  },
  "language_info": {
   "codemirror_mode": {
    "name": "ipython",
    "version": 3
   },
   "file_extension": ".py",
   "mimetype": "text/x-python",
   "name": "python",
   "nbconvert_exporter": "python",
   "pygments_lexer": "ipython3",
   "version": "3.12.4"
  }
 },
 "nbformat": 4,
 "nbformat_minor": 2
}
